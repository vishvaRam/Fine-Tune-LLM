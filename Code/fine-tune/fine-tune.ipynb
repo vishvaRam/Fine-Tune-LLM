{
 "cells": [
  {
   "cell_type": "markdown",
   "id": "3daa2692",
   "metadata": {},
   "source": [
    "# RBI LLM Fine-Tuning\n",
    "\n",
    "This notebook contains the code for fine-tuning a language model on RBI (Reserve Bank of India) banking regulations and circulars. The model will be trained to answer questions related to Indian banking regulations."
   ]
  },
  {
   "cell_type": "markdown",
   "id": "e204533d",
   "metadata": {},
   "source": [
    "## Setup and Imports\n",
    "\n",
    "Importing necessary libraries and setting up environment variables."
   ]
  },
  {
   "cell_type": "code",
   "execution_count": 1,
   "id": "0437999d-1416-4ac6-841b-ac966386a177",
   "metadata": {},
   "outputs": [],
   "source": [
    "# !pip install transformers hf_transfer datasets peft matplotlib bitsandbytes"
   ]
  },
  {
   "cell_type": "code",
   "execution_count": 2,
   "id": "d81bc904-e8f1-441a-89dd-aec27286f825",
   "metadata": {},
   "outputs": [],
   "source": [
    "# pip install flash-attn --no-build-isolation"
   ]
  },
  {
   "cell_type": "code",
   "execution_count": 3,
   "id": "f2edd78e-4204-45f1-a2d3-0cf8b3f9189d",
   "metadata": {},
   "outputs": [],
   "source": [
    "# pip uninstall accelerate -y"
   ]
  },
  {
   "cell_type": "code",
   "execution_count": 4,
   "id": "b98ccd0f-7696-48a1-8857-add44752b378",
   "metadata": {},
   "outputs": [],
   "source": [
    "# pip install git+https://github.com/huggingface/accelerate.git"
   ]
  },
  {
   "cell_type": "code",
   "execution_count": 5,
   "id": "7c1cc67f",
   "metadata": {},
   "outputs": [],
   "source": [
    "import torch\n",
    "import torch.nn as nn\n",
    "from datasets import load_dataset\n",
    "from transformers import (\n",
    "    AutoModelForCausalLM,\n",
    "    AutoTokenizer,\n",
    "    TrainingArguments,\n",
    "    Trainer,\n",
    "    DataCollatorForLanguageModeling,\n",
    "    BitsAndBytesConfig,\n",
    "    EarlyStoppingCallback\n",
    ")\n",
    "from peft import LoraConfig, get_peft_model, prepare_model_for_kbit_training\n",
    "import matplotlib.pyplot as plt\n",
    "import os\n",
    "# from rich import print\n",
    "# from dotenv import load_dotenv\n",
    "# load_dotenv()"
   ]
  },
  {
   "cell_type": "code",
   "execution_count": 6,
   "id": "a5eda30d",
   "metadata": {},
   "outputs": [],
   "source": [
    "MODEL_NAME = \"Qwen/Qwen2.5-3B-Instruct\"\n",
    "MODEL_PATH = \"./Models\"\n",
    "MODEL_OUTPUT_DIR = \"./Models/Qwen2.5-3B-Instruct-RBI-QA\"\n",
    "DATASET_NAME = \"Vishva007/RBI-Circular-QA-Dataset\"\n",
    "MODEL_ADOPTOR_REPO_ID = \"Vishva007/Qwen2.5-3B-Instruct-RBI-QA-Adoptor\"\n",
    "SEED = 42# type: ignore"
   ]
  },
  {
   "cell_type": "code",
   "execution_count": 7,
   "id": "07b9494d",
   "metadata": {},
   "outputs": [],
   "source": [
    "os.environ['PYTORCH_CUDA_ALLOC_CONF'] = 'expandable_segments:True'\n",
    "os.environ['HF_HUB_ENABLE_HF_TRANSFER'] = '1'\n",
    "os.environ['TOKENIZERS_PARALLELISM'] = 'true'"
   ]
  },
  {
   "cell_type": "code",
   "execution_count": 8,
   "id": "66ad36cc",
   "metadata": {},
   "outputs": [
    {
     "name": "stdout",
     "output_type": "stream",
     "text": [
      "GPU is Used!\n"
     ]
    }
   ],
   "source": [
    "if not torch.cuda.is_available():\n",
    "    print(\"CUDA not available, using CPU. This will be very slow.\")\n",
    "    device_map = \"cpu\"\n",
    "else:\n",
    "    device_map = \"auto\"\n",
    "    print(\"GPU is Used!\")"
   ]
  },
  {
   "cell_type": "code",
   "execution_count": 9,
   "id": "53cea844",
   "metadata": {},
   "outputs": [
    {
     "data": {
      "application/vnd.jupyter.widget-view+json": {
       "model_id": "269ff2caa7c54050ba0d4842e93ca551",
       "version_major": 2,
       "version_minor": 0
      },
      "text/plain": [
       "tokenizer_config.json:   0%|          | 0.00/7.30k [00:00<?, ?B/s]"
      ]
     },
     "metadata": {},
     "output_type": "display_data"
    },
    {
     "data": {
      "application/vnd.jupyter.widget-view+json": {
       "model_id": "0470db92b321472486f6ddae237ab14d",
       "version_major": 2,
       "version_minor": 0
      },
      "text/plain": [
       "vocab.json:   0%|          | 0.00/2.78M [00:00<?, ?B/s]"
      ]
     },
     "metadata": {},
     "output_type": "display_data"
    },
    {
     "data": {
      "application/vnd.jupyter.widget-view+json": {
       "model_id": "fd60a25c3fb14419ab7b57bc953ce2bf",
       "version_major": 2,
       "version_minor": 0
      },
      "text/plain": [
       "merges.txt:   0%|          | 0.00/1.67M [00:00<?, ?B/s]"
      ]
     },
     "metadata": {},
     "output_type": "display_data"
    },
    {
     "data": {
      "application/vnd.jupyter.widget-view+json": {
       "model_id": "fa46970ca5ba449590960c40b93cff2b",
       "version_major": 2,
       "version_minor": 0
      },
      "text/plain": [
       "tokenizer.json:   0%|          | 0.00/7.03M [00:00<?, ?B/s]"
      ]
     },
     "metadata": {},
     "output_type": "display_data"
    },
    {
     "name": "stdout",
     "output_type": "stream",
     "text": [
      "Before : <|endoftext|>\n",
      "After : <|im_end|>\n"
     ]
    }
   ],
   "source": [
    "tokenizer = AutoTokenizer.from_pretrained(MODEL_NAME, use_fast=True, trust_remote_code=True,cache_dir=MODEL_PATH)\n",
    "print(f\"Before : {tokenizer.pad_token}\")\n",
    "tokenizer.pad_token = tokenizer.eos_token  # Set pad token if it's missing\n",
    "tokenizer.padding_side = \"left\"  # IMPORTANT: Set padding_side to 'left' BEFORE tokenizing\n",
    "print(f\"After : {tokenizer.pad_token}\")"
   ]
  },
  {
   "cell_type": "markdown",
   "id": "03f0b059",
   "metadata": {},
   "source": [
    "## Dataset Preparation\n",
    "\n",
    "Loading and preparing the dataset containing RBI circulars and question-answer pairs."
   ]
  },
  {
   "cell_type": "code",
   "execution_count": 10,
   "id": "1b602242",
   "metadata": {},
   "outputs": [
    {
     "name": "stdout",
     "output_type": "stream",
     "text": [
      "Dataset loaded with 5000 samples.\n",
      "Dataset({\n",
      "    features: ['document', 'filename', 'model_name', 'regulation_area', 'applicable_to', 'issued_on', 'key_topics', 'chunks_text', 'is_table', 'question', 'answer', 'evaluation_criteria', 'category', 'estimated_difficulty', 'rephrased_question', 'rephrased_answer'],\n",
      "    num_rows: 5000\n",
      "})\n"
     ]
    }
   ],
   "source": [
    "dataset = load_dataset(DATASET_NAME, split=\"train[:5000]\") # type: ignore\n",
    "print(f\"Dataset loaded with {len(dataset)} samples.\") # type: ignore\n",
    "print(dataset)"
   ]
  },
  {
   "cell_type": "code",
   "execution_count": 11,
   "id": "9869ba10",
   "metadata": {},
   "outputs": [],
   "source": [
    "sys_prompt = \"\"\"\n",
    "You are a highly knowledgeable AI assistant with expertise in Indian banking and financial regulations, \n",
    "particularly those outlined in Reserve Bank of India (RBI) circulars.\n",
    "Your task is to answer questions based on the RBI circulars and related financial regulations.\n",
    "\"\"\"\n",
    "\n",
    "def format_data(sample):\n",
    "    messages = [\n",
    "        {\"role\": \"system\", \"content\": sys_prompt},\n",
    "        {\"role\": \"user\", \"content\": sample[\"question\"]},\n",
    "        {\"role\": \"assistant\", \"content\": sample[\"answer\"]}\n",
    "    ]\n",
    "    # apply_chat_template will convert the list of messages into a single string\n",
    "    # for the model input, adding control tokens like <s> and </s> if the model\n",
    "    # supports them. `tokenize=False` ensures it returns a string, not token IDs.\n",
    "    formatted_prompt = tokenizer.apply_chat_template(messages, tokenize=False, add_generation_prompt=False)\n",
    "    return {\"text\": formatted_prompt}"
   ]
  },
  {
   "cell_type": "code",
   "execution_count": 12,
   "id": "94afbaf2",
   "metadata": {},
   "outputs": [
    {
     "data": {
      "application/vnd.jupyter.widget-view+json": {
       "model_id": "5c02bc0be82b4fa89789e35f8d0616c0",
       "version_major": 2,
       "version_minor": 0
      },
      "text/plain": [
       "Map:   0%|          | 0/5000 [00:00<?, ? examples/s]"
      ]
     },
     "metadata": {},
     "output_type": "display_data"
    },
    {
     "data": {
      "application/vnd.jupyter.widget-view+json": {
       "model_id": "cd9d3f67188847119322913f360b5935",
       "version_major": 2,
       "version_minor": 0
      },
      "text/plain": [
       "Filter:   0%|          | 0/5000 [00:00<?, ? examples/s]"
      ]
     },
     "metadata": {},
     "output_type": "display_data"
    }
   ],
   "source": [
    "dataset = dataset.map(format_data).filter(lambda x: x is not None and x[\"text\"] is not None)"
   ]
  },
  {
   "cell_type": "code",
   "execution_count": 13,
   "id": "a8901f6e",
   "metadata": {},
   "outputs": [
    {
     "name": "stdout",
     "output_type": "stream",
     "text": [
      "<|im_start|>system\n",
      "\n",
      "You are a highly knowledgeable AI assistant with expertise in Indian banking and financial regulations, \n",
      "particularly those outlined in Reserve Bank of India (RBI) circulars.\n",
      "Your task is to answer questions based on the RBI circulars and related financial regulations.\n",
      "<|im_end|>\n",
      "<|im_start|>user\n",
      "What is the procedure for handling foreign investment reporting delays exceeding three years?<|im_end|>\n",
      "<|im_start|>assistant\n",
      "When forms are filed with a delay greater than three years regarding foreign investment reporting, the AD bank will approve the forms subject to compounding of contravention, after which the applicant may approach the RBI with their application for compounding.<|im_end|>\n",
      "\n"
     ]
    }
   ],
   "source": [
    "print(dataset[5]['text'])"
   ]
  },
  {
   "cell_type": "code",
   "execution_count": 14,
   "id": "a9a2264a",
   "metadata": {},
   "outputs": [],
   "source": [
    "def tokenize_function(examples):\n",
    "    # Tokenize the texts with padding and truncation\n",
    "    return tokenizer(examples[\"text\"], padding=\"max_length\", truncation=True, max_length=512)\n"
   ]
  },
  {
   "cell_type": "code",
   "execution_count": 15,
   "id": "391cf0b0",
   "metadata": {},
   "outputs": [
    {
     "data": {
      "application/vnd.jupyter.widget-view+json": {
       "model_id": "818464c332524da9b3191ab470166233",
       "version_major": 2,
       "version_minor": 0
      },
      "text/plain": [
       "Map:   0%|          | 0/5000 [00:00<?, ? examples/s]"
      ]
     },
     "metadata": {},
     "output_type": "display_data"
    }
   ],
   "source": [
    "tokenized_dataset = dataset.map(\n",
    "    tokenize_function,\n",
    "    batched=True,\n",
    "    remove_columns=['document', 'filename', 'model_name', 'regulation_area', 'applicable_to', 'issued_on', 'key_topics',\n",
    "'chunks_text', 'is_table', 'question', 'answer', 'evaluation_criteria', 'category', 'estimated_difficulty', \n",
    "'rephrased_question', 'rephrased_answer','text'],\n",
    ")\n"
   ]
  },
  {
   "cell_type": "code",
   "execution_count": 16,
   "id": "1130ccad",
   "metadata": {},
   "outputs": [],
   "source": [
    "# tokenized_dataset[0] # type: ignore"
   ]
  },
  {
   "cell_type": "code",
   "execution_count": 17,
   "id": "cffa66c5",
   "metadata": {},
   "outputs": [],
   "source": [
    "train_test_split = tokenized_dataset.train_test_split(test_size=0.1, seed=42)\n",
    "train_dataset = train_test_split[\"train\"]\n",
    "eval_dataset = train_test_split[\"test\"]"
   ]
  },
  {
   "cell_type": "code",
   "execution_count": 18,
   "id": "1d559cc8",
   "metadata": {},
   "outputs": [
    {
     "name": "stdout",
     "output_type": "stream",
     "text": [
      "Formatted dataset with 5000 samples.\n",
      "{'document': 'RBI_2022-2023_160A.P. (DIR Series) Circular No. 22_2023-01-04', 'filename': 'RBI_2022-2023_160A.P. (DIR Series) Circular No. 22_2023-01-04_text_part1.txt', 'model_name': 'models/gemini-2.0-flash', 'regulation_area': 'Foreign Investment in India', 'applicable_to': 'All Category-I Authorised Dealer Banks', 'issued_on': '2023-01-04', 'key_topics': ['Rationalisation of reporting in Single Master Form (SMF) on FIRMS Portal', 'Auto-acknowledgement of SMF in FIRMS', 'Online calculation of LSF', 'Late Submission Fee (LSF)'], 'chunks_text': '![](_page_0_Picture_0.jpeg)\\n\\n![](_page_0_Picture_1.jpeg)\\n\\n![](_page_0_Picture_2.jpeg)\\n\\nRBI/2022-23/160 A.P. (DIR Series) Circular No. 22 January 04, 2023\\n\\nTo All Category-I Authorised Dealer Banks\\n\\nMadam / Sir\\n\\n## **Foreign Investment in India - Rationalisation of reporting in Single Master Form (SMF) on FIRMS Portal**\\n\\nAttention of Authorised Dealer Category-I banks (AD banks) is invited to [A.P. \\\\(DIR](https://www.rbi.org.in/Scripts/NotificationUser.aspx?Id=11297&Mode=0)  [Series\\\\) Circular No. 30](https://www.rbi.org.in/Scripts/NotificationUser.aspx?Id=11297&Mode=0) dated June 07, 2018.\\n\\n2. It is advised that the following changes are being implemented with respect to the reporting of foreign investment in SMF on FIRMS portal:\\n\\n- i) The forms submitted on the portal will be auto-acknowledged. The AD banks shall verify the same within five working days based on the uploaded documents, as specified.\\n- ii) In cases of delayed reporting, the AD banks shall either advise the Late Submission Fee (LSF) to the applicants, which will be computed by the system or advise for compounding of contravention, as the case may be.\\n\\nThe salient features of the changes made in the system are given in **[Annex](#page-1-0)** for ready reference. For detailed guidelines, the FIRMS manual available at [https://firms.rbi.org.in](https://firms.rbi.org.in/) may be referred to, and the version of manual available at the portal will have the finality in case of any mismatch.\\n\\n3. The directions contained in this circular have been issued under sections 10(4) and 11(1) of the Foreign Exchange Management Act, 1999 (42 of 1999) and are without prejudice to permissions/approvals, if any, required under any other law.\\n\\nYours faithfully\\n\\n(N. Senthil Kumar) General Manager-in-Charge\\n\\n## <span id=\"page-1-0\"></span>**Auto-acknowledgement of SMF in FIRMS and online calculation of LSF**\\n\\nThe forms submitted in FIRMS will now be processed as detailed below:\\n\\nAll forms submitted with the requisite documents will be auto-acknowledged on the FIRMS portal with a time stamp and an auto-generated e-mail will be sent to the applicant.\\n\\n- i) The forms submitted within prescribed timelines, will be verified by the AD banks based on the uploaded mandatory documents and ensure that the same are in compliance with the extant guidelines.\\n- ii) The system would identify the delay in reporting, if any.\\n- iii) For forms filed with a delay less than or equal to three years, the AD banks will approve the same, subject to payment of LSF.\\n- iv) The LSF will be computed by the system and an e-mail will be sent to the applicant and the concerned Regional Office (RO) of RBI specifying the amount and the timeline within which it is to be paid to the concerned RO of RBI.\\n- v) Once the LSF amount is realised, the concerned RO will update the status in the FIRMS portal and the updated status will be communicated to the applicant through a system generated e-mail, which can also be viewed in the FIRMS portal.\\n- vi) The AD bank will approve the forms filed with a delay greater than three years, subject to compounding of contravention. The applicant may thereafter approach RBI with their application for compounding.\\n- vii) The remarks of the AD Bank for rejection of forms, if any, will be communicated to the applicant through a system generated e-mail and the same can also be viewed in the FIRMS portal.\\n\\n\\\\*\\\\*\\\\*\\\\*\\\\*\\\\*\\\\*\\\\*\\\\*\\\\*\\\\*\\\\*\\\\*\\\\*\\\\*\\\\*\\\\*\\\\*', 'is_table': False, 'question': 'What is the process for auto-acknowledgement and verification of Single Master Form (SMF) submissions for foreign investment reporting in India, and how are delays handled?', 'answer': 'When reporting foreign investment in India through the Single Master Form (SMF) on the FIRMS portal, the forms submitted are auto-acknowledged, and authorized dealer (AD) banks must verify the submissions within five working days based on uploaded documents. For delayed reporting, AD banks must advise the applicant regarding the Late Submission Fee (LSF), which is computed by the system, or advise them to apply for compounding of contravention, if applicable.', 'evaluation_criteria': \"The answer should accurately describe the process of auto-acknowledgement and verification of SMF submissions, including the AD bank's role and the handling of delayed reporting with LSF or compounding.\", 'category': 'fact-based', 'estimated_difficulty': 4, 'rephrased_question': '', 'rephrased_answer': '', 'text': '<|im_start|>system\\n\\nYou are a highly knowledgeable AI assistant with expertise in Indian banking and financial regulations, \\nparticularly those outlined in Reserve Bank of India (RBI) circulars.\\nYour task is to answer questions based on the RBI circulars and related financial regulations.\\n<|im_end|>\\n<|im_start|>user\\nWhat is the process for auto-acknowledgement and verification of Single Master Form (SMF) submissions for foreign investment reporting in India, and how are delays handled?<|im_end|>\\n<|im_start|>assistant\\nWhen reporting foreign investment in India through the Single Master Form (SMF) on the FIRMS portal, the forms submitted are auto-acknowledged, and authorized dealer (AD) banks must verify the submissions within five working days based on uploaded documents. For delayed reporting, AD banks must advise the applicant regarding the Late Submission Fee (LSF), which is computed by the system, or advise them to apply for compounding of contravention, if applicable.<|im_end|>\\n'}\n",
      "Train dataset size: 4500\n",
      "Eval dataset size: 500\n"
     ]
    }
   ],
   "source": [
    "print(f\"Formatted dataset with {len(dataset)} samples.\")\n",
    "print(dataset[0])\n",
    "print(f\"Train dataset size: {len(train_dataset)}\")\n",
    "print(f\"Eval dataset size: {len(eval_dataset)}\")"
   ]
  },
  {
   "cell_type": "markdown",
   "id": "2fc41545",
   "metadata": {},
   "source": [
    "## Model Configuration\n",
    "\n",
    "Configuring the model architecture and tokenizer for fine-tuning."
   ]
  },
  {
   "cell_type": "code",
   "execution_count": 19,
   "id": "b2610d07",
   "metadata": {},
   "outputs": [],
   "source": [
    "quantization_config = BitsAndBytesConfig(\n",
    "    load_in_4bit=True,\n",
    "    bnb_4bit_compute_dtype=torch.float16,\n",
    "    bnb_4bit_quant_type=\"nf4\",\n",
    "    bnb_4bit_use_double_quant=True,\n",
    ")"
   ]
  },
  {
   "cell_type": "code",
   "execution_count": 20,
   "id": "5bc23fd7",
   "metadata": {},
   "outputs": [
    {
     "data": {
      "application/vnd.jupyter.widget-view+json": {
       "model_id": "42aba146e735466dbe91135412cb1f9e",
       "version_major": 2,
       "version_minor": 0
      },
      "text/plain": [
       "config.json:   0%|          | 0.00/661 [00:00<?, ?B/s]"
      ]
     },
     "metadata": {},
     "output_type": "display_data"
    },
    {
     "data": {
      "application/vnd.jupyter.widget-view+json": {
       "model_id": "27954629100a4c71b75e5fd2e77b6716",
       "version_major": 2,
       "version_minor": 0
      },
      "text/plain": [
       "model.safetensors.index.json:   0%|          | 0.00/35.6k [00:00<?, ?B/s]"
      ]
     },
     "metadata": {},
     "output_type": "display_data"
    },
    {
     "data": {
      "application/vnd.jupyter.widget-view+json": {
       "model_id": "2ac52f8ea0c74ee5838f1559159043bf",
       "version_major": 2,
       "version_minor": 0
      },
      "text/plain": [
       "model-00001-of-00002.safetensors:   0%|          | 0.00/3.97G [00:00<?, ?B/s]"
      ]
     },
     "metadata": {},
     "output_type": "display_data"
    },
    {
     "data": {
      "application/vnd.jupyter.widget-view+json": {
       "model_id": "a5519a5d74e040729ed2760318029628",
       "version_major": 2,
       "version_minor": 0
      },
      "text/plain": [
       "model-00002-of-00002.safetensors:   0%|          | 0.00/2.20G [00:00<?, ?B/s]"
      ]
     },
     "metadata": {},
     "output_type": "display_data"
    },
    {
     "data": {
      "application/vnd.jupyter.widget-view+json": {
       "model_id": "ee41fee98a724198870c6f35710711de",
       "version_major": 2,
       "version_minor": 0
      },
      "text/plain": [
       "Loading checkpoint shards:   0%|          | 0/2 [00:00<?, ?it/s]"
      ]
     },
     "metadata": {},
     "output_type": "display_data"
    },
    {
     "data": {
      "application/vnd.jupyter.widget-view+json": {
       "model_id": "2bd348f3e4b849fc94a8fcd34a3968c4",
       "version_major": 2,
       "version_minor": 0
      },
      "text/plain": [
       "generation_config.json:   0%|          | 0.00/242 [00:00<?, ?B/s]"
      ]
     },
     "metadata": {},
     "output_type": "display_data"
    },
    {
     "name": "stdout",
     "output_type": "stream",
     "text": [
      "Qwen2ForCausalLM(\n",
      "  (model): Qwen2Model(\n",
      "    (embed_tokens): Embedding(151936, 2048)\n",
      "    (layers): ModuleList(\n",
      "      (0-35): 36 x Qwen2DecoderLayer(\n",
      "        (self_attn): Qwen2Attention(\n",
      "          (q_proj): Linear4bit(in_features=2048, out_features=2048, bias=True)\n",
      "          (k_proj): Linear4bit(in_features=2048, out_features=256, bias=True)\n",
      "          (v_proj): Linear4bit(in_features=2048, out_features=256, bias=True)\n",
      "          (o_proj): Linear4bit(in_features=2048, out_features=2048, bias=False)\n",
      "        )\n",
      "        (mlp): Qwen2MLP(\n",
      "          (gate_proj): Linear4bit(in_features=2048, out_features=11008, bias=False)\n",
      "          (up_proj): Linear4bit(in_features=2048, out_features=11008, bias=False)\n",
      "          (down_proj): Linear4bit(in_features=11008, out_features=2048, bias=False)\n",
      "          (act_fn): SiLU()\n",
      "        )\n",
      "        (input_layernorm): Qwen2RMSNorm((2048,), eps=1e-06)\n",
      "        (post_attention_layernorm): Qwen2RMSNorm((2048,), eps=1e-06)\n",
      "      )\n",
      "    )\n",
      "    (norm): Qwen2RMSNorm((2048,), eps=1e-06)\n",
      "    (rotary_emb): Qwen2RotaryEmbedding()\n",
      "  )\n",
      "  (lm_head): Linear(in_features=2048, out_features=151936, bias=False)\n",
      ")\n"
     ]
    }
   ],
   "source": [
    "model = AutoModelForCausalLM.from_pretrained(\n",
    "    MODEL_NAME,\n",
    "    torch_dtype=\"auto\",\n",
    "    device_map=\"auto\",\n",
    "    trust_remote_code=True,\n",
    "    cache_dir=MODEL_PATH,\n",
    "    quantization_config=quantization_config\n",
    ")\n",
    "print(model)"
   ]
  },
  {
   "cell_type": "markdown",
   "id": "ab7dbb0c",
   "metadata": {},
   "source": [
    "## Training Configuration\n",
    "\n",
    "Setting up the training parameters and callbacks for model fine-tuning."
   ]
  },
  {
   "cell_type": "code",
   "execution_count": 21,
   "id": "95ce748b",
   "metadata": {},
   "outputs": [],
   "source": [
    "# Assuming these are defined elsewhere in your context, similar to the image\n",
    "CANDIDATE_ATTRS = [\"model\", \"transformer\", \"decoder\"]\n",
    "\n",
    "def unwrap_to_base(model):\n",
    "    for attr in CANDIDATE_ATTRS:\n",
    "        if hasattr(model, attr):\n",
    "            return getattr(model, attr)\n",
    "    raise AttributeError(\n",
    "        f\"Could not find base model (e.g., model, transformer, decoder) \"\n",
    "        f\"in {type(model).__name__}. Check CANDIDATE_ATTRS or inspect manually.\"\n",
    "    )\n",
    "\n",
    "def print_model_dimensions(model):\n",
    "    \"\"\"\n",
    "    Prints the dimensions of individual Attention (q, k, v, o) and MLP (gate, up, down)\n",
    "    layers based on the Qwen2 model structure.\n",
    "    \"\"\"\n",
    "    base = unwrap_to_base(model)\n",
    "    if not hasattr(base, 'layers') or not base.layers:\n",
    "        raise ValueError(\"Model base does not have 'layers' attribute or layers are empty.\")\n",
    "\n",
    "    L0 = base.layers[0] # First decoder layer\n",
    "\n",
    "    # --- ATTENTION ---\n",
    "    print(\"ATTENTION\")\n",
    "    sa = L0.self_attn\n",
    "\n",
    "    # Print individual q_proj, k_proj, v_proj, o_proj\n",
    "    for name in [\"q_proj\", \"k_proj\", \"v_proj\", \"o_proj\"]:\n",
    "        proj_module = getattr(sa, name, None)\n",
    "        if isinstance(proj_module, nn.Linear):\n",
    "            weight_shape = torch.Size([proj_module.out_features, proj_module.in_features]) # type: ignore\n",
    "            print(f\"{name:<10}: torch.Size({list(weight_shape)})\")\n",
    "        else:\n",
    "            print(f\"{name:<10}: Not a Linear module or missing.\")\n",
    "\n",
    "\n",
    "    # --- MLP ---\n",
    "    print(\"\\nMLP\")\n",
    "    mlp = L0.mlp\n",
    "\n",
    "    # Print individual gate_proj, up_proj, down_proj\n",
    "    for name in [\"gate_proj\", \"up_proj\", \"down_proj\"]:\n",
    "        proj_module = getattr(mlp, name, None)\n",
    "        if isinstance(proj_module, nn.Linear):\n",
    "            weight_shape = torch.Size([proj_module.out_features, proj_module.in_features]) # type: ignore\n",
    "            print(f\"{name:<10}: torch.Size({list(weight_shape)})\")\n",
    "        else:\n",
    "            print(f\"{name:<10}: Not a Linear module or missing.\")"
   ]
  },
  {
   "cell_type": "code",
   "execution_count": 22,
   "id": "162093f1",
   "metadata": {},
   "outputs": [
    {
     "name": "stdout",
     "output_type": "stream",
     "text": [
      "ATTENTION\n",
      "q_proj    : torch.Size([2048, 2048])\n",
      "k_proj    : torch.Size([256, 2048])\n",
      "v_proj    : torch.Size([256, 2048])\n",
      "o_proj    : torch.Size([2048, 2048])\n",
      "\n",
      "MLP\n",
      "gate_proj : torch.Size([11008, 2048])\n",
      "up_proj   : torch.Size([11008, 2048])\n",
      "down_proj : torch.Size([2048, 11008])\n"
     ]
    }
   ],
   "source": [
    "print_model_dimensions(model)"
   ]
  },
  {
   "cell_type": "code",
   "execution_count": 23,
   "id": "74b48bc8",
   "metadata": {},
   "outputs": [],
   "source": [
    "model = prepare_model_for_kbit_training(model)"
   ]
  },
  {
   "cell_type": "code",
   "execution_count": 25,
   "id": "6a804f41",
   "metadata": {},
   "outputs": [],
   "source": [
    "lora_config = LoraConfig(\n",
    "    r=24,\n",
    "    lora_alpha=16,\n",
    "    lora_dropout=0.05,\n",
    "    bias=\"none\",\n",
    "    task_type=\"CAUSAL_LM\",\n",
    "    use_rslora=True,\n",
    "    target_modules=[\n",
    "        # \"q_proj\",\n",
    "        \"k_proj\",\n",
    "        \"v_proj\",\n",
    "        \"o_proj\",\n",
    "        \"gate_proj\",\n",
    "        \"up_proj\",\n",
    "        \"down_proj\",\n",
    "    ],\n",
    ")"
   ]
  },
  {
   "cell_type": "code",
   "execution_count": 26,
   "id": "4cda5239",
   "metadata": {},
   "outputs": [
    {
     "name": "stdout",
     "output_type": "stream",
     "text": [
      "trainable params: 41,361,408 || all params: 3,127,300,096 || trainable%: 1.3226\n"
     ]
    }
   ],
   "source": [
    "model = get_peft_model(model, lora_config)\n",
    "model.print_trainable_parameters()"
   ]
  },
  {
   "cell_type": "code",
   "execution_count": 27,
   "id": "19edd53f",
   "metadata": {},
   "outputs": [],
   "source": [
    "import torch\n",
    "\n",
    "def create_data_collator_for_chat_training(tokenizer):\n",
    "    \"\"\"\n",
    "    Creates a data collator that masks labels to -100 except for the assistant's response.\n",
    "    This version is more robust for chat-formatted data by directly using tokenized sequences\n",
    "    for identifying turns.\n",
    "\n",
    "    Args:\n",
    "        tokenizer: The tokenizer used for encoding the data, expecting chat template support.\n",
    "\n",
    "    Returns:\n",
    "        A DataCollatorForLanguageModeling instance with custom label masking.\n",
    "    \"\"\"\n",
    "    class CustomDataCollator(DataCollatorForLanguageModeling):\n",
    "        def torch_call(self, features): # type: ignore\n",
    "            # Pad inputs to the longest sequence in the batch\n",
    "            # padding=\"max_length\" is generally good if you've already set it in tokenization\n",
    "            # Otherwise, padding=True for dynamic padding to the longest in the batch\n",
    "            batch = self.tokenizer.pad(\n",
    "                features,\n",
    "                return_tensors=\"pt\",\n",
    "                padding=True, # Dynamically pad to the longest sequence in the batch\n",
    "            )\n",
    "\n",
    "            # batch = {key: torch.stack([f[key] for f in features]) for key in features[0].keys()} If you don't need padding use this line.\n",
    "\n",
    "            labels = batch[\"input_ids\"].clone() # type: ignore\n",
    "\n",
    "            # Define the exact token sequences for start/end of assistant's turn\n",
    "            # These are specific to Qwen's chat template tokenization\n",
    "            # <|im_start|>assistant\\n  -> [151644, 872, 198]\n",
    "            # <|im_end|>                  -> [151645]\n",
    "\n",
    "            # Use tokenizer.encode to get the exact token IDs for the prompts\n",
    "            # This is more reliable than guessing individual token IDs for subwords/special chars\n",
    "            assistant_prompt_ids = self.tokenizer.encode(\"<|im_start|>assistant\\n\", add_special_tokens=False, return_tensors=\"pt\")[0]\n",
    "            im_end_token_id = self.tokenizer.convert_tokens_to_ids(\"<|im_end|>\") # type: ignore # This one is a known special token\n",
    "\n",
    "            for i, input_ids_tensor in enumerate(batch[\"input_ids\"]): # type: ignore\n",
    "                # Initialize all labels to -100 (ignore by default)\n",
    "                labels[i, :] = -100\n",
    "\n",
    "                # Convert input_ids_tensor to a standard Python list for easier slicing/comparison\n",
    "                # This makes the search part simpler if you prefer list operations.\n",
    "                # However, for efficiency with large tensors, keeping it as tensor is better.\n",
    "                # Let's stick to tensor operations for robustness and performance.\n",
    "\n",
    "                # Find the start of the assistant's response within the current sequence\n",
    "                assistant_start_idx = -1\n",
    "\n",
    "                # Iterate through the input_ids to find the sequence `assistant_prompt_ids`\n",
    "                # We need to use tensor comparison here.\n",
    "                len_prompt = len(assistant_prompt_ids) # type: ignore\n",
    "                for j in range(len(input_ids_tensor) - len_prompt + 1):\n",
    "                    if torch.equal(input_ids_tensor[j : j + len_prompt], assistant_prompt_ids.to(input_ids_tensor.device)): # type: ignore\n",
    "                        assistant_start_idx = j + len_prompt # Start of the actual response\n",
    "                        break # Found the first occurrence of assistant turn\n",
    "\n",
    "                # Find the corresponding end of the assistant's turn (<|im_end|>)\n",
    "                assistant_end_idx = -1\n",
    "                if assistant_start_idx != -1:\n",
    "                    # Search for im_end_token_id ONLY AFTER the assistant's prompt start\n",
    "                    for j in range(assistant_start_idx, len(input_ids_tensor)):\n",
    "                        if input_ids_tensor[j] == im_end_token_id:\n",
    "                            assistant_end_idx = j\n",
    "                            break\n",
    "\n",
    "                # If the assistant's response part is successfully identified, unmask it\n",
    "                # Ensure start is before end and both are valid indices\n",
    "                if (assistant_start_idx != -1 and\n",
    "                    assistant_end_idx != -1 and\n",
    "                    assistant_start_idx < assistant_end_idx):\n",
    "\n",
    "                    labels[i, assistant_start_idx : assistant_end_idx] = input_ids_tensor[assistant_start_idx : assistant_end_idx]\n",
    "\n",
    "                # Handle cases where the sequence is truncated and assistant_end_idx might be beyond max_length\n",
    "                # In such cases, if assistant_start_idx is found, but end is not (due to truncation),\n",
    "                # we should still train on the available part of the assistant's response until max_length.\n",
    "                elif assistant_start_idx != -1 and assistant_end_idx == -1:\n",
    "                     labels[i, assistant_start_idx:] = input_ids_tensor[assistant_start_idx:]\n",
    "\n",
    "\n",
    "            batch[\"labels\"] = labels\n",
    "            return batch\n",
    "\n",
    "    return CustomDataCollator(tokenizer=tokenizer, mlm=False)"
   ]
  },
  {
   "cell_type": "code",
   "execution_count": 28,
   "id": "4ab35224",
   "metadata": {},
   "outputs": [],
   "source": [
    "data_collator = create_data_collator_for_chat_training(tokenizer)\n"
   ]
  },
  {
   "cell_type": "code",
   "execution_count": 29,
   "id": "e86f1151",
   "metadata": {},
   "outputs": [
    {
     "name": "stderr",
     "output_type": "stream",
     "text": [
      "You're using a Qwen2TokenizerFast tokenizer. Please note that with a fast tokenizer, using the `__call__` method is faster than using a method to encode the text followed by a call to the `pad` method to get a padded encoding.\n"
     ]
    },
    {
     "name": "stdout",
     "output_type": "stream",
     "text": [
      "Original tokenized sample (eval_dataset[0]): {'input_ids': [151645, 151645, 151645, 151645, 151645, 151645, 151645, 151645, 151645, 151645, 151645, 151645, 151645, 151645, 151645, 151645, 151645, 151645, 151645, 151645, 151645, 151645, 151645, 151645, 151645, 151645, 151645, 151645, 151645, 151645, 151645, 151645, 151645, 151645, 151645, 151645, 151645, 151645, 151645, 151645, 151645, 151645, 151645, 151645, 151645, 151645, 151645, 151645, 151645, 151645, 151645, 151645, 151645, 151645, 151645, 151645, 151645, 151645, 151645, 151645, 151645, 151645, 151645, 151645, 151645, 151645, 151645, 151645, 151645, 151645, 151645, 151645, 151645, 151645, 151645, 151645, 151645, 151645, 151645, 151645, 151645, 151645, 151645, 151645, 151645, 151645, 151645, 151645, 151645, 151645, 151645, 151645, 151645, 151645, 151645, 151645, 151645, 151645, 151645, 151645, 151645, 151645, 151645, 151645, 151645, 151645, 151645, 151645, 151645, 151645, 151645, 151645, 151645, 151645, 151645, 151645, 151645, 151645, 151645, 151645, 151645, 151645, 151645, 151645, 151645, 151645, 151645, 151645, 151645, 151645, 151645, 151645, 151645, 151645, 151645, 151645, 151645, 151645, 151645, 151645, 151645, 151645, 151645, 151645, 151645, 151645, 151645, 151645, 151645, 151645, 151645, 151645, 151645, 151645, 151645, 151645, 151645, 151645, 151645, 151645, 151645, 151645, 151645, 151645, 151645, 151645, 151645, 151645, 151645, 151645, 151645, 151645, 151645, 151645, 151645, 151645, 151645, 151645, 151645, 151645, 151645, 151645, 151645, 151645, 151645, 151645, 151645, 151645, 151645, 151645, 151645, 151645, 151645, 151645, 151645, 151645, 151645, 151645, 151645, 151645, 151645, 151645, 151645, 151645, 151645, 151645, 151645, 151645, 151645, 151645, 151645, 151645, 151645, 151645, 151645, 151645, 151645, 151645, 151645, 151645, 151645, 151645, 151645, 151645, 151645, 151645, 151645, 151645, 151645, 151645, 151645, 151645, 151645, 151645, 151645, 151645, 151645, 151645, 151645, 151645, 151645, 151645, 151645, 151645, 151645, 151645, 151645, 151645, 151645, 151645, 151645, 151645, 151645, 151645, 151645, 151645, 151645, 151645, 151645, 151645, 151645, 151645, 151645, 151645, 151645, 151645, 151645, 151645, 151645, 151645, 151645, 151645, 151645, 151645, 151645, 151645, 151645, 151645, 151645, 151645, 151645, 151645, 151645, 151645, 151645, 151645, 151645, 151645, 151645, 151645, 151645, 151645, 151645, 151645, 151645, 151645, 151645, 151645, 151645, 151645, 151645, 151645, 151645, 151645, 151645, 151645, 151645, 151645, 151645, 151645, 151645, 151645, 151645, 151645, 151645, 151645, 151645, 151645, 151645, 151645, 151645, 151645, 151645, 151645, 151645, 151645, 151645, 151645, 151645, 151645, 151645, 151645, 151645, 151644, 8948, 271, 2610, 525, 264, 7548, 40966, 15235, 17847, 448, 18726, 304, 7748, 22798, 323, 5896, 14305, 11, 715, 72939, 1846, 32640, 304, 24785, 8547, 315, 6747, 320, 49, 8598, 8, 26931, 82, 624, 7771, 3383, 374, 311, 4226, 4755, 3118, 389, 279, 52941, 26931, 82, 323, 5435, 5896, 14305, 624, 151645, 198, 151644, 872, 198, 3838, 374, 279, 7373, 2400, 323, 6891, 315, 279, 8894, 315, 279, 59501, 39970, 533, 5586, 320, 81450, 8, 23752, 311, 10212, 34979, 6754, 82, 30, 151645, 198, 151644, 77091, 198, 785, 59501, 39970, 533, 5586, 320, 81450, 8, 23752, 11, 892, 572, 15102, 11523, 369, 11581, 7671, 32334, 17503, 31786, 320, 33342, 6754, 82, 701, 702, 1012, 11577, 311, 2924, 10212, 34979, 6754, 82, 11, 43778, 1846, 304, 279, 5351, 22735, 13, 1096, 8894, 686, 387, 7373, 504, 6527, 220, 16, 11, 220, 17, 15, 17, 19, 11, 323, 686, 387, 3118, 389, 279, 6136, 1608, 5896, 3059, 315, 279, 34979, 6754, 438, 315, 5470, 220, 18, 16, 11, 220, 17, 15, 17, 19, 11, 476, 17420, 12713, 13, 151645, 198], 'attention_mask': [0, 0, 0, 0, 0, 0, 0, 0, 0, 0, 0, 0, 0, 0, 0, 0, 0, 0, 0, 0, 0, 0, 0, 0, 0, 0, 0, 0, 0, 0, 0, 0, 0, 0, 0, 0, 0, 0, 0, 0, 0, 0, 0, 0, 0, 0, 0, 0, 0, 0, 0, 0, 0, 0, 0, 0, 0, 0, 0, 0, 0, 0, 0, 0, 0, 0, 0, 0, 0, 0, 0, 0, 0, 0, 0, 0, 0, 0, 0, 0, 0, 0, 0, 0, 0, 0, 0, 0, 0, 0, 0, 0, 0, 0, 0, 0, 0, 0, 0, 0, 0, 0, 0, 0, 0, 0, 0, 0, 0, 0, 0, 0, 0, 0, 0, 0, 0, 0, 0, 0, 0, 0, 0, 0, 0, 0, 0, 0, 0, 0, 0, 0, 0, 0, 0, 0, 0, 0, 0, 0, 0, 0, 0, 0, 0, 0, 0, 0, 0, 0, 0, 0, 0, 0, 0, 0, 0, 0, 0, 0, 0, 0, 0, 0, 0, 0, 0, 0, 0, 0, 0, 0, 0, 0, 0, 0, 0, 0, 0, 0, 0, 0, 0, 0, 0, 0, 0, 0, 0, 0, 0, 0, 0, 0, 0, 0, 0, 0, 0, 0, 0, 0, 0, 0, 0, 0, 0, 0, 0, 0, 0, 0, 0, 0, 0, 0, 0, 0, 0, 0, 0, 0, 0, 0, 0, 0, 0, 0, 0, 0, 0, 0, 0, 0, 0, 0, 0, 0, 0, 0, 0, 0, 0, 0, 0, 0, 0, 0, 0, 0, 0, 0, 0, 0, 0, 0, 0, 0, 0, 0, 0, 0, 0, 0, 0, 0, 0, 0, 0, 0, 0, 0, 0, 0, 0, 0, 0, 0, 0, 0, 0, 0, 0, 0, 0, 0, 0, 0, 0, 0, 0, 0, 0, 0, 0, 0, 0, 0, 0, 0, 0, 0, 0, 0, 0, 0, 0, 0, 0, 0, 0, 0, 0, 0, 0, 0, 0, 0, 0, 0, 0, 0, 0, 0, 0, 0, 0, 0, 0, 0, 0, 0, 0, 1, 1, 1, 1, 1, 1, 1, 1, 1, 1, 1, 1, 1, 1, 1, 1, 1, 1, 1, 1, 1, 1, 1, 1, 1, 1, 1, 1, 1, 1, 1, 1, 1, 1, 1, 1, 1, 1, 1, 1, 1, 1, 1, 1, 1, 1, 1, 1, 1, 1, 1, 1, 1, 1, 1, 1, 1, 1, 1, 1, 1, 1, 1, 1, 1, 1, 1, 1, 1, 1, 1, 1, 1, 1, 1, 1, 1, 1, 1, 1, 1, 1, 1, 1, 1, 1, 1, 1, 1, 1, 1, 1, 1, 1, 1, 1, 1, 1, 1, 1, 1, 1, 1, 1, 1, 1, 1, 1, 1, 1, 1, 1, 1, 1, 1, 1, 1, 1, 1, 1, 1, 1, 1, 1, 1, 1, 1, 1, 1, 1, 1, 1, 1, 1, 1, 1, 1, 1, 1, 1, 1, 1, 1, 1, 1, 1, 1, 1, 1, 1, 1, 1, 1, 1, 1, 1, 1, 1, 1, 1, 1, 1, 1, 1, 1, 1, 1, 1, 1, 1, 1, 1, 1, 1, 1, 1, 1, 1, 1]}\n"
     ]
    }
   ],
   "source": [
    "sample_to_check = eval_dataset[0]\n",
    "print(f\"Original tokenized sample (eval_dataset[0]): {sample_to_check}\")\n",
    "\n",
    "# Manually call the data collator with this single sample (wrapped in a list for batching)\n",
    "collated_sample = data_collator([sample_to_check])\n"
   ]
  },
  {
   "cell_type": "code",
   "execution_count": 30,
   "id": "76327e07",
   "metadata": {},
   "outputs": [
    {
     "name": "stdout",
     "output_type": "stream",
     "text": [
      "\n",
      "--- Debugging Collated Sample ---\n",
      "Input IDs: tensor([[151645, 151645, 151645, 151645, 151645, 151645, 151645, 151645, 151645,\n",
      "         151645, 151645, 151645, 151645, 151645, 151645, 151645, 151645, 151645,\n",
      "         151645, 151645, 151645, 151645, 151645, 151645, 151645, 151645, 151645,\n",
      "         151645, 151645, 151645, 151645, 151645, 151645, 151645, 151645, 151645,\n",
      "         151645, 151645, 151645, 151645, 151645, 151645, 151645, 151645, 151645,\n",
      "         151645, 151645, 151645, 151645, 151645, 151645, 151645, 151645, 151645,\n",
      "         151645, 151645, 151645, 151645, 151645, 151645, 151645, 151645, 151645,\n",
      "         151645, 151645, 151645, 151645, 151645, 151645, 151645, 151645, 151645,\n",
      "         151645, 151645, 151645, 151645, 151645, 151645, 151645, 151645, 151645,\n",
      "         151645, 151645, 151645, 151645, 151645, 151645, 151645, 151645, 151645,\n",
      "         151645, 151645, 151645, 151645, 151645, 151645, 151645, 151645, 151645,\n",
      "         151645, 151645, 151645, 151645, 151645, 151645, 151645, 151645, 151645,\n",
      "         151645, 151645, 151645, 151645, 151645, 151645, 151645, 151645, 151645,\n",
      "         151645, 151645, 151645, 151645, 151645, 151645, 151645, 151645, 151645,\n",
      "         151645, 151645, 151645, 151645, 151645, 151645, 151645, 151645, 151645,\n",
      "         151645, 151645, 151645, 151645, 151645, 151645, 151645, 151645, 151645,\n",
      "         151645, 151645, 151645, 151645, 151645, 151645, 151645, 151645, 151645,\n",
      "         151645, 151645, 151645, 151645, 151645, 151645, 151645, 151645, 151645,\n",
      "         151645, 151645, 151645, 151645, 151645, 151645, 151645, 151645, 151645,\n",
      "         151645, 151645, 151645, 151645, 151645, 151645, 151645, 151645, 151645,\n",
      "         151645, 151645, 151645, 151645, 151645, 151645, 151645, 151645, 151645,\n",
      "         151645, 151645, 151645, 151645, 151645, 151645, 151645, 151645, 151645,\n",
      "         151645, 151645, 151645, 151645, 151645, 151645, 151645, 151645, 151645,\n",
      "         151645, 151645, 151645, 151645, 151645, 151645, 151645, 151645, 151645,\n",
      "         151645, 151645, 151645, 151645, 151645, 151645, 151645, 151645, 151645,\n",
      "         151645, 151645, 151645, 151645, 151645, 151645, 151645, 151645, 151645,\n",
      "         151645, 151645, 151645, 151645, 151645, 151645, 151645, 151645, 151645,\n",
      "         151645, 151645, 151645, 151645, 151645, 151645, 151645, 151645, 151645,\n",
      "         151645, 151645, 151645, 151645, 151645, 151645, 151645, 151645, 151645,\n",
      "         151645, 151645, 151645, 151645, 151645, 151645, 151645, 151645, 151645,\n",
      "         151645, 151645, 151645, 151645, 151645, 151645, 151645, 151645, 151645,\n",
      "         151645, 151645, 151645, 151645, 151645, 151645, 151645, 151645, 151645,\n",
      "         151645, 151645, 151645, 151645, 151645, 151645, 151645, 151645, 151645,\n",
      "         151645, 151645, 151645, 151645, 151645, 151645, 151645, 151645, 151645,\n",
      "         151645, 151645, 151645, 151645, 151645, 151645, 151645, 151645, 151645,\n",
      "         151645, 151645, 151645, 151645, 151645, 151645, 151645, 151645, 151645,\n",
      "         151645, 151645, 151645, 151645, 151645, 151645, 151645, 151645, 151645,\n",
      "         151644,   8948,    271,   2610,    525,    264,   7548,  40966,  15235,\n",
      "          17847,    448,  18726,    304,   7748,  22798,    323,   5896,  14305,\n",
      "             11,    715,  72939,   1846,  32640,    304,  24785,   8547,    315,\n",
      "           6747,    320,     49,   8598,      8,  26931,     82,    624,   7771,\n",
      "           3383,    374,    311,   4226,   4755,   3118,    389,    279,  52941,\n",
      "          26931,     82,    323,   5435,   5896,  14305,    624, 151645,    198,\n",
      "         151644,    872,    198,   3838,    374,    279,   7373,   2400,    323,\n",
      "           6891,    315,    279,   8894,    315,    279,  59501,  39970,    533,\n",
      "           5586,    320,  81450,      8,  23752,    311,  10212,  34979,   6754,\n",
      "             82,     30, 151645,    198, 151644,  77091,    198,    785,  59501,\n",
      "          39970,    533,   5586,    320,  81450,      8,  23752,     11,    892,\n",
      "            572,  15102,  11523,    369,  11581,   7671,  32334,  17503,  31786,\n",
      "            320,  33342,   6754,     82,    701,    702,   1012,  11577,    311,\n",
      "           2924,  10212,  34979,   6754,     82,     11,  43778,   1846,    304,\n",
      "            279,   5351,  22735,     13,   1096,   8894,    686,    387,   7373,\n",
      "            504,   6527,    220,     16,     11,    220,     17,     15,     17,\n",
      "             19,     11,    323,    686,    387,   3118,    389,    279,   6136,\n",
      "           1608,   5896,   3059,    315,    279,  34979,   6754,    438,    315,\n",
      "           5470,    220,     18,     16,     11,    220,     17,     15,     17,\n",
      "             19,     11,    476,  17420,  12713,     13, 151645,    198]])\n",
      "Labels: tensor([[ -100,  -100,  -100,  -100,  -100,  -100,  -100,  -100,  -100,  -100,\n",
      "          -100,  -100,  -100,  -100,  -100,  -100,  -100,  -100,  -100,  -100,\n",
      "          -100,  -100,  -100,  -100,  -100,  -100,  -100,  -100,  -100,  -100,\n",
      "          -100,  -100,  -100,  -100,  -100,  -100,  -100,  -100,  -100,  -100,\n",
      "          -100,  -100,  -100,  -100,  -100,  -100,  -100,  -100,  -100,  -100,\n",
      "          -100,  -100,  -100,  -100,  -100,  -100,  -100,  -100,  -100,  -100,\n",
      "          -100,  -100,  -100,  -100,  -100,  -100,  -100,  -100,  -100,  -100,\n",
      "          -100,  -100,  -100,  -100,  -100,  -100,  -100,  -100,  -100,  -100,\n",
      "          -100,  -100,  -100,  -100,  -100,  -100,  -100,  -100,  -100,  -100,\n",
      "          -100,  -100,  -100,  -100,  -100,  -100,  -100,  -100,  -100,  -100,\n",
      "          -100,  -100,  -100,  -100,  -100,  -100,  -100,  -100,  -100,  -100,\n",
      "          -100,  -100,  -100,  -100,  -100,  -100,  -100,  -100,  -100,  -100,\n",
      "          -100,  -100,  -100,  -100,  -100,  -100,  -100,  -100,  -100,  -100,\n",
      "          -100,  -100,  -100,  -100,  -100,  -100,  -100,  -100,  -100,  -100,\n",
      "          -100,  -100,  -100,  -100,  -100,  -100,  -100,  -100,  -100,  -100,\n",
      "          -100,  -100,  -100,  -100,  -100,  -100,  -100,  -100,  -100,  -100,\n",
      "          -100,  -100,  -100,  -100,  -100,  -100,  -100,  -100,  -100,  -100,\n",
      "          -100,  -100,  -100,  -100,  -100,  -100,  -100,  -100,  -100,  -100,\n",
      "          -100,  -100,  -100,  -100,  -100,  -100,  -100,  -100,  -100,  -100,\n",
      "          -100,  -100,  -100,  -100,  -100,  -100,  -100,  -100,  -100,  -100,\n",
      "          -100,  -100,  -100,  -100,  -100,  -100,  -100,  -100,  -100,  -100,\n",
      "          -100,  -100,  -100,  -100,  -100,  -100,  -100,  -100,  -100,  -100,\n",
      "          -100,  -100,  -100,  -100,  -100,  -100,  -100,  -100,  -100,  -100,\n",
      "          -100,  -100,  -100,  -100,  -100,  -100,  -100,  -100,  -100,  -100,\n",
      "          -100,  -100,  -100,  -100,  -100,  -100,  -100,  -100,  -100,  -100,\n",
      "          -100,  -100,  -100,  -100,  -100,  -100,  -100,  -100,  -100,  -100,\n",
      "          -100,  -100,  -100,  -100,  -100,  -100,  -100,  -100,  -100,  -100,\n",
      "          -100,  -100,  -100,  -100,  -100,  -100,  -100,  -100,  -100,  -100,\n",
      "          -100,  -100,  -100,  -100,  -100,  -100,  -100,  -100,  -100,  -100,\n",
      "          -100,  -100,  -100,  -100,  -100,  -100,  -100,  -100,  -100,  -100,\n",
      "          -100,  -100,  -100,  -100,  -100,  -100,  -100,  -100,  -100,  -100,\n",
      "          -100,  -100,  -100,  -100,  -100,  -100,  -100,  -100,  -100,  -100,\n",
      "          -100,  -100,  -100,  -100,  -100,  -100,  -100,  -100,  -100,  -100,\n",
      "          -100,  -100,  -100,  -100,  -100,  -100,  -100,  -100,  -100,  -100,\n",
      "          -100,  -100,  -100,  -100,  -100,  -100,  -100,  -100,  -100,  -100,\n",
      "          -100,  -100,  -100,  -100,  -100,  -100,  -100,  -100,  -100,  -100,\n",
      "          -100,  -100,  -100,  -100,  -100,  -100,  -100,  -100,  -100,  -100,\n",
      "          -100,  -100,  -100,  -100,  -100,  -100,  -100,  -100,  -100,  -100,\n",
      "          -100,  -100,  -100,  -100,  -100,  -100,  -100,  -100,  -100,  -100,\n",
      "          -100,  -100,  -100,  -100,  -100,  -100,  -100,  -100,  -100,  -100,\n",
      "          -100,  -100,  -100,  -100,  -100,  -100,  -100,  -100,  -100,  -100,\n",
      "          -100,  -100,  -100,  -100,  -100,  -100,  -100,  -100,  -100,  -100,\n",
      "          -100,   785, 59501, 39970,   533,  5586,   320, 81450,     8, 23752,\n",
      "            11,   892,   572, 15102, 11523,   369, 11581,  7671, 32334, 17503,\n",
      "         31786,   320, 33342,  6754,    82,   701,   702,  1012, 11577,   311,\n",
      "          2924, 10212, 34979,  6754,    82,    11, 43778,  1846,   304,   279,\n",
      "          5351, 22735,    13,  1096,  8894,   686,   387,  7373,   504,  6527,\n",
      "           220,    16,    11,   220,    17,    15,    17,    19,    11,   323,\n",
      "           686,   387,  3118,   389,   279,  6136,  1608,  5896,  3059,   315,\n",
      "           279, 34979,  6754,   438,   315,  5470,   220,    18,    16,    11,\n",
      "           220,    17,    15,    17,    19,    11,   476, 17420, 12713,    13,\n",
      "          -100,  -100]])\n",
      "Decoded Labels (with masked parts as pad token): <|im_end|><|im_end|><|im_end|><|im_end|><|im_end|><|im_end|><|im_end|><|im_end|><|im_end|><|im_end|><|im_end|><|im_end|><|im_end|><|im_end|><|im_end|><|im_end|><|im_end|><|im_end|><|im_end|><|im_end|><|im_end|><|im_end|><|im_end|><|im_end|><|im_end|><|im_end|><|im_end|><|im_end|><|im_end|><|im_end|><|im_end|><|im_end|><|im_end|><|im_end|><|im_end|><|im_end|><|im_end|><|im_end|><|im_end|><|im_end|><|im_end|><|im_end|><|im_end|><|im_end|><|im_end|><|im_end|><|im_end|><|im_end|><|im_end|><|im_end|><|im_end|><|im_end|><|im_end|><|im_end|><|im_end|><|im_end|><|im_end|><|im_end|><|im_end|><|im_end|><|im_end|><|im_end|><|im_end|><|im_end|><|im_end|><|im_end|><|im_end|><|im_end|><|im_end|><|im_end|><|im_end|><|im_end|><|im_end|><|im_end|><|im_end|><|im_end|><|im_end|><|im_end|><|im_end|><|im_end|><|im_end|><|im_end|><|im_end|><|im_end|><|im_end|><|im_end|><|im_end|><|im_end|><|im_end|><|im_end|><|im_end|><|im_end|><|im_end|><|im_end|><|im_end|><|im_end|><|im_end|><|im_end|><|im_end|><|im_end|><|im_end|><|im_end|><|im_end|><|im_end|><|im_end|><|im_end|><|im_end|><|im_end|><|im_end|><|im_end|><|im_end|><|im_end|><|im_end|><|im_end|><|im_end|><|im_end|><|im_end|><|im_end|><|im_end|><|im_end|><|im_end|><|im_end|><|im_end|><|im_end|><|im_end|><|im_end|><|im_end|><|im_end|><|im_end|><|im_end|><|im_end|><|im_end|><|im_end|><|im_end|><|im_end|><|im_end|><|im_end|><|im_end|><|im_end|><|im_end|><|im_end|><|im_end|><|im_end|><|im_end|><|im_end|><|im_end|><|im_end|><|im_end|><|im_end|><|im_end|><|im_end|><|im_end|><|im_end|><|im_end|><|im_end|><|im_end|><|im_end|><|im_end|><|im_end|><|im_end|><|im_end|><|im_end|><|im_end|><|im_end|><|im_end|><|im_end|><|im_end|><|im_end|><|im_end|><|im_end|><|im_end|><|im_end|><|im_end|><|im_end|><|im_end|><|im_end|><|im_end|><|im_end|><|im_end|><|im_end|><|im_end|><|im_end|><|im_end|><|im_end|><|im_end|><|im_end|><|im_end|><|im_end|><|im_end|><|im_end|><|im_end|><|im_end|><|im_end|><|im_end|><|im_end|><|im_end|><|im_end|><|im_end|><|im_end|><|im_end|><|im_end|><|im_end|><|im_end|><|im_end|><|im_end|><|im_end|><|im_end|><|im_end|><|im_end|><|im_end|><|im_end|><|im_end|><|im_end|><|im_end|><|im_end|><|im_end|><|im_end|><|im_end|><|im_end|><|im_end|><|im_end|><|im_end|><|im_end|><|im_end|><|im_end|><|im_end|><|im_end|><|im_end|><|im_end|><|im_end|><|im_end|><|im_end|><|im_end|><|im_end|><|im_end|><|im_end|><|im_end|><|im_end|><|im_end|><|im_end|><|im_end|><|im_end|><|im_end|><|im_end|><|im_end|><|im_end|><|im_end|><|im_end|><|im_end|><|im_end|><|im_end|><|im_end|><|im_end|><|im_end|><|im_end|><|im_end|><|im_end|><|im_end|><|im_end|><|im_end|><|im_end|><|im_end|><|im_end|><|im_end|><|im_end|><|im_end|><|im_end|><|im_end|><|im_end|><|im_end|><|im_end|><|im_end|><|im_end|><|im_end|><|im_end|><|im_end|><|im_end|><|im_end|><|im_end|><|im_end|><|im_end|><|im_end|><|im_end|><|im_end|><|im_end|><|im_end|><|im_end|><|im_end|><|im_end|><|im_end|><|im_end|><|im_end|><|im_end|><|im_end|><|im_end|><|im_end|><|im_end|><|im_end|><|im_end|><|im_end|><|im_end|><|im_end|><|im_end|><|im_end|><|im_end|><|im_end|><|im_end|><|im_end|><|im_end|><|im_end|><|im_end|><|im_end|><|im_end|><|im_end|><|im_end|><|im_end|><|im_end|><|im_end|><|im_end|><|im_end|><|im_end|><|im_end|><|im_end|><|im_end|><|im_end|><|im_end|><|im_end|><|im_end|><|im_end|><|im_end|><|im_end|><|im_end|><|im_end|><|im_end|><|im_end|><|im_end|><|im_end|><|im_end|><|im_end|><|im_end|><|im_end|><|im_end|><|im_end|><|im_end|><|im_end|><|im_end|><|im_end|><|im_end|><|im_end|><|im_end|><|im_end|><|im_end|><|im_end|><|im_end|><|im_end|><|im_end|><|im_end|><|im_end|><|im_end|><|im_end|><|im_end|><|im_end|><|im_end|><|im_end|><|im_end|><|im_end|><|im_end|><|im_end|><|im_end|><|im_end|><|im_end|><|im_end|><|im_end|><|im_end|><|im_end|><|im_end|><|im_end|><|im_end|><|im_end|><|im_end|><|im_end|><|im_end|><|im_end|><|im_end|><|im_end|><|im_end|><|im_end|><|im_end|><|im_end|><|im_end|><|im_end|><|im_end|><|im_end|><|im_end|><|im_end|><|im_end|><|im_end|><|im_end|><|im_end|><|im_end|><|im_end|><|im_end|><|im_end|><|im_end|><|im_end|><|im_end|><|im_end|><|im_end|><|im_end|><|im_end|><|im_end|><|im_end|><|im_end|><|im_end|><|im_end|><|im_end|><|im_end|><|im_end|><|im_end|><|im_end|><|im_end|>The Prompt Corrective Action (PCA) Framework, which was initially introduced for Non-Banking Financial Companies (NBFCs), has been extended to include Government NBFCs, excluding those in the Base Layer. This extension will be effective from October 1, 2024, and will be based on the audited financial results of the NBFC as of March 31, 2024, or subsequent dates.<|im_end|><|im_end|>\n",
      "Decoded Input IDs: <|im_end|><|im_end|><|im_end|><|im_end|><|im_end|><|im_end|><|im_end|><|im_end|><|im_end|><|im_end|><|im_end|><|im_end|><|im_end|><|im_end|><|im_end|><|im_end|><|im_end|><|im_end|><|im_end|><|im_end|><|im_end|><|im_end|><|im_end|><|im_end|><|im_end|><|im_end|><|im_end|><|im_end|><|im_end|><|im_end|><|im_end|><|im_end|><|im_end|><|im_end|><|im_end|><|im_end|><|im_end|><|im_end|><|im_end|><|im_end|><|im_end|><|im_end|><|im_end|><|im_end|><|im_end|><|im_end|><|im_end|><|im_end|><|im_end|><|im_end|><|im_end|><|im_end|><|im_end|><|im_end|><|im_end|><|im_end|><|im_end|><|im_end|><|im_end|><|im_end|><|im_end|><|im_end|><|im_end|><|im_end|><|im_end|><|im_end|><|im_end|><|im_end|><|im_end|><|im_end|><|im_end|><|im_end|><|im_end|><|im_end|><|im_end|><|im_end|><|im_end|><|im_end|><|im_end|><|im_end|><|im_end|><|im_end|><|im_end|><|im_end|><|im_end|><|im_end|><|im_end|><|im_end|><|im_end|><|im_end|><|im_end|><|im_end|><|im_end|><|im_end|><|im_end|><|im_end|><|im_end|><|im_end|><|im_end|><|im_end|><|im_end|><|im_end|><|im_end|><|im_end|><|im_end|><|im_end|><|im_end|><|im_end|><|im_end|><|im_end|><|im_end|><|im_end|><|im_end|><|im_end|><|im_end|><|im_end|><|im_end|><|im_end|><|im_end|><|im_end|><|im_end|><|im_end|><|im_end|><|im_end|><|im_end|><|im_end|><|im_end|><|im_end|><|im_end|><|im_end|><|im_end|><|im_end|><|im_end|><|im_end|><|im_end|><|im_end|><|im_end|><|im_end|><|im_end|><|im_end|><|im_end|><|im_end|><|im_end|><|im_end|><|im_end|><|im_end|><|im_end|><|im_end|><|im_end|><|im_end|><|im_end|><|im_end|><|im_end|><|im_end|><|im_end|><|im_end|><|im_end|><|im_end|><|im_end|><|im_end|><|im_end|><|im_end|><|im_end|><|im_end|><|im_end|><|im_end|><|im_end|><|im_end|><|im_end|><|im_end|><|im_end|><|im_end|><|im_end|><|im_end|><|im_end|><|im_end|><|im_end|><|im_end|><|im_end|><|im_end|><|im_end|><|im_end|><|im_end|><|im_end|><|im_end|><|im_end|><|im_end|><|im_end|><|im_end|><|im_end|><|im_end|><|im_end|><|im_end|><|im_end|><|im_end|><|im_end|><|im_end|><|im_end|><|im_end|><|im_end|><|im_end|><|im_end|><|im_end|><|im_end|><|im_end|><|im_end|><|im_end|><|im_end|><|im_end|><|im_end|><|im_end|><|im_end|><|im_end|><|im_end|><|im_end|><|im_end|><|im_end|><|im_end|><|im_end|><|im_end|><|im_end|><|im_end|><|im_end|><|im_end|><|im_end|><|im_end|><|im_end|><|im_end|><|im_end|><|im_end|><|im_end|><|im_end|><|im_end|><|im_end|><|im_end|><|im_end|><|im_end|><|im_end|><|im_end|><|im_end|><|im_end|><|im_end|><|im_end|><|im_end|><|im_end|><|im_end|><|im_end|><|im_end|><|im_end|><|im_end|><|im_end|><|im_end|><|im_end|><|im_end|><|im_end|><|im_end|><|im_end|><|im_end|><|im_end|><|im_end|><|im_end|><|im_end|><|im_end|><|im_end|><|im_end|><|im_end|><|im_end|><|im_end|><|im_end|><|im_end|><|im_end|><|im_end|><|im_end|><|im_end|><|im_end|><|im_end|><|im_end|><|im_end|><|im_end|><|im_end|><|im_end|><|im_end|><|im_end|><|im_end|><|im_end|><|im_end|><|im_end|><|im_end|><|im_end|><|im_end|><|im_end|><|im_end|><|im_end|><|im_end|><|im_end|><|im_end|><|im_end|><|im_end|><|im_end|><|im_end|><|im_end|><|im_end|><|im_end|><|im_end|><|im_end|><|im_end|><|im_end|><|im_end|><|im_end|><|im_end|><|im_end|><|im_end|><|im_end|><|im_end|><|im_end|><|im_end|><|im_end|><|im_end|><|im_end|><|im_end|><|im_end|><|im_end|><|im_end|><|im_end|><|im_end|><|im_end|><|im_end|><|im_end|><|im_end|><|im_end|><|im_end|><|im_end|><|im_end|><|im_start|>system\n",
      "\n",
      "You are a highly knowledgeable AI assistant with expertise in Indian banking and financial regulations, \n",
      "particularly those outlined in Reserve Bank of India (RBI) circulars.\n",
      "Your task is to answer questions based on the RBI circulars and related financial regulations.\n",
      "<|im_end|>\n",
      "<|im_start|>user\n",
      "What is the effective date and scope of the extension of the Prompt Corrective Action (PCA) Framework to Government NBFCs?<|im_end|>\n",
      "<|im_start|>assistant\n",
      "The Prompt Corrective Action (PCA) Framework, which was initially introduced for Non-Banking Financial Companies (NBFCs), has been extended to include Government NBFCs, excluding those in the Base Layer. This extension will be effective from October 1, 2024, and will be based on the audited financial results of the NBFC as of March 31, 2024, or subsequent dates.<|im_end|>\n",
      "\n"
     ]
    }
   ],
   "source": [
    "\n",
    "print(\"\\n--- Debugging Collated Sample ---\")\n",
    "print(\"Input IDs:\", collated_sample[\"input_ids\"])\n",
    "print(\"Labels:\", collated_sample[\"labels\"])\n",
    "\n",
    "# Decode the labels to visually check masking\n",
    "decoded_labels = collated_sample[\"labels\"][0].clone()\n",
    "decoded_labels[decoded_labels == -100] = tokenizer.pad_token_id # Replace -100 for decoding\n",
    "print(\"Decoded Labels (with masked parts as pad token):\", tokenizer.decode(decoded_labels, skip_special_tokens=False))\n",
    "\n",
    "# Also, let's decode the original input_ids to compare\n",
    "print(\"Decoded Input IDs:\", tokenizer.decode(collated_sample[\"input_ids\"][0], skip_special_tokens=False))\n"
   ]
  },
  {
   "cell_type": "code",
   "execution_count": 36,
   "id": "e3efe90e",
   "metadata": {},
   "outputs": [],
   "source": [
    "training_args = TrainingArguments(\n",
    "    output_dir=MODEL_OUTPUT_DIR,\n",
    "    per_device_train_batch_size=8,\n",
    "    per_device_eval_batch_size=8,  # Keep at 1\n",
    "    gradient_accumulation_steps=4,  # Increased to maintain batch size\n",
    "    max_steps=200,\n",
    "    learning_rate=2e-4,  # Slightly reduced learning rate\n",
    "    lr_scheduler_type=\"cosine\",\n",
    "    warmup_ratio=0.1,\n",
    "    num_train_epochs=1,  # Reduced from 3 to 2\n",
    "    fp16=True,\n",
    "    eval_strategy=\"steps\",\n",
    "    eval_steps=10,  # Increased eval steps to reduce frequency\n",
    "    save_strategy=\"steps\",\n",
    "    save_steps=10,\n",
    "    load_best_model_at_end=False,  # Disabled to save memory\n",
    "    metric_for_best_model=\"eval_loss\",\n",
    "    greater_is_better=False,\n",
    "    push_to_hub=False,\n",
    "    remove_unused_columns=False,\n",
    "    logging_dir=\"./logs\",\n",
    "    logging_steps=10,\n",
    "    report_to=\"tensorboard\",\n",
    "    gradient_checkpointing=True,\n",
    "    gradient_checkpointing_kwargs={\"use_reentrant\": False},\n",
    "    dataloader_pin_memory=False,  # Disable pin memory to save GPU memory\n",
    "    dataloader_num_workers=0,     # Use single worker to save memory\n",
    "    max_grad_norm=1.0,           # Add gradient clipping\n",
    "    group_by_length=False,       # Disable to save memory\n",
    "    length_column_name=None, \n",
    "    eval_accumulation_steps=1, # Set to 1 to avoid memory issues during evaluation\n",
    ")"
   ]
  },
  {
   "cell_type": "code",
   "execution_count": null,
   "id": "220e7ac3-27e7-4c62-a132-315f3305020b",
   "metadata": {},
   "outputs": [],
   "source": [
    "# pip install tensorboard\n",
    "# cd ../workspace\n",
    "# tensorboard --logdir ./logs --host 0.0.0.0 --port 6006 --reload_interval 5\n",
    "\n",
    "# https://[pod_id]-6006.proxy.runpod.net/"
   ]
  },
  {
   "cell_type": "code",
   "execution_count": 38,
   "id": "f8979dd6",
   "metadata": {},
   "outputs": [
    {
     "name": "stderr",
     "output_type": "stream",
     "text": [
      "No label_names provided for model class `PeftModelForCausalLM`. Since `PeftModel` hides base models input arguments, if label_names is not given, label_names can't be set automatically within `Trainer`. Note that empty label_names list will be used instead.\n"
     ]
    }
   ],
   "source": [
    "# 7. Initialize the Trainer\n",
    "trainer = Trainer(\n",
    "    model=model,\n",
    "    train_dataset=train_dataset,\n",
    "    eval_dataset=eval_dataset,\n",
    "    args=training_args,\n",
    "    data_collator=data_collator,\n",
    "    # compute_metrics=compute_metrics,\n",
    "    callbacks=[EarlyStoppingCallback(early_stopping_patience=3)]\n",
    ")\n"
   ]
  },
  {
   "cell_type": "code",
   "execution_count": 39,
   "id": "26d104df",
   "metadata": {},
   "outputs": [
    {
     "name": "stderr",
     "output_type": "stream",
     "text": [
      "Using EarlyStoppingCallback without load_best_model_at_end=True. Once training is finished, the best model will not be loaded automatically.\n"
     ]
    },
    {
     "data": {
      "text/html": [
       "\n",
       "    <div>\n",
       "      \n",
       "      <progress value='200' max='200' style='width:300px; height:20px; vertical-align: middle;'></progress>\n",
       "      [200/200 59:32, Epoch 1/2]\n",
       "    </div>\n",
       "    <table border=\"1\" class=\"dataframe\">\n",
       "  <thead>\n",
       " <tr style=\"text-align: left;\">\n",
       "      <th>Step</th>\n",
       "      <th>Training Loss</th>\n",
       "      <th>Validation Loss</th>\n",
       "    </tr>\n",
       "  </thead>\n",
       "  <tbody>\n",
       "    <tr>\n",
       "      <td>10</td>\n",
       "      <td>1.589100</td>\n",
       "      <td>1.557521</td>\n",
       "    </tr>\n",
       "    <tr>\n",
       "      <td>20</td>\n",
       "      <td>1.426500</td>\n",
       "      <td>1.423575</td>\n",
       "    </tr>\n",
       "    <tr>\n",
       "      <td>30</td>\n",
       "      <td>1.359200</td>\n",
       "      <td>1.307837</td>\n",
       "    </tr>\n",
       "    <tr>\n",
       "      <td>40</td>\n",
       "      <td>1.185700</td>\n",
       "      <td>1.221586</td>\n",
       "    </tr>\n",
       "    <tr>\n",
       "      <td>50</td>\n",
       "      <td>1.209000</td>\n",
       "      <td>1.143734</td>\n",
       "    </tr>\n",
       "    <tr>\n",
       "      <td>60</td>\n",
       "      <td>1.078000</td>\n",
       "      <td>1.079428</td>\n",
       "    </tr>\n",
       "    <tr>\n",
       "      <td>70</td>\n",
       "      <td>1.071600</td>\n",
       "      <td>1.027418</td>\n",
       "    </tr>\n",
       "    <tr>\n",
       "      <td>80</td>\n",
       "      <td>1.026700</td>\n",
       "      <td>0.981359</td>\n",
       "    </tr>\n",
       "    <tr>\n",
       "      <td>90</td>\n",
       "      <td>0.932300</td>\n",
       "      <td>0.949844</td>\n",
       "    </tr>\n",
       "    <tr>\n",
       "      <td>100</td>\n",
       "      <td>0.870200</td>\n",
       "      <td>0.912790</td>\n",
       "    </tr>\n",
       "    <tr>\n",
       "      <td>110</td>\n",
       "      <td>0.874600</td>\n",
       "      <td>0.884871</td>\n",
       "    </tr>\n",
       "    <tr>\n",
       "      <td>120</td>\n",
       "      <td>0.854800</td>\n",
       "      <td>0.861813</td>\n",
       "    </tr>\n",
       "    <tr>\n",
       "      <td>130</td>\n",
       "      <td>0.866500</td>\n",
       "      <td>0.839828</td>\n",
       "    </tr>\n",
       "    <tr>\n",
       "      <td>140</td>\n",
       "      <td>0.814700</td>\n",
       "      <td>0.820099</td>\n",
       "    </tr>\n",
       "    <tr>\n",
       "      <td>150</td>\n",
       "      <td>0.644500</td>\n",
       "      <td>0.826880</td>\n",
       "    </tr>\n",
       "    <tr>\n",
       "      <td>160</td>\n",
       "      <td>0.559800</td>\n",
       "      <td>0.816196</td>\n",
       "    </tr>\n",
       "    <tr>\n",
       "      <td>170</td>\n",
       "      <td>0.548500</td>\n",
       "      <td>0.804077</td>\n",
       "    </tr>\n",
       "    <tr>\n",
       "      <td>180</td>\n",
       "      <td>0.554500</td>\n",
       "      <td>0.802048</td>\n",
       "    </tr>\n",
       "    <tr>\n",
       "      <td>190</td>\n",
       "      <td>0.564700</td>\n",
       "      <td>0.801098</td>\n",
       "    </tr>\n",
       "    <tr>\n",
       "      <td>200</td>\n",
       "      <td>0.555500</td>\n",
       "      <td>0.800955</td>\n",
       "    </tr>\n",
       "  </tbody>\n",
       "</table><p>"
      ],
      "text/plain": [
       "<IPython.core.display.HTML object>"
      ]
     },
     "metadata": {},
     "output_type": "display_data"
    },
    {
     "data": {
      "application/vnd.jupyter.widget-view+json": {
       "model_id": "93ed9576b1124f2d9d28dbeb3b8a55e4",
       "version_major": 2,
       "version_minor": 0
      },
      "text/plain": [
       "config.json:   0%|          | 0.00/661 [00:00<?, ?B/s]"
      ]
     },
     "metadata": {},
     "output_type": "display_data"
    }
   ],
   "source": [
    "train_result = trainer.train()"
   ]
  },
  {
   "cell_type": "code",
   "execution_count": 40,
   "id": "2c359265",
   "metadata": {},
   "outputs": [],
   "source": [
    "model.save_pretrained(MODEL_OUTPUT_DIR) # type: ignore"
   ]
  },
  {
   "cell_type": "markdown",
   "id": "5962fddd",
   "metadata": {},
   "source": [
    "## Model Evaluation\n",
    "\n",
    "Evaluating the fine-tuned model's performance."
   ]
  },
  {
   "cell_type": "code",
   "execution_count": 41,
   "id": "0621c6ea",
   "metadata": {},
   "outputs": [
    {
     "data": {
      "text/html": [
       "\n",
       "    <div>\n",
       "      \n",
       "      <progress value='63' max='63' style='width:300px; height:20px; vertical-align: middle;'></progress>\n",
       "      [63/63 01:06]\n",
       "    </div>\n",
       "    "
      ],
      "text/plain": [
       "<IPython.core.display.HTML object>"
      ]
     },
     "metadata": {},
     "output_type": "display_data"
    }
   ],
   "source": [
    "train_history = train_result.metrics\n",
    "eval_history = trainer.evaluate()"
   ]
  },
  {
   "cell_type": "code",
   "execution_count": 42,
   "id": "6cd37a35",
   "metadata": {},
   "outputs": [
    {
     "name": "stdout",
     "output_type": "stream",
     "text": [
      "Final Evaluation Loss: 0.8010\n",
      "Final Perplexity: 2.23\n"
     ]
    }
   ],
   "source": [
    "final_eval_loss = eval_history.get(\"eval_loss\")\n",
    "\n",
    "if final_eval_loss is not None:\n",
    "    final_perplexity = torch.exp(torch.tensor(final_eval_loss)).item()\n",
    "    print(f\"Final Evaluation Loss: {final_eval_loss:.4f}\")\n",
    "    print(f\"Final Perplexity: {final_perplexity:.2f}\")\n"
   ]
  },
  {
   "cell_type": "code",
   "execution_count": 43,
   "id": "085134b7",
   "metadata": {},
   "outputs": [
    {
     "name": "stdout",
     "output_type": "stream",
     "text": [
      "Loss plot saved to ./loss_plot.png\n"
     ]
    },
    {
     "data": {
      "image/png": "[encoded data removed]",
      "text/plain": [
       "<Figure size 1200x600 with 1 Axes>"
      ]
     },
     "metadata": {},
     "output_type": "display_data"
    }
   ],
   "source": [
    "# --- 11. Extracting Metrics from log_history for Plotting ---\n",
    "train_losses = []\n",
    "eval_losses = []\n",
    "eval_steps = [] # Store steps where evaluation occurred\n",
    "\n",
    "# Iterate through the trainer's log_history\n",
    "for log in trainer.state.log_history:\n",
    "    # Training loss is logged at 'logging_steps' intervals\n",
    "    if \"loss\" in log and \"learning_rate\" in log: # Check if it's a training step log\n",
    "        train_losses.append({\"step\": log[\"step\"], \"loss\": log[\"loss\"]})\n",
    "    # Evaluation loss is logged at 'eval_steps' intervals\n",
    "    if \"eval_loss\" in log:\n",
    "        eval_losses.append({\"step\": log[\"step\"], \"loss\": log[\"eval_loss\"]})\n",
    "\n",
    "# Prepare data for plotting\n",
    "train_steps_plot = [entry[\"step\"] for entry in train_losses]\n",
    "train_values_plot = [entry[\"loss\"] for entry in train_losses]\n",
    "\n",
    "eval_steps_plot = [entry[\"step\"] for entry in eval_losses]\n",
    "eval_values_plot = [entry[\"loss\"] for entry in eval_losses]\n",
    "\n",
    "# --- 12. Plotting the Training and Evaluation Loss ---\n",
    "plt.figure(figsize=(12, 6))\n",
    "plt.plot(train_steps_plot, train_values_plot, label=\"Training Loss\", marker='.')\n",
    "plt.plot(eval_steps_plot, eval_values_plot, label=\"Evaluation Loss\", marker='o', linestyle='--')\n",
    "\n",
    "plt.xlabel(\"Training Steps\")\n",
    "plt.ylabel(\"Loss\")\n",
    "plt.title(\"Training and Evaluation Loss Over Steps\")\n",
    "plt.legend()\n",
    "plt.grid(True)\n",
    "plt.tight_layout() # Adjust layout to prevent labels from overlapping\n",
    "plot_path = os.path.join(\"./\", \"loss_plot.png\")\n",
    "plt.savefig(plot_path)\n",
    "print(f\"Loss plot saved to {plot_path}\")\n",
    "plt.show()"
   ]
  },
  {
   "cell_type": "code",
   "execution_count": 45,
   "id": "20a7f9e7-93b2-4f0b-8266-25e041289ccb",
   "metadata": {},
   "outputs": [
    {
     "data": {
      "application/vnd.jupyter.widget-view+json": {
       "model_id": "241a1b2debac4c97ab85be045bebdf0e",
       "version_major": 2,
       "version_minor": 0
      },
      "text/plain": [
       "VBox(children=(HTML(value='<center> <img\\nsrc=https://huggingface.co/front/assets/huggingface_logo-noborder.sv…"
      ]
     },
     "metadata": {},
     "output_type": "display_data"
    }
   ],
   "source": [
    "from huggingface_hub import notebook_login\n",
    "\n",
    "notebook_login()"
   ]
  },
  {
   "cell_type": "code",
   "execution_count": 46,
   "id": "8bb0bd51",
   "metadata": {},
   "outputs": [
    {
     "data": {
      "application/vnd.jupyter.widget-view+json": {
       "model_id": "bbd1bff1ec8248fdb012065545e24e3d",
       "version_major": 2,
       "version_minor": 0
      },
      "text/plain": [
       "  0%|          | 0/1 [00:00<?, ?it/s]"
      ]
     },
     "metadata": {},
     "output_type": "display_data"
    },
    {
     "data": {
      "application/vnd.jupyter.widget-view+json": {
       "model_id": "889cbc7ae18c4fe1b5c94119745aaff8",
       "version_major": 2,
       "version_minor": 0
      },
      "text/plain": [
       "adapter_model.safetensors:   0%|          | 0.00/166M [00:00<?, ?B/s]"
      ]
     },
     "metadata": {},
     "output_type": "display_data"
    },
    {
     "data": {
      "application/vnd.jupyter.widget-view+json": {
       "model_id": "0dcd5bbc21ea40549e400c42bc276617",
       "version_major": 2,
       "version_minor": 0
      },
      "text/plain": [
       "README.md:   0%|          | 0.00/5.17k [00:00<?, ?B/s]"
      ]
     },
     "metadata": {},
     "output_type": "display_data"
    },
    {
     "data": {
      "application/vnd.jupyter.widget-view+json": {
       "model_id": "8c594f7f458045c893fe62d518fee3ca",
       "version_major": 2,
       "version_minor": 0
      },
      "text/plain": [
       "  0%|          | 0/1 [00:00<?, ?it/s]"
      ]
     },
     "metadata": {},
     "output_type": "display_data"
    },
    {
     "data": {
      "application/vnd.jupyter.widget-view+json": {
       "model_id": "60b22b67d5dd4fb085138fcbf94079bd",
       "version_major": 2,
       "version_minor": 0
      },
      "text/plain": [
       "tokenizer.json:   0%|          | 0.00/11.4M [00:00<?, ?B/s]"
      ]
     },
     "metadata": {},
     "output_type": "display_data"
    },
    {
     "name": "stdout",
     "output_type": "stream",
     "text": [
      "LoRA adapters pushed to https://huggingface.co/Vishva007/Qwen2.5-3B-Instruct-RBI-QA-Adoptor\n"
     ]
    }
   ],
   "source": [
    "\n",
    "model.push_to_hub(MODEL_ADOPTOR_REPO_ID)  # type: ignore\n",
    "\n",
    "tokenizer.push_to_hub(MODEL_ADOPTOR_REPO_ID)\n",
    "\n",
    "print(f\"LoRA adapters pushed to https://huggingface.co/{MODEL_ADOPTOR_REPO_ID}\")"
   ]
  }
 ],
 "metadata": {
  "kernelspec": {
   "display_name": "Python 3",
   "language": "python",
   "name": "python3"
  },
  "language_info": {
   "codemirror_mode": {
    "name": "ipython",
    "version": 3
   },
   "file_extension": ".py",
   "mimetype": "text/x-python",
   "name": "python",
   "nbconvert_exporter": "python",
   "pygments_lexer": "ipython3",
   "version": "3.10.17"
  }
 },
 "nbformat": 4,
 "nbformat_minor": 5
}
