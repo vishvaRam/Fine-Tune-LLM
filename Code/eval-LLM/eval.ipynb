{
 "cells": [
  {
   "cell_type": "code",
   "execution_count": null,
   "id": "5d867cff",
   "metadata": {},
   "outputs": [],
   "source": [
    "# !pip install flash-attn --no-build-isolation"
   ]
  },
  {
   "cell_type": "code",
   "execution_count": null,
   "id": "c4686937",
   "metadata": {},
   "outputs": [],
   "source": [
    "# !pip install -r requirements-eval.txt"
   ]
  },
  {
   "cell_type": "code",
   "execution_count": 1,
   "id": "e8d74a5b",
   "metadata": {},
   "outputs": [
    {
     "data": {
      "text/plain": [
       "False"
      ]
     },
     "execution_count": 1,
     "metadata": {},
     "output_type": "execute_result"
    }
   ],
   "source": [
    "import json\n",
    "import torch\n",
    "from typing import List, Optional\n",
    "from pydantic import BaseModel, Field\n",
    "from dotenv import load_dotenv\n",
    "from datasets import load_dataset,Dataset\n",
    "from rich import print\n",
    "from langchain_google_genai import ChatGoogleGenerativeAI\n",
    "from langchain_core.prompts import ChatPromptTemplate\n",
    "from transformers import AutoModelForCausalLM, AutoTokenizer\n",
    "from typing import Dict,Tuple,Any\n",
    "import os\n",
    "import tqdm\n",
    "# os.environ[\"TRANSFORMERS_VERBOSITY\"] = \"info\"\n",
    "load_dotenv()"
   ]
  },
  {
   "cell_type": "code",
   "execution_count": 2,
   "id": "848154eb",
   "metadata": {},
   "outputs": [],
   "source": [
    "os.environ['HF_HUB_ENABLE_HF_TRANSFER'] = '1'\n",
    "os.environ['TOKENIZERS_PARALLELISM'] = 'true'"
   ]
  },
  {
   "cell_type": "code",
   "execution_count": 3,
   "id": "c2243e50",
   "metadata": {},
   "outputs": [
    {
     "data": {
      "text/html": [
       "<pre style=\"white-space:pre;overflow-x:auto;line-height:normal;font-family:Menlo,'DejaVu Sans Mono',consolas,'Courier New',monospace\">GPU is Used!\n",
       "</pre>\n"
      ],
      "text/plain": [
       "GPU is Used!\n"
      ]
     },
     "metadata": {},
     "output_type": "display_data"
    }
   ],
   "source": [
    "if torch.cuda.is_available():\n",
    "    print(\"GPU is Used!\")\n",
    "else:\n",
    "    print(\"CPU is Used!\")"
   ]
  },
  {
   "cell_type": "code",
   "execution_count": null,
   "id": "cf43dc54",
   "metadata": {},
   "outputs": [],
   "source": [
    "from huggingface_hub import notebook_login\n",
    "\n",
    "notebook_login()"
   ]
  },
  {
   "cell_type": "code",
   "execution_count": 5,
   "id": "f9c5a942",
   "metadata": {},
   "outputs": [],
   "source": [
    "PARA = 3\n",
    "MODEL_NAME = f\"Qwen/Qwen2.5-{PARA}B-Instruct\"\n",
    "MODEL_PATH = \"./Models\"\n",
    "DATASET_NAME = \"Vishva007/RBI-Circular-QA-Dataset\"\n",
    "SEED = 42\n",
    "GOOGLE_API_KEY = os.getenv(\"GOOGLE_API_KEY\") \n",
    "GOOGLE_MODEL_ID=\"gemini-2.0-flash\"\n",
    "GOOGLE_TEMPERATURE=0.01\n",
    "GOOGLE_MAX_TOKENS=128\n",
    "EVAL_SET_SIZE = 100\n",
    "MERGED_MODEL_OUTPUT_DIR = f\"./Models/Qwen2.5-{PARA}B-Instruct-RBI-QA-Merged\"\n",
    "MODEL_FINETUNED_REPO_ID = f\"Vishva007/Qwen2.5-{PARA}B-Instruct-RBI-QA-Finetuned\""
   ]
  },
  {
   "cell_type": "code",
   "execution_count": 6,
   "id": "d015ef33",
   "metadata": {},
   "outputs": [
    {
     "data": {
      "text/html": [
       "<pre style=\"white-space:pre;overflow-x:auto;line-height:normal;font-family:Menlo,'DejaVu Sans Mono',consolas,'Courier New',monospace\">Using Model: Qwen/Qwen2.<span style=\"color: #008080; text-decoration-color: #008080; font-weight: bold\">5</span>-3B-Instruct with 3B parameters\n",
       "</pre>\n"
      ],
      "text/plain": [
       "Using Model: Qwen/Qwen2.\u001b[1;36m5\u001b[0m-3B-Instruct with 3B parameters\n"
      ]
     },
     "metadata": {},
     "output_type": "display_data"
    }
   ],
   "source": [
    "print(f\"Using Model: {MODEL_NAME} with {PARA}B parameters\")"
   ]
  },
  {
   "cell_type": "code",
   "execution_count": 7,
   "id": "b9ef364b",
   "metadata": {},
   "outputs": [
    {
     "data": {
      "text/html": [
       "<pre style=\"white-space:pre;overflow-x:auto;line-height:normal;font-family:Menlo,'DejaVu Sans Mono',consolas,'Courier New',monospace\">Current working directory: <span style=\"color: #800080; text-decoration-color: #800080\">/</span><span style=\"color: #ff00ff; text-decoration-color: #ff00ff\">workspace</span>\n",
       "</pre>\n"
      ],
      "text/plain": [
       "Current working directory: \u001b[35m/\u001b[0m\u001b[95mworkspace\u001b[0m\n"
      ]
     },
     "metadata": {},
     "output_type": "display_data"
    },
    {
     "data": {
      "text/html": [
       "<pre style=\"white-space:pre;overflow-x:auto;line-height:normal;font-family:Menlo,'DejaVu Sans Mono',consolas,'Courier New',monospace\">Absolute model path: <span style=\"color: #800080; text-decoration-color: #800080\">/workspace/</span><span style=\"color: #ff00ff; text-decoration-color: #ff00ff\">Models</span>\n",
       "</pre>\n"
      ],
      "text/plain": [
       "Absolute model path: \u001b[35m/workspace/\u001b[0m\u001b[95mModels\u001b[0m\n"
      ]
     },
     "metadata": {},
     "output_type": "display_data"
    }
   ],
   "source": [
    "import os\n",
    "print(f\"Current working directory: {os.getcwd()}\")\n",
    "absolute_model_path = os.path.abspath(MODEL_PATH)\n",
    "print(f\"Absolute model path: {absolute_model_path}\")\n"
   ]
  },
  {
   "cell_type": "code",
   "execution_count": null,
   "id": "552773ab",
   "metadata": {},
   "outputs": [],
   "source": [
    "print(f\"Loading dataset: {DATASET_NAME}\")\n",
    "print(f\"Using seed: {SEED}\")"
   ]
  },
  {
   "cell_type": "code",
   "execution_count": null,
   "id": "a8ac3510",
   "metadata": {},
   "outputs": [],
   "source": [
    "try:\n",
    "    dataset = load_dataset(DATASET_NAME,split=\"eval\")\n",
    "    print(\"Dataset loaded successfully!\")\n",
    "    print(dataset) # Print the dataset structure to see available splits\n",
    "except Exception as e:\n",
    "    print(f\"Error loading dataset: {e}\")\n",
    "    print(\"Please ensure the dataset name is correct and you have an active internet connection.\")\n"
   ]
  },
  {
   "cell_type": "code",
   "execution_count": 9,
   "id": "556ea849",
   "metadata": {},
   "outputs": [],
   "source": [
    "number_of_examples_for_eval = EVAL_SET_SIZE\n",
    "\n",
    "# Get the total number of examples in full_dataset\n",
    "num_examples = len(dataset)\n",
    "\n",
    "# Calculate the start index for the last EVAL_SET_SIZE examples\n",
    "start_index = num_examples - number_of_examples_for_eval\n",
    "\n",
    "# Create a list of indices for the last 1EVAL_SET_SIZE0 examples\n",
    "indices_to_select = list(range(start_index, num_examples))\n",
    "\n",
    "# Use the .select() method to create a new Dataset object containing only those indices\n",
    "eval_dataset = dataset.select(indices_to_select)\n"
   ]
  },
  {
   "cell_type": "code",
   "execution_count": 10,
   "id": "3874dcbd",
   "metadata": {},
   "outputs": [
    {
     "data": {
      "text/html": [
       "<pre style=\"white-space:pre;overflow-x:auto;line-height:normal;font-family:Menlo,'DejaVu Sans Mono',consolas,'Courier New',monospace\">dataset type: <span style=\"font-weight: bold\">&lt;</span><span style=\"color: #ff00ff; text-decoration-color: #ff00ff; font-weight: bold\">class</span><span style=\"color: #000000; text-decoration-color: #000000\"> </span><span style=\"color: #008000; text-decoration-color: #008000\">'datasets.arrow_dataset.Dataset'</span><span style=\"font-weight: bold\">&gt;</span>\n",
       "</pre>\n"
      ],
      "text/plain": [
       "dataset type: \u001b[1m<\u001b[0m\u001b[1;95mclass\u001b[0m\u001b[39m \u001b[0m\u001b[32m'datasets.arrow_dataset.Dataset'\u001b[0m\u001b[1m>\u001b[0m\n"
      ]
     },
     "metadata": {},
     "output_type": "display_data"
    },
    {
     "data": {
      "text/html": [
       "<pre style=\"white-space:pre;overflow-x:auto;line-height:normal;font-family:Menlo,'DejaVu Sans Mono',consolas,'Courier New',monospace\">eval_dataset type: <span style=\"font-weight: bold\">&lt;</span><span style=\"color: #ff00ff; text-decoration-color: #ff00ff; font-weight: bold\">class</span><span style=\"color: #000000; text-decoration-color: #000000\"> </span><span style=\"color: #008000; text-decoration-color: #008000\">'datasets.arrow_dataset.Dataset'</span><span style=\"font-weight: bold\">&gt;</span>\n",
       "</pre>\n"
      ],
      "text/plain": [
       "eval_dataset type: \u001b[1m<\u001b[0m\u001b[1;95mclass\u001b[0m\u001b[39m \u001b[0m\u001b[32m'datasets.arrow_dataset.Dataset'\u001b[0m\u001b[1m>\u001b[0m\n"
      ]
     },
     "metadata": {},
     "output_type": "display_data"
    }
   ],
   "source": [
    "print(\"dataset type:\", type(dataset))\n",
    "print(\"eval_dataset type:\", type(dataset))"
   ]
  },
  {
   "cell_type": "code",
   "execution_count": 11,
   "id": "cec701e8",
   "metadata": {},
   "outputs": [],
   "source": [
    "class ResponseFormat(BaseModel):\n",
    "    answer : str\n",
    "\n",
    "class BatchResponseFormat(BaseModel):\n",
    "    responses: List[ResponseFormat] = Field(..., description=\"List of responses for each question in the batch.\")   \n",
    "    \n",
    "class EvaluationResult(BaseModel):\n",
    "    score: int = Field(..., description=\"Score 1 if the answer fully satisfies ALL the specified criteria, 0 otherwise.\", ge=0, le=1)\n"
   ]
  },
  {
   "cell_type": "code",
   "execution_count": null,
   "id": "1aa7dcba",
   "metadata": {},
   "outputs": [],
   "source": [
    "model = AutoModelForCausalLM.from_pretrained(\n",
    "    MODEL_NAME,\n",
    "    torch_dtype=torch.float16,\n",
    "    device_map=\"auto\",\n",
    "    trust_remote_code=True,\n",
    "    cache_dir=MODEL_PATH,\n",
    ")\n",
    "tokenizer = AutoTokenizer.from_pretrained(MODEL_NAME, cache_dir=MODEL_PATH)\n",
    "\n",
    "tokenizer.pad_token = tokenizer.eos_token\n",
    "tokenizer.padding_side = \"left\"\n"
   ]
  },
  {
   "cell_type": "code",
   "execution_count": 13,
   "id": "eafa0b80",
   "metadata": {},
   "outputs": [],
   "source": [
    "import sys\n",
    "\n",
    "\n",
    "def generate_responses_from_prompts(model, tokenizer, prompts: list[str]) -> list[str]:\n",
    "    \"\"\"\n",
    "    Generates responses for a batch of prompts using a loaded causal language model and tokenizer.\n",
    "\n",
    "    Args:\n",
    "        model: The pre-trained causal language model.\n",
    "        tokenizer: The tokenizer corresponding to the model.\n",
    "        prompts (list[str]): A list of user prompts for which to generate responses.\n",
    "\n",
    "    Returns:\n",
    "        list[str]: A list of generated responses, corresponding to each input prompt.\n",
    "    \"\"\"\n",
    "    if model is None or tokenizer is None:\n",
    "        print(\"Model or tokenizer not loaded. Cannot generate responses.\")\n",
    "        return [\"Error: Model not loaded.\" for _ in prompts]\n",
    "\n",
    "    sys_prompt = \"\"\"\n",
    "        You are a highly knowledgeable AI assistant with expertise in Indian banking and financial regulations, \n",
    "        particularly those outlined in Reserve Bank of India (RBI) circulars.\n",
    "        Your task is to answer questions based on the RBI circulars and related financial regulations.\n",
    "        - Return only the answer to the question.\n",
    "        - Do not include any additional information or explanations.\n",
    "    \"\"\"\n",
    "    # Prepare messages for each prompt in the batch\n",
    "    batched_messages = []\n",
    "    for prompt in prompts:\n",
    "        batched_messages.append([\n",
    "            {\"role\": \"system\", \"content\": sys_prompt},\n",
    "            {\"role\": \"user\", \"content\": prompt}\n",
    "        ])\n",
    "\n",
    "    # Apply chat template to each set of messages and collect texts\n",
    "    batched_texts = [\n",
    "        tokenizer.apply_chat_template(\n",
    "            messages,\n",
    "            tokenize=False,\n",
    "            add_generation_prompt=True\n",
    "        ) for messages in batched_messages\n",
    "    ]\n",
    "\n",
    "    print(f\"Processing {len(prompts)} prompts in batch...\")\n",
    "\n",
    "    try:\n",
    "        # Tokenize the entire batch\n",
    "        # padding=True pads sequences to the longest sequence in the batch\n",
    "        # return_tensors=\"pt\" returns PyTorch tensors\n",
    "        model_inputs = tokenizer(batched_texts, return_tensors=\"pt\", padding=True).to(model.device)\n",
    "\n",
    "        # Generate responses for the entire batch\n",
    "        # max_new_tokens controls the maximum number of tokens to generate per response\n",
    "        # **model_inputs unpacks the dictionary into keyword arguments\n",
    "        generated_ids = model.generate(\n",
    "            **model_inputs,\n",
    "            max_new_tokens=512,\n",
    "            temperature=0.01,\n",
    "            top_p=0.95,\n",
    "            top_k=50\n",
    "        )\n",
    "\n",
    "        # Calculate the length of the input IDs for each original prompt\n",
    "        # This is necessary to slice out only the newly generated tokens\n",
    "        input_lengths = model_inputs.input_ids.shape[1]\n",
    "\n",
    "        # Slice generated_ids to get only the new tokens for each item in the batch\n",
    "        # We iterate through each generated sequence and remove the input part\n",
    "        batch_generated_ids_only = [\n",
    "            output_ids[input_lengths:] for output_ids in generated_ids\n",
    "        ]\n",
    "\n",
    "        # Decode the generated tokens back to text for the entire batch\n",
    "        responses = tokenizer.batch_decode(batch_generated_ids_only, skip_special_tokens=True)\n",
    "        print(\"Batch processing complete.\")\n",
    "        return responses\n",
    "\n",
    "    except Exception as e:\n",
    "        print(f\"Error during generation: {e}\")\n",
    "        return [\"Error generating response.\" for _ in prompts] # Return error for each prompt\n",
    "\n"
   ]
  },
  {
   "cell_type": "code",
   "execution_count": 18,
   "id": "d745955f",
   "metadata": {},
   "outputs": [
    {
     "data": {
      "text/html": [
       "<pre style=\"white-space:pre;overflow-x:auto;line-height:normal;font-family:Menlo,'DejaVu Sans Mono',consolas,'Courier New',monospace\">Processing prompt: <span style=\"font-weight: bold\">[</span><span style=\"color: #008000; text-decoration-color: #008000\">'Why was March 31, 2024 designated as a working day for government transactions in India?'</span>, \n",
       "<span style=\"color: #008000; text-decoration-color: #008000\">'What types of advances are not considered unsecured for Primary (Urban) Co-operative Banks?'</span>, <span style=\"color: #008000; text-decoration-color: #008000\">'What is the </span>\n",
       "<span style=\"color: #008000; text-decoration-color: #008000\">restriction on Urban Co-operative Banks (UCBs) regarding financing Non-Banking Financial Companies (NBFCs), and </span>\n",
       "<span style=\"color: #008000; text-decoration-color: #008000\">what condition applies to admitting leasing or hire-purchase companies as members?'</span>, <span style=\"color: #008000; text-decoration-color: #008000\">'How are Sovereign Green Bonds</span>\n",
       "<span style=\"color: #008000; text-decoration-color: #008000\">issued in the fiscal year 2023-24 treated under the Fully Accessible Route (FAR) for non-resident investors?'</span>, \n",
       "<span style=\"color: #008000; text-decoration-color: #008000\">'What are the key steps and requirements for applying for Sovereign Gold Bonds?'</span><span style=\"font-weight: bold\">]</span>\n",
       "</pre>\n"
      ],
      "text/plain": [
       "Processing prompt: \u001b[1m[\u001b[0m\u001b[32m'Why was March 31, 2024 designated as a working day for government transactions in India?'\u001b[0m, \n",
       "\u001b[32m'What types of advances are not considered unsecured for Primary \u001b[0m\u001b[32m(\u001b[0m\u001b[32mUrban\u001b[0m\u001b[32m)\u001b[0m\u001b[32m Co-operative Banks?'\u001b[0m, \u001b[32m'What is the \u001b[0m\n",
       "\u001b[32mrestriction on Urban Co-operative Banks \u001b[0m\u001b[32m(\u001b[0m\u001b[32mUCBs\u001b[0m\u001b[32m)\u001b[0m\u001b[32m regarding financing Non-Banking Financial Companies \u001b[0m\u001b[32m(\u001b[0m\u001b[32mNBFCs\u001b[0m\u001b[32m)\u001b[0m\u001b[32m, and \u001b[0m\n",
       "\u001b[32mwhat condition applies to admitting leasing or hire-purchase companies as members?'\u001b[0m, \u001b[32m'How are Sovereign Green Bonds\u001b[0m\n",
       "\u001b[32missued in the fiscal year 2023-24 treated under the Fully Accessible Route \u001b[0m\u001b[32m(\u001b[0m\u001b[32mFAR\u001b[0m\u001b[32m)\u001b[0m\u001b[32m for non-resident investors?'\u001b[0m, \n",
       "\u001b[32m'What are the key steps and requirements for applying for Sovereign Gold Bonds?'\u001b[0m\u001b[1m]\u001b[0m\n"
      ]
     },
     "metadata": {},
     "output_type": "display_data"
    }
   ],
   "source": [
    "prompt_to_process = eval_dataset[:5][\"question\"]\n",
    "print(f\"Processing prompt: {prompt_to_process}\")"
   ]
  },
  {
   "cell_type": "code",
   "execution_count": 19,
   "id": "17cb1eab",
   "metadata": {},
   "outputs": [
    {
     "data": {
      "text/html": [
       "<pre style=\"white-space:pre;overflow-x:auto;line-height:normal;font-family:Menlo,'DejaVu Sans Mono',consolas,'Courier New',monospace\">Processing <span style=\"color: #008080; text-decoration-color: #008080; font-weight: bold\">5</span> prompts in batch<span style=\"color: #808000; text-decoration-color: #808000\">...</span>\n",
       "</pre>\n"
      ],
      "text/plain": [
       "Processing \u001b[1;36m5\u001b[0m prompts in batch\u001b[33m...\u001b[0m\n"
      ]
     },
     "metadata": {},
     "output_type": "display_data"
    },
    {
     "data": {
      "text/html": [
       "<pre style=\"white-space:pre;overflow-x:auto;line-height:normal;font-family:Menlo,'DejaVu Sans Mono',consolas,'Courier New',monospace\">Batch processing complete.\n",
       "</pre>\n"
      ],
      "text/plain": [
       "Batch processing complete.\n"
      ]
     },
     "metadata": {},
     "output_type": "display_data"
    }
   ],
   "source": [
    "batch_responses = generate_responses_from_prompts(model, tokenizer, prompt_to_process)"
   ]
  },
  {
   "cell_type": "code",
   "execution_count": 20,
   "id": "698fef88-a020-415c-88e6-5d7eb2489454",
   "metadata": {},
   "outputs": [
    {
     "data": {
      "text/html": [
       "<pre style=\"white-space:pre;overflow-x:auto;line-height:normal;font-family:Menlo,'DejaVu Sans Mono',consolas,'Courier New',monospace\">\n",
       "--- Generated Responses ---\n",
       "</pre>\n"
      ],
      "text/plain": [
       "\n",
       "--- Generated Responses ---\n"
      ]
     },
     "metadata": {},
     "output_type": "display_data"
    },
    {
     "data": {
      "text/html": [
       "<pre style=\"white-space:pre;overflow-x:auto;line-height:normal;font-family:Menlo,'DejaVu Sans Mono',consolas,'Courier New',monospace\">Prompt <span style=\"color: #008080; text-decoration-color: #008080; font-weight: bold\">1</span>: <span style=\"color: #008000; text-decoration-color: #008000\">\"Why was March 31, 2024 designated as a working day for government transactions in India?\"</span>\n",
       "</pre>\n"
      ],
      "text/plain": [
       "Prompt \u001b[1;36m1\u001b[0m: \u001b[32m\"Why was March 31, 2024 designated as a working day for government transactions in India?\"\u001b[0m\n"
      ]
     },
     "metadata": {},
     "output_type": "display_data"
    },
    {
     "data": {
      "text/html": [
       "<pre style=\"white-space:pre;overflow-x:auto;line-height:normal;font-family:Menlo,'DejaVu Sans Mono',consolas,'Courier New',monospace\">Response <span style=\"color: #008080; text-decoration-color: #008080; font-weight: bold\">1</span>:\n",
       "To determine why March <span style=\"color: #008080; text-decoration-color: #008080; font-weight: bold\">31</span>, <span style=\"color: #008080; text-decoration-color: #008080; font-weight: bold\">2024</span> was designated as a working day for government transactions in India, we would need\n",
       "to refer to specific RBI circulars or official announcements from the Government of India. Typically, such \n",
       "designations are made due to national holidays, statutory requirements, or administrative decisions to ensure \n",
       "continuity and efficiency in public services. Without direct access to the relevant document, this information \n",
       "cannot be provided definitively here.\n",
       "------------------------------\n",
       "\n",
       "</pre>\n"
      ],
      "text/plain": [
       "Response \u001b[1;36m1\u001b[0m:\n",
       "To determine why March \u001b[1;36m31\u001b[0m, \u001b[1;36m2024\u001b[0m was designated as a working day for government transactions in India, we would need\n",
       "to refer to specific RBI circulars or official announcements from the Government of India. Typically, such \n",
       "designations are made due to national holidays, statutory requirements, or administrative decisions to ensure \n",
       "continuity and efficiency in public services. Without direct access to the relevant document, this information \n",
       "cannot be provided definitively here.\n",
       "------------------------------\n",
       "\n"
      ]
     },
     "metadata": {},
     "output_type": "display_data"
    },
    {
     "data": {
      "text/html": [
       "<pre style=\"white-space:pre;overflow-x:auto;line-height:normal;font-family:Menlo,'DejaVu Sans Mono',consolas,'Courier New',monospace\">Prompt <span style=\"color: #008080; text-decoration-color: #008080; font-weight: bold\">2</span>: <span style=\"color: #008000; text-decoration-color: #008000\">\"What types of advances are not considered unsecured for Primary (Urban) Co-operative Banks?\"</span>\n",
       "</pre>\n"
      ],
      "text/plain": [
       "Prompt \u001b[1;36m2\u001b[0m: \u001b[32m\"What types of advances are not considered unsecured for Primary \u001b[0m\u001b[32m(\u001b[0m\u001b[32mUrban\u001b[0m\u001b[32m)\u001b[0m\u001b[32m Co-operative Banks?\"\u001b[0m\n"
      ]
     },
     "metadata": {},
     "output_type": "display_data"
    },
    {
     "data": {
      "text/html": [
       "<pre style=\"white-space:pre;overflow-x:auto;line-height:normal;font-family:Menlo,'DejaVu Sans Mono',consolas,'Courier New',monospace\">Response <span style=\"color: #008080; text-decoration-color: #008080; font-weight: bold\">2</span>:\n",
       "Deposits from members, advances against movable and immovable properties, and advances secured by Government \n",
       "securities are not considered unsecured for Primary <span style=\"font-weight: bold\">(</span>Urban<span style=\"font-weight: bold\">)</span> Co-operative Banks.\n",
       "------------------------------\n",
       "\n",
       "</pre>\n"
      ],
      "text/plain": [
       "Response \u001b[1;36m2\u001b[0m:\n",
       "Deposits from members, advances against movable and immovable properties, and advances secured by Government \n",
       "securities are not considered unsecured for Primary \u001b[1m(\u001b[0mUrban\u001b[1m)\u001b[0m Co-operative Banks.\n",
       "------------------------------\n",
       "\n"
      ]
     },
     "metadata": {},
     "output_type": "display_data"
    },
    {
     "data": {
      "text/html": [
       "<pre style=\"white-space:pre;overflow-x:auto;line-height:normal;font-family:Menlo,'DejaVu Sans Mono',consolas,'Courier New',monospace\">Prompt <span style=\"color: #008080; text-decoration-color: #008080; font-weight: bold\">3</span>: <span style=\"color: #008000; text-decoration-color: #008000\">\"What is the restriction on Urban Co-operative Banks (UCBs) regarding financing Non-Banking Financial </span>\n",
       "<span style=\"color: #008000; text-decoration-color: #008000\">Companies (NBFCs), and what condition applies to admitting leasing or hire-purchase companies as members?\"</span>\n",
       "</pre>\n"
      ],
      "text/plain": [
       "Prompt \u001b[1;36m3\u001b[0m: \u001b[32m\"What is the restriction on Urban Co-operative Banks \u001b[0m\u001b[32m(\u001b[0m\u001b[32mUCBs\u001b[0m\u001b[32m)\u001b[0m\u001b[32m regarding financing Non-Banking Financial \u001b[0m\n",
       "\u001b[32mCompanies \u001b[0m\u001b[32m(\u001b[0m\u001b[32mNBFCs\u001b[0m\u001b[32m)\u001b[0m\u001b[32m, and what condition applies to admitting leasing or hire-purchase companies as members?\"\u001b[0m\n"
      ]
     },
     "metadata": {},
     "output_type": "display_data"
    },
    {
     "data": {
      "text/html": [
       "<pre style=\"white-space:pre;overflow-x:auto;line-height:normal;font-family:Menlo,'DejaVu Sans Mono',consolas,'Courier New',monospace\">Response <span style=\"color: #008080; text-decoration-color: #008080; font-weight: bold\">3</span>:\n",
       "Urban Cooperative Banks <span style=\"font-weight: bold\">(</span>UCBs<span style=\"font-weight: bold\">)</span> are restricted from financing Non-Banking Financial Companies <span style=\"font-weight: bold\">(</span>NBFCs<span style=\"font-weight: bold\">)</span>. Additionally,\n",
       "UCBs are required to obtain prior approval from the Reserve Bank of India <span style=\"font-weight: bold\">(</span>RBI<span style=\"font-weight: bold\">)</span> for admitting leasing or \n",
       "hire-purchase companies as members.\n",
       "------------------------------\n",
       "\n",
       "</pre>\n"
      ],
      "text/plain": [
       "Response \u001b[1;36m3\u001b[0m:\n",
       "Urban Cooperative Banks \u001b[1m(\u001b[0mUCBs\u001b[1m)\u001b[0m are restricted from financing Non-Banking Financial Companies \u001b[1m(\u001b[0mNBFCs\u001b[1m)\u001b[0m. Additionally,\n",
       "UCBs are required to obtain prior approval from the Reserve Bank of India \u001b[1m(\u001b[0mRBI\u001b[1m)\u001b[0m for admitting leasing or \n",
       "hire-purchase companies as members.\n",
       "------------------------------\n",
       "\n"
      ]
     },
     "metadata": {},
     "output_type": "display_data"
    },
    {
     "data": {
      "text/html": [
       "<pre style=\"white-space:pre;overflow-x:auto;line-height:normal;font-family:Menlo,'DejaVu Sans Mono',consolas,'Courier New',monospace\">Prompt <span style=\"color: #008080; text-decoration-color: #008080; font-weight: bold\">4</span>: <span style=\"color: #008000; text-decoration-color: #008000\">\"How are Sovereign Green Bonds issued in the fiscal year 2023-24 treated under the Fully Accessible Route</span>\n",
       "<span style=\"color: #008000; text-decoration-color: #008000\">(FAR) for non-resident investors?\"</span>\n",
       "</pre>\n"
      ],
      "text/plain": [
       "Prompt \u001b[1;36m4\u001b[0m: \u001b[32m\"How are Sovereign Green Bonds issued in the fiscal year 2023-24 treated under the Fully Accessible Route\u001b[0m\n",
       "\u001b[32m(\u001b[0m\u001b[32mFAR\u001b[0m\u001b[32m)\u001b[0m\u001b[32m for non-resident investors?\"\u001b[0m\n"
      ]
     },
     "metadata": {},
     "output_type": "display_data"
    },
    {
     "data": {
      "text/html": [
       "<pre style=\"white-space:pre;overflow-x:auto;line-height:normal;font-family:Menlo,'DejaVu Sans Mono',consolas,'Courier New',monospace\">Response <span style=\"color: #008080; text-decoration-color: #008080; font-weight: bold\">4</span>:\n",
       "Sovereign Green Bonds issued in the fiscal year <span style=\"color: #008080; text-decoration-color: #008080; font-weight: bold\">2023</span>-<span style=\"color: #008080; text-decoration-color: #008080; font-weight: bold\">24</span> are treated as part of the Fully Accessible Route <span style=\"font-weight: bold\">(</span>FAR<span style=\"font-weight: bold\">)</span> for\n",
       "non-resident investors if they comply with the guidelines set by the Reserve Bank of India <span style=\"font-weight: bold\">(</span>RBI<span style=\"font-weight: bold\">)</span> for such \n",
       "securities. This typically involves meeting criteria related to transparency, disclosure, and investor protection.\n",
       "------------------------------\n",
       "\n",
       "</pre>\n"
      ],
      "text/plain": [
       "Response \u001b[1;36m4\u001b[0m:\n",
       "Sovereign Green Bonds issued in the fiscal year \u001b[1;36m2023\u001b[0m-\u001b[1;36m24\u001b[0m are treated as part of the Fully Accessible Route \u001b[1m(\u001b[0mFAR\u001b[1m)\u001b[0m for\n",
       "non-resident investors if they comply with the guidelines set by the Reserve Bank of India \u001b[1m(\u001b[0mRBI\u001b[1m)\u001b[0m for such \n",
       "securities. This typically involves meeting criteria related to transparency, disclosure, and investor protection.\n",
       "------------------------------\n",
       "\n"
      ]
     },
     "metadata": {},
     "output_type": "display_data"
    },
    {
     "data": {
      "text/html": [
       "<pre style=\"white-space:pre;overflow-x:auto;line-height:normal;font-family:Menlo,'DejaVu Sans Mono',consolas,'Courier New',monospace\">Prompt <span style=\"color: #008080; text-decoration-color: #008080; font-weight: bold\">5</span>: <span style=\"color: #008000; text-decoration-color: #008000\">\"What are the key steps and requirements for applying for Sovereign Gold Bonds?\"</span>\n",
       "</pre>\n"
      ],
      "text/plain": [
       "Prompt \u001b[1;36m5\u001b[0m: \u001b[32m\"What are the key steps and requirements for applying for Sovereign Gold Bonds?\"\u001b[0m\n"
      ]
     },
     "metadata": {},
     "output_type": "display_data"
    },
    {
     "data": {
      "text/html": [
       "<pre style=\"white-space:pre;overflow-x:auto;line-height:normal;font-family:Menlo,'DejaVu Sans Mono',consolas,'Courier New',monospace\">Response <span style=\"color: #008080; text-decoration-color: #008080; font-weight: bold\">5</span>:\n",
       "To apply for Sovereign Gold Bonds <span style=\"font-weight: bold\">(</span>SGB<span style=\"font-weight: bold\">)</span>, individuals need to follow these key steps and requirements:\n",
       "\n",
       "<span style=\"color: #008080; text-decoration-color: #008080; font-weight: bold\">1</span>. **Eligibility**: The applicant must be a resident individual above <span style=\"color: #008080; text-decoration-color: #008080; font-weight: bold\">18</span> years of age.\n",
       "\n",
       "<span style=\"color: #008080; text-decoration-color: #008080; font-weight: bold\">2</span>. **Application Process**:\n",
       "   - Visit the official website of the Ministry of Finance or authorized banks that offer SGBs.\n",
       "   - Fill out the application form online or offline.\n",
       "   - Provide necessary personal details such as name, address, PAN number, and other required documents.\n",
       "\n",
       "<span style=\"color: #008080; text-decoration-color: #008080; font-weight: bold\">3</span>. **Payment**:\n",
       "   - Make payment through demand draft, bank transfer, or cash at the designated branch of participating banks.\n",
       "   - Ensure the amount applied for is a multiple of Rs. <span style=\"color: #008080; text-decoration-color: #008080; font-weight: bold\">50</span>.\n",
       "\n",
       "<span style=\"color: #008080; text-decoration-color: #008080; font-weight: bold\">4</span>. **Documents Required**:\n",
       "   - Valid identification proof <span style=\"font-weight: bold\">(</span>e.g., Aadhaar card, passport<span style=\"font-weight: bold\">)</span>.\n",
       "   - Proof of residence <span style=\"font-weight: bold\">(</span>e.g., voter ID, ration card<span style=\"font-weight: bold\">)</span>.\n",
       "   - PAN card.\n",
       "   - Demand draft or bank transfer details.\n",
       "\n",
       "<span style=\"color: #008080; text-decoration-color: #008080; font-weight: bold\">5</span>. **Validity and Maturity**:\n",
       "   - The bonds have a maturity period of <span style=\"color: #008080; text-decoration-color: #008080; font-weight: bold\">5</span> years.\n",
       "   - Investors can choose to redeem the bonds before maturity but may incur penalties.\n",
       "\n",
       "<span style=\"color: #008080; text-decoration-color: #008080; font-weight: bold\">6</span>. **Interest Rate**:\n",
       "   - Interest rates are announced by the government from time to time.\n",
       "   - Investors receive interest annually.\n",
       "\n",
       "<span style=\"color: #008080; text-decoration-color: #008080; font-weight: bold\">7</span>. **Redemption**:\n",
       "   - Redemption can be done before maturity.\n",
       "   - Investors can choose to redeem the bonds in multiples of Rs. <span style=\"color: #008080; text-decoration-color: #008080; font-weight: bold\">500</span>.\n",
       "\n",
       "<span style=\"color: #008080; text-decoration-color: #008080; font-weight: bold\">8</span>. **Taxation**:\n",
       "   - Interest earned on SGBs is exempted from income tax under Section <span style=\"color: #800080; text-decoration-color: #800080; font-weight: bold\">10</span><span style=\"font-weight: bold\">(</span>17A<span style=\"font-weight: bold\">)</span> of the Income Tax Act, <span style=\"color: #008080; text-decoration-color: #008080; font-weight: bold\">1961</span>.\n",
       "\n",
       "Follow these steps and ensure all required documents are complete and accurate to successfully apply for Sovereign \n",
       "Gold Bonds.\n",
       "------------------------------\n",
       "\n",
       "</pre>\n"
      ],
      "text/plain": [
       "Response \u001b[1;36m5\u001b[0m:\n",
       "To apply for Sovereign Gold Bonds \u001b[1m(\u001b[0mSGB\u001b[1m)\u001b[0m, individuals need to follow these key steps and requirements:\n",
       "\n",
       "\u001b[1;36m1\u001b[0m. **Eligibility**: The applicant must be a resident individual above \u001b[1;36m18\u001b[0m years of age.\n",
       "\n",
       "\u001b[1;36m2\u001b[0m. **Application Process**:\n",
       "   - Visit the official website of the Ministry of Finance or authorized banks that offer SGBs.\n",
       "   - Fill out the application form online or offline.\n",
       "   - Provide necessary personal details such as name, address, PAN number, and other required documents.\n",
       "\n",
       "\u001b[1;36m3\u001b[0m. **Payment**:\n",
       "   - Make payment through demand draft, bank transfer, or cash at the designated branch of participating banks.\n",
       "   - Ensure the amount applied for is a multiple of Rs. \u001b[1;36m50\u001b[0m.\n",
       "\n",
       "\u001b[1;36m4\u001b[0m. **Documents Required**:\n",
       "   - Valid identification proof \u001b[1m(\u001b[0me.g., Aadhaar card, passport\u001b[1m)\u001b[0m.\n",
       "   - Proof of residence \u001b[1m(\u001b[0me.g., voter ID, ration card\u001b[1m)\u001b[0m.\n",
       "   - PAN card.\n",
       "   - Demand draft or bank transfer details.\n",
       "\n",
       "\u001b[1;36m5\u001b[0m. **Validity and Maturity**:\n",
       "   - The bonds have a maturity period of \u001b[1;36m5\u001b[0m years.\n",
       "   - Investors can choose to redeem the bonds before maturity but may incur penalties.\n",
       "\n",
       "\u001b[1;36m6\u001b[0m. **Interest Rate**:\n",
       "   - Interest rates are announced by the government from time to time.\n",
       "   - Investors receive interest annually.\n",
       "\n",
       "\u001b[1;36m7\u001b[0m. **Redemption**:\n",
       "   - Redemption can be done before maturity.\n",
       "   - Investors can choose to redeem the bonds in multiples of Rs. \u001b[1;36m500\u001b[0m.\n",
       "\n",
       "\u001b[1;36m8\u001b[0m. **Taxation**:\n",
       "   - Interest earned on SGBs is exempted from income tax under Section \u001b[1;35m10\u001b[0m\u001b[1m(\u001b[0m17A\u001b[1m)\u001b[0m of the Income Tax Act, \u001b[1;36m1961\u001b[0m.\n",
       "\n",
       "Follow these steps and ensure all required documents are complete and accurate to successfully apply for Sovereign \n",
       "Gold Bonds.\n",
       "------------------------------\n",
       "\n"
      ]
     },
     "metadata": {},
     "output_type": "display_data"
    }
   ],
   "source": [
    "# Print the generated responses\n",
    "print(\"\\n--- Generated Responses ---\")\n",
    "for i, response in enumerate(batch_responses):\n",
    "    print(f\"Prompt {i+1}: \\\"{prompt_to_process[i]}\\\"\")\n",
    "    print(f\"Response {i+1}:\\n{response}\\n{'-'*30}\\n\")"
   ]
  },
  {
   "cell_type": "code",
   "execution_count": 21,
   "id": "d8c390ec",
   "metadata": {},
   "outputs": [],
   "source": [
    "# Initialize Gemini LLM\n",
    "llm = ChatGoogleGenerativeAI(\n",
    "        model=GOOGLE_MODEL_ID, \n",
    "        temperature=GOOGLE_TEMPERATURE,\n",
    "        max_tokens=GOOGLE_MAX_TOKENS,\n",
    "        timeout=None,\n",
    "        api_key=GOOGLE_API_KEY,\n",
    "    )"
   ]
  },
  {
   "cell_type": "code",
   "execution_count": 22,
   "id": "beb69e04",
   "metadata": {},
   "outputs": [],
   "source": [
    "\n",
    "\n",
    "def generate_answers_with_transformers(\n",
    "    model,\n",
    "    eval_dataset: Dataset,\n",
    "    batch_size: int = 10,\n",
    ") -> List[Dict[str, str]]:\n",
    "    \"\"\"\n",
    "    Generates answers for a dataset using an transformers LLM.\n",
    "\n",
    "    Args:\n",
    "        model: The loaded HuggingFace model for transformers.\n",
    "        eval_dataset (datasets.Dataset): The dataset containing 'question' fields.\n",
    "        batch_size (int): The number of samples to process in each batch.\n",
    "        device (str): The device to run the model on (e.g., \"cuda\" or \"cpu\").\n",
    "\n",
    "    Returns:\n",
    "        List[Dict[str, str]]: A list of dictionaries, each containing the original question\n",
    "                              and the 'generated_answer' from Outlines.\n",
    "    \"\"\"\n",
    "\n",
    "    generated_data = []\n",
    "\n",
    "    print(f\"Generating answers in batches of {batch_size}...\")\n",
    "    for i in range(0, len(eval_dataset), batch_size):\n",
    "        batch_slice = eval_dataset.select(list(range(i, min(i + batch_size, len(eval_dataset)))))\n",
    "        \n",
    "        inputs = [item['question'] for item in batch_slice.to_list()]\n",
    "\n",
    "        try:\n",
    "            \n",
    "            batch_response_instance = generate_responses_from_prompts(model, tokenizer, inputs)\n",
    "            \n",
    "            for original_item, transformers_output in zip(batch_slice.to_list(), batch_response_instance):\n",
    "                generated_data.append({\n",
    "                    \"question\": original_item['question'],\n",
    "                    \"generated_answer\": transformers_output\n",
    "                })\n",
    "        except Exception as e:\n",
    "            print(f\"Error during transformers generation for batch starting at index {i}: {e}\")\n",
    "            for original_item in batch_slice.to_list():\n",
    "                 generated_data.append({\n",
    "                    \"question\": original_item['question'],\n",
    "                    \"generated_answer\": \"\\\\ (Generation Failed)\"\n",
    "                })\n",
    "\n",
    "    print(\"transformers answer generation complete.\")\n",
    "    return generated_data"
   ]
  },
  {
   "cell_type": "code",
   "execution_count": 30,
   "id": "72a1260a",
   "metadata": {},
   "outputs": [
    {
     "data": {
      "text/html": [
       "<pre style=\"white-space:pre;overflow-x:auto;line-height:normal;font-family:Menlo,'DejaVu Sans Mono',consolas,'Courier New',monospace\">Generating answers in batches of <span style=\"color: #008080; text-decoration-color: #008080; font-weight: bold\">20</span><span style=\"color: #808000; text-decoration-color: #808000\">...</span>\n",
       "</pre>\n"
      ],
      "text/plain": [
       "Generating answers in batches of \u001b[1;36m20\u001b[0m\u001b[33m...\u001b[0m\n"
      ]
     },
     "metadata": {},
     "output_type": "display_data"
    },
    {
     "data": {
      "text/html": [
       "<pre style=\"white-space:pre;overflow-x:auto;line-height:normal;font-family:Menlo,'DejaVu Sans Mono',consolas,'Courier New',monospace\">Processing <span style=\"color: #008080; text-decoration-color: #008080; font-weight: bold\">20</span> prompts in batch<span style=\"color: #808000; text-decoration-color: #808000\">...</span>\n",
       "</pre>\n"
      ],
      "text/plain": [
       "Processing \u001b[1;36m20\u001b[0m prompts in batch\u001b[33m...\u001b[0m\n"
      ]
     },
     "metadata": {},
     "output_type": "display_data"
    },
    {
     "data": {
      "text/html": [
       "<pre style=\"white-space:pre;overflow-x:auto;line-height:normal;font-family:Menlo,'DejaVu Sans Mono',consolas,'Courier New',monospace\">Batch processing complete.\n",
       "</pre>\n"
      ],
      "text/plain": [
       "Batch processing complete.\n"
      ]
     },
     "metadata": {},
     "output_type": "display_data"
    },
    {
     "data": {
      "text/html": [
       "<pre style=\"white-space:pre;overflow-x:auto;line-height:normal;font-family:Menlo,'DejaVu Sans Mono',consolas,'Courier New',monospace\">Processing <span style=\"color: #008080; text-decoration-color: #008080; font-weight: bold\">20</span> prompts in batch<span style=\"color: #808000; text-decoration-color: #808000\">...</span>\n",
       "</pre>\n"
      ],
      "text/plain": [
       "Processing \u001b[1;36m20\u001b[0m prompts in batch\u001b[33m...\u001b[0m\n"
      ]
     },
     "metadata": {},
     "output_type": "display_data"
    },
    {
     "data": {
      "text/html": [
       "<pre style=\"white-space:pre;overflow-x:auto;line-height:normal;font-family:Menlo,'DejaVu Sans Mono',consolas,'Courier New',monospace\">Batch processing complete.\n",
       "</pre>\n"
      ],
      "text/plain": [
       "Batch processing complete.\n"
      ]
     },
     "metadata": {},
     "output_type": "display_data"
    },
    {
     "data": {
      "text/html": [
       "<pre style=\"white-space:pre;overflow-x:auto;line-height:normal;font-family:Menlo,'DejaVu Sans Mono',consolas,'Courier New',monospace\">Processing <span style=\"color: #008080; text-decoration-color: #008080; font-weight: bold\">20</span> prompts in batch<span style=\"color: #808000; text-decoration-color: #808000\">...</span>\n",
       "</pre>\n"
      ],
      "text/plain": [
       "Processing \u001b[1;36m20\u001b[0m prompts in batch\u001b[33m...\u001b[0m\n"
      ]
     },
     "metadata": {},
     "output_type": "display_data"
    },
    {
     "data": {
      "text/html": [
       "<pre style=\"white-space:pre;overflow-x:auto;line-height:normal;font-family:Menlo,'DejaVu Sans Mono',consolas,'Courier New',monospace\">Batch processing complete.\n",
       "</pre>\n"
      ],
      "text/plain": [
       "Batch processing complete.\n"
      ]
     },
     "metadata": {},
     "output_type": "display_data"
    },
    {
     "data": {
      "text/html": [
       "<pre style=\"white-space:pre;overflow-x:auto;line-height:normal;font-family:Menlo,'DejaVu Sans Mono',consolas,'Courier New',monospace\">Processing <span style=\"color: #008080; text-decoration-color: #008080; font-weight: bold\">20</span> prompts in batch<span style=\"color: #808000; text-decoration-color: #808000\">...</span>\n",
       "</pre>\n"
      ],
      "text/plain": [
       "Processing \u001b[1;36m20\u001b[0m prompts in batch\u001b[33m...\u001b[0m\n"
      ]
     },
     "metadata": {},
     "output_type": "display_data"
    },
    {
     "data": {
      "text/html": [
       "<pre style=\"white-space:pre;overflow-x:auto;line-height:normal;font-family:Menlo,'DejaVu Sans Mono',consolas,'Courier New',monospace\">Batch processing complete.\n",
       "</pre>\n"
      ],
      "text/plain": [
       "Batch processing complete.\n"
      ]
     },
     "metadata": {},
     "output_type": "display_data"
    },
    {
     "data": {
      "text/html": [
       "<pre style=\"white-space:pre;overflow-x:auto;line-height:normal;font-family:Menlo,'DejaVu Sans Mono',consolas,'Courier New',monospace\">Processing <span style=\"color: #008080; text-decoration-color: #008080; font-weight: bold\">20</span> prompts in batch<span style=\"color: #808000; text-decoration-color: #808000\">...</span>\n",
       "</pre>\n"
      ],
      "text/plain": [
       "Processing \u001b[1;36m20\u001b[0m prompts in batch\u001b[33m...\u001b[0m\n"
      ]
     },
     "metadata": {},
     "output_type": "display_data"
    },
    {
     "data": {
      "text/html": [
       "<pre style=\"white-space:pre;overflow-x:auto;line-height:normal;font-family:Menlo,'DejaVu Sans Mono',consolas,'Courier New',monospace\">Batch processing complete.\n",
       "</pre>\n"
      ],
      "text/plain": [
       "Batch processing complete.\n"
      ]
     },
     "metadata": {},
     "output_type": "display_data"
    },
    {
     "data": {
      "text/html": [
       "<pre style=\"white-space:pre;overflow-x:auto;line-height:normal;font-family:Menlo,'DejaVu Sans Mono',consolas,'Courier New',monospace\">transformers answer generation complete.\n",
       "</pre>\n"
      ],
      "text/plain": [
       "transformers answer generation complete.\n"
      ]
     },
     "metadata": {},
     "output_type": "display_data"
    }
   ],
   "source": [
    "generated_answers = generate_answers_with_transformers(\n",
    "    model,\n",
    "    eval_dataset,\n",
    "    batch_size=20,\n",
    ")"
   ]
  },
  {
   "cell_type": "code",
   "execution_count": 31,
   "id": "9c8e3f89",
   "metadata": {},
   "outputs": [
    {
     "data": {
      "text/html": [
       "<pre style=\"white-space:pre;overflow-x:auto;line-height:normal;font-family:Menlo,'DejaVu Sans Mono',consolas,'Courier New',monospace\"><span style=\"font-weight: bold\">[</span>\n",
       "    <span style=\"font-weight: bold\">{</span>\n",
       "        <span style=\"color: #008000; text-decoration-color: #008000\">'question'</span>: <span style=\"color: #008000; text-decoration-color: #008000\">'Why was March 31, 2024 designated as a working day for government transactions in India?'</span>,\n",
       "        <span style=\"color: #008000; text-decoration-color: #008000\">'generated_answer'</span>: <span style=\"color: #008000; text-decoration-color: #008000\">'To determine why March 31, 2024 was designated as a working day for government </span>\n",
       "<span style=\"color: #008000; text-decoration-color: #008000\">transactions in India, we would need to refer to specific RBI circulars or official announcements from the </span>\n",
       "<span style=\"color: #008000; text-decoration-color: #008000\">Government of India. Typically, such designations are made due to national holidays, statutory requirements, or </span>\n",
       "<span style=\"color: #008000; text-decoration-color: #008000\">administrative decisions to ensure continuity and efficiency in public services. Without direct access to the </span>\n",
       "<span style=\"color: #008000; text-decoration-color: #008000\">relevant document, this information cannot be provided definitively here.'</span>\n",
       "    <span style=\"font-weight: bold\">}</span>,\n",
       "    <span style=\"font-weight: bold\">{</span>\n",
       "        <span style=\"color: #008000; text-decoration-color: #008000\">'question'</span>: <span style=\"color: #008000; text-decoration-color: #008000\">'What types of advances are not considered unsecured for Primary (Urban) Co-operative Banks?'</span>,\n",
       "        <span style=\"color: #008000; text-decoration-color: #008000\">'generated_answer'</span>: <span style=\"color: #008000; text-decoration-color: #008000\">'Deposits from members, advances against movable and immovable properties, and advances</span>\n",
       "<span style=\"color: #008000; text-decoration-color: #008000\">secured by Government securities are not considered unsecured for Primary (Urban) Co-operative Banks.'</span>\n",
       "    <span style=\"font-weight: bold\">}</span>,\n",
       "    <span style=\"font-weight: bold\">{</span>\n",
       "        <span style=\"color: #008000; text-decoration-color: #008000\">'question'</span>: <span style=\"color: #008000; text-decoration-color: #008000\">'What is the restriction on Urban Co-operative Banks (UCBs) regarding financing Non-Banking </span>\n",
       "<span style=\"color: #008000; text-decoration-color: #008000\">Financial Companies (NBFCs), and what condition applies to admitting leasing or hire-purchase companies as </span>\n",
       "<span style=\"color: #008000; text-decoration-color: #008000\">members?'</span>,\n",
       "        <span style=\"color: #008000; text-decoration-color: #008000\">'generated_answer'</span>: <span style=\"color: #008000; text-decoration-color: #008000\">'Urban Cooperative Banks (UCBs) are restricted from financing Non-Banking Financial </span>\n",
       "<span style=\"color: #008000; text-decoration-color: #008000\">Companies (NBFCs). Additionally, UCBs are required to obtain prior approval from the Reserve Bank of India (RBI) </span>\n",
       "<span style=\"color: #008000; text-decoration-color: #008000\">for admitting leasing or hire-purchase companies as members.'</span>\n",
       "    <span style=\"font-weight: bold\">}</span>,\n",
       "    <span style=\"font-weight: bold\">{</span>\n",
       "        <span style=\"color: #008000; text-decoration-color: #008000\">'question'</span>: <span style=\"color: #008000; text-decoration-color: #008000\">'How are Sovereign Green Bonds issued in the fiscal year 2023-24 treated under the Fully </span>\n",
       "<span style=\"color: #008000; text-decoration-color: #008000\">Accessible Route (FAR) for non-resident investors?'</span>,\n",
       "        <span style=\"color: #008000; text-decoration-color: #008000\">'generated_answer'</span>: <span style=\"color: #008000; text-decoration-color: #008000\">'Sovereign Green Bonds issued in the fiscal year 2023-24 are treated as part of the </span>\n",
       "<span style=\"color: #008000; text-decoration-color: #008000\">Fully Accessible Route (FAR) for non-resident investors if they comply with the guidelines set by the Reserve Bank </span>\n",
       "<span style=\"color: #008000; text-decoration-color: #008000\">of India (RBI) for such securities. This typically involves meeting criteria related to transparency, disclosure, </span>\n",
       "<span style=\"color: #008000; text-decoration-color: #008000\">and investor protection.'</span>\n",
       "    <span style=\"font-weight: bold\">}</span>,\n",
       "    <span style=\"font-weight: bold\">{</span>\n",
       "        <span style=\"color: #008000; text-decoration-color: #008000\">'question'</span>: <span style=\"color: #008000; text-decoration-color: #008000\">'What are the key steps and requirements for applying for Sovereign Gold Bonds?'</span>,\n",
       "        <span style=\"color: #008000; text-decoration-color: #008000\">'generated_answer'</span>: <span style=\"color: #008000; text-decoration-color: #008000\">'To apply for Sovereign Gold Bonds (SGB), individuals need to follow these key steps </span>\n",
       "<span style=\"color: #008000; text-decoration-color: #008000\">and requirements:\\n\\n1. **Eligibility**: The applicant must be a resident individual above 18 years of age.\\n\\n2. </span>\n",
       "<span style=\"color: #008000; text-decoration-color: #008000\">**Application Process**:\\n   - Visit the official website of the Ministry of Finance or authorized banks that offer</span>\n",
       "<span style=\"color: #008000; text-decoration-color: #008000\">SGBs.\\n   - Fill out the application form online or offline.\\n   - Provide necessary personal details such as name,</span>\n",
       "<span style=\"color: #008000; text-decoration-color: #008000\">address, PAN number, and other required documents.\\n\\n3. **Payment**:\\n   - Make payment through demand draft, net </span>\n",
       "<span style=\"color: #008000; text-decoration-color: #008000\">banking, or through an authorized bank branch.\\n   - Ensure that the amount applied for is a multiple of Rs. </span>\n",
       "<span style=\"color: #008000; text-decoration-color: #008000\">50.\\n\\n4. **Documents Required**:\\n   - Valid identification proof (e.g., Aadhaar card, passport).\\n   - Proof of </span>\n",
       "<span style=\"color: #008000; text-decoration-color: #008000\">residence (e.g., voter ID, ration card).\\n   - PAN card.\\n   - Demand Draft (DD) receipt if applying through </span>\n",
       "<span style=\"color: #008000; text-decoration-color: #008000\">DD.\\n\\n5. **Validity and Maturity**:\\n   - The bonds have a maturity period of 5 years.\\n   - Investors can choose </span>\n",
       "<span style=\"color: #008000; text-decoration-color: #008000\">to redeem the bonds before maturity at face value.\\n\\n6. **Interest Rate**:\\n   - Interest rates are announced by </span>\n",
       "<span style=\"color: #008000; text-decoration-color: #008000\">the government from time to time.\\n   - Interest is compounded annually.\\n\\n7. **Taxation**:\\n   - Interest earned </span>\n",
       "<span style=\"color: #008000; text-decoration-color: #008000\">on SGBs is exempted from income tax under Section 10(17A) of the Income Tax Act, 1961.\\n\\n8. **Redemption**:\\n   - </span>\n",
       "<span style=\"color: #008000; text-decoration-color: #008000\">Redemption can be done before maturity.\\n   - Redemption proceeds will be credited to the investor’s account within</span>\n",
       "<span style=\"color: #008000; text-decoration-color: #008000\">15 working days.\\n\\nFor detailed and up-to-date information, it is advisable to refer to the latest RBI circulars </span>\n",
       "<span style=\"color: #008000; text-decoration-color: #008000\">and the official website of the Ministry of Finance.'</span>\n",
       "    <span style=\"font-weight: bold\">}</span>,\n",
       "    <span style=\"font-weight: bold\">{</span>\n",
       "        <span style=\"color: #008000; text-decoration-color: #008000\">'question'</span>: <span style=\"color: #008000; text-decoration-color: #008000\">'What is the role of the Reserve Bank of India in assigning lead bank responsibility when a new</span>\n",
       "<span style=\"color: #008000; text-decoration-color: #008000\">district is created, and why is this done?'</span>,\n",
       "        <span style=\"color: #008000; text-decoration-color: #008000\">'generated_answer'</span>: <span style=\"color: #008000; text-decoration-color: #008000\">'The Reserve Bank of India assigns lead bank responsibility in a newly created district</span>\n",
       "<span style=\"color: #008000; text-decoration-color: #008000\">to ensure effective implementation of banking policies and services. This role helps in maintaining financial </span>\n",
       "<span style=\"color: #008000; text-decoration-color: #008000\">stability and accessibility in remote areas by facilitating better access to banking facilities and ensuring </span>\n",
       "<span style=\"color: #008000; text-decoration-color: #008000\">compliance with regulatory standards.'</span>\n",
       "    <span style=\"font-weight: bold\">}</span>,\n",
       "    <span style=\"font-weight: bold\">{</span>\n",
       "        <span style=\"color: #008000; text-decoration-color: #008000\">'question'</span>: <span style=\"color: #008000; text-decoration-color: #008000\">'Under what conditions are transferors exempt from the Minimum Holding Period requirement when </span>\n",
       "<span style=\"color: #008000; text-decoration-color: #008000\">transferring receivables acquired through factoring?'</span>,\n",
       "        <span style=\"color: #008000; text-decoration-color: #008000\">'generated_answer'</span>: <span style=\"color: #008000; text-decoration-color: #008000\">'Transferors are exempt from the Minimum Holding Period requirement when transferring </span>\n",
       "<span style=\"color: #008000; text-decoration-color: #008000\">receivables acquired through factoring if the factoring agreement includes a clause that explicitly exempts them </span>\n",
       "<span style=\"color: #008000; text-decoration-color: #008000\">from this requirement. This exemption must be clearly stated in the terms of the factoring contract.'</span>\n",
       "    <span style=\"font-weight: bold\">}</span>,\n",
       "    <span style=\"font-weight: bold\">{</span>\n",
       "        <span style=\"color: #008000; text-decoration-color: #008000\">'question'</span>: <span style=\"color: #008000; text-decoration-color: #008000\">'How does the minimum number of professional staff required for an audit firm vary based on the</span>\n",
       "<span style=\"color: #008000; text-decoration-color: #008000\">asset size of the State Co-operative Bank or Central Co-operative Bank being audited?'</span>,\n",
       "        <span style=\"color: #008000; text-decoration-color: #008000\">'generated_answer'</span>: <span style=\"color: #008000; text-decoration-color: #008000\">'The minimum number of professional staff required for an audit firm varies based on </span>\n",
       "<span style=\"color: #008000; text-decoration-color: #008000\">the type of audit (annual audit, special audit, etc.) and the nature of the audit engagement, rather than solely on</span>\n",
       "<span style=\"color: #008000; text-decoration-color: #008000\">the asset size of the State Co-operative Bank or Central Co-operative Bank. Specific requirements are detailed in </span>\n",
       "<span style=\"color: #008000; text-decoration-color: #008000\">the relevant RBI guidelines and the Companies Act, 2013.'</span>\n",
       "    <span style=\"font-weight: bold\">}</span>,\n",
       "    <span style=\"font-weight: bold\">{</span>\n",
       "        <span style=\"color: #008000; text-decoration-color: #008000\">'question'</span>: <span style=\"color: #008000; text-decoration-color: #008000\">'What measures are typically imposed on individuals and entities included in the Al-Qaida </span>\n",
       "<span style=\"color: #008000; text-decoration-color: #008000\">Sanctions List?'</span>,\n",
       "        <span style=\"color: #008000; text-decoration-color: #008000\">'generated_answer'</span>: <span style=\"color: #008000; text-decoration-color: #008000\">'Individuals and entities included in the Al-Qaida Sanctions List are typically subject</span>\n",
       "<span style=\"color: #008000; text-decoration-color: #008000\">to asset freezes and prohibitions on transactions involving the assets of these entities. They may also be barred </span>\n",
       "<span style=\"color: #008000; text-decoration-color: #008000\">from receiving financial assistance or services from financial institutions regulated by the Reserve Bank of India </span>\n",
       "<span style=\"color: #008000; text-decoration-color: #008000\">(RBI).'</span>\n",
       "    <span style=\"font-weight: bold\">}</span>,\n",
       "    <span style=\"font-weight: bold\">{</span>\n",
       "        <span style=\"color: #008000; text-decoration-color: #008000\">'question'</span>: <span style=\"color: #008000; text-decoration-color: #008000\">'What are the guidelines for Scheduled Commercial Banks regarding setting borrowing limits in </span>\n",
       "<span style=\"color: #008000; text-decoration-color: #008000\">the Call and Notice Money Markets?'</span>,\n",
       "        <span style=\"color: #008000; text-decoration-color: #008000\">'generated_answer'</span>: <span style=\"color: #008000; text-decoration-color: #008000\">'Scheduled Commercial Banks must adhere to the guidelines set by the Reserve Bank of </span>\n",
       "<span style=\"color: #008000; text-decoration-color: #008000\">India (RBI) for setting borrowing limits in the Call and Notice Money Markets. These guidelines ensure that banks </span>\n",
       "<span style=\"color: #008000; text-decoration-color: #008000\">maintain adequate liquidity and comply with prudential norms while participating in these markets. Specific details</span>\n",
       "<span style=\"color: #008000; text-decoration-color: #008000\">are typically found in the latest RBI circulars and guidelines issued under the Banking Regulation Act, 1949.'</span>\n",
       "    <span style=\"font-weight: bold\">}</span>\n",
       "<span style=\"font-weight: bold\">]</span>\n",
       "</pre>\n"
      ],
      "text/plain": [
       "\u001b[1m[\u001b[0m\n",
       "    \u001b[1m{\u001b[0m\n",
       "        \u001b[32m'question'\u001b[0m: \u001b[32m'Why was March 31, 2024 designated as a working day for government transactions in India?'\u001b[0m,\n",
       "        \u001b[32m'generated_answer'\u001b[0m: \u001b[32m'To determine why March 31, 2024 was designated as a working day for government \u001b[0m\n",
       "\u001b[32mtransactions in India, we would need to refer to specific RBI circulars or official announcements from the \u001b[0m\n",
       "\u001b[32mGovernment of India. Typically, such designations are made due to national holidays, statutory requirements, or \u001b[0m\n",
       "\u001b[32madministrative decisions to ensure continuity and efficiency in public services. Without direct access to the \u001b[0m\n",
       "\u001b[32mrelevant document, this information cannot be provided definitively here.'\u001b[0m\n",
       "    \u001b[1m}\u001b[0m,\n",
       "    \u001b[1m{\u001b[0m\n",
       "        \u001b[32m'question'\u001b[0m: \u001b[32m'What types of advances are not considered unsecured for Primary \u001b[0m\u001b[32m(\u001b[0m\u001b[32mUrban\u001b[0m\u001b[32m)\u001b[0m\u001b[32m Co-operative Banks?'\u001b[0m,\n",
       "        \u001b[32m'generated_answer'\u001b[0m: \u001b[32m'Deposits from members, advances against movable and immovable properties, and advances\u001b[0m\n",
       "\u001b[32msecured by Government securities are not considered unsecured for Primary \u001b[0m\u001b[32m(\u001b[0m\u001b[32mUrban\u001b[0m\u001b[32m)\u001b[0m\u001b[32m Co-operative Banks.'\u001b[0m\n",
       "    \u001b[1m}\u001b[0m,\n",
       "    \u001b[1m{\u001b[0m\n",
       "        \u001b[32m'question'\u001b[0m: \u001b[32m'What is the restriction on Urban Co-operative Banks \u001b[0m\u001b[32m(\u001b[0m\u001b[32mUCBs\u001b[0m\u001b[32m)\u001b[0m\u001b[32m regarding financing Non-Banking \u001b[0m\n",
       "\u001b[32mFinancial Companies \u001b[0m\u001b[32m(\u001b[0m\u001b[32mNBFCs\u001b[0m\u001b[32m)\u001b[0m\u001b[32m, and what condition applies to admitting leasing or hire-purchase companies as \u001b[0m\n",
       "\u001b[32mmembers?'\u001b[0m,\n",
       "        \u001b[32m'generated_answer'\u001b[0m: \u001b[32m'Urban Cooperative Banks \u001b[0m\u001b[32m(\u001b[0m\u001b[32mUCBs\u001b[0m\u001b[32m)\u001b[0m\u001b[32m are restricted from financing Non-Banking Financial \u001b[0m\n",
       "\u001b[32mCompanies \u001b[0m\u001b[32m(\u001b[0m\u001b[32mNBFCs\u001b[0m\u001b[32m)\u001b[0m\u001b[32m. Additionally, UCBs are required to obtain prior approval from the Reserve Bank of India \u001b[0m\u001b[32m(\u001b[0m\u001b[32mRBI\u001b[0m\u001b[32m)\u001b[0m\u001b[32m \u001b[0m\n",
       "\u001b[32mfor admitting leasing or hire-purchase companies as members.'\u001b[0m\n",
       "    \u001b[1m}\u001b[0m,\n",
       "    \u001b[1m{\u001b[0m\n",
       "        \u001b[32m'question'\u001b[0m: \u001b[32m'How are Sovereign Green Bonds issued in the fiscal year 2023-24 treated under the Fully \u001b[0m\n",
       "\u001b[32mAccessible Route \u001b[0m\u001b[32m(\u001b[0m\u001b[32mFAR\u001b[0m\u001b[32m)\u001b[0m\u001b[32m for non-resident investors?'\u001b[0m,\n",
       "        \u001b[32m'generated_answer'\u001b[0m: \u001b[32m'Sovereign Green Bonds issued in the fiscal year 2023-24 are treated as part of the \u001b[0m\n",
       "\u001b[32mFully Accessible Route \u001b[0m\u001b[32m(\u001b[0m\u001b[32mFAR\u001b[0m\u001b[32m)\u001b[0m\u001b[32m for non-resident investors if they comply with the guidelines set by the Reserve Bank \u001b[0m\n",
       "\u001b[32mof India \u001b[0m\u001b[32m(\u001b[0m\u001b[32mRBI\u001b[0m\u001b[32m)\u001b[0m\u001b[32m for such securities. This typically involves meeting criteria related to transparency, disclosure, \u001b[0m\n",
       "\u001b[32mand investor protection.'\u001b[0m\n",
       "    \u001b[1m}\u001b[0m,\n",
       "    \u001b[1m{\u001b[0m\n",
       "        \u001b[32m'question'\u001b[0m: \u001b[32m'What are the key steps and requirements for applying for Sovereign Gold Bonds?'\u001b[0m,\n",
       "        \u001b[32m'generated_answer'\u001b[0m: \u001b[32m'To apply for Sovereign Gold Bonds \u001b[0m\u001b[32m(\u001b[0m\u001b[32mSGB\u001b[0m\u001b[32m)\u001b[0m\u001b[32m, individuals need to follow these key steps \u001b[0m\n",
       "\u001b[32mand requirements:\\n\\n1. **Eligibility**: The applicant must be a resident individual above 18 years of age.\\n\\n2. \u001b[0m\n",
       "\u001b[32m**Application Process**:\\n   - Visit the official website of the Ministry of Finance or authorized banks that offer\u001b[0m\n",
       "\u001b[32mSGBs.\\n   - Fill out the application form online or offline.\\n   - Provide necessary personal details such as name,\u001b[0m\n",
       "\u001b[32maddress, PAN number, and other required documents.\\n\\n3. **Payment**:\\n   - Make payment through demand draft, net \u001b[0m\n",
       "\u001b[32mbanking, or through an authorized bank branch.\\n   - Ensure that the amount applied for is a multiple of Rs. \u001b[0m\n",
       "\u001b[32m50.\\n\\n4. **Documents Required**:\\n   - Valid identification proof \u001b[0m\u001b[32m(\u001b[0m\u001b[32me.g., Aadhaar card, passport\u001b[0m\u001b[32m)\u001b[0m\u001b[32m.\\n   - Proof of \u001b[0m\n",
       "\u001b[32mresidence \u001b[0m\u001b[32m(\u001b[0m\u001b[32me.g., voter ID, ration card\u001b[0m\u001b[32m)\u001b[0m\u001b[32m.\\n   - PAN card.\\n   - Demand Draft \u001b[0m\u001b[32m(\u001b[0m\u001b[32mDD\u001b[0m\u001b[32m)\u001b[0m\u001b[32m receipt if applying through \u001b[0m\n",
       "\u001b[32mDD.\\n\\n5. **Validity and Maturity**:\\n   - The bonds have a maturity period of 5 years.\\n   - Investors can choose \u001b[0m\n",
       "\u001b[32mto redeem the bonds before maturity at face value.\\n\\n6. **Interest Rate**:\\n   - Interest rates are announced by \u001b[0m\n",
       "\u001b[32mthe government from time to time.\\n   - Interest is compounded annually.\\n\\n7. **Taxation**:\\n   - Interest earned \u001b[0m\n",
       "\u001b[32mon SGBs is exempted from income tax under Section 10\u001b[0m\u001b[32m(\u001b[0m\u001b[32m17A\u001b[0m\u001b[32m)\u001b[0m\u001b[32m of the Income Tax Act, 1961.\\n\\n8. **Redemption**:\\n   - \u001b[0m\n",
       "\u001b[32mRedemption can be done before maturity.\\n   - Redemption proceeds will be credited to the investor’s account within\u001b[0m\n",
       "\u001b[32m15 working days.\\n\\nFor detailed and up-to-date information, it is advisable to refer to the latest RBI circulars \u001b[0m\n",
       "\u001b[32mand the official website of the Ministry of Finance.'\u001b[0m\n",
       "    \u001b[1m}\u001b[0m,\n",
       "    \u001b[1m{\u001b[0m\n",
       "        \u001b[32m'question'\u001b[0m: \u001b[32m'What is the role of the Reserve Bank of India in assigning lead bank responsibility when a new\u001b[0m\n",
       "\u001b[32mdistrict is created, and why is this done?'\u001b[0m,\n",
       "        \u001b[32m'generated_answer'\u001b[0m: \u001b[32m'The Reserve Bank of India assigns lead bank responsibility in a newly created district\u001b[0m\n",
       "\u001b[32mto ensure effective implementation of banking policies and services. This role helps in maintaining financial \u001b[0m\n",
       "\u001b[32mstability and accessibility in remote areas by facilitating better access to banking facilities and ensuring \u001b[0m\n",
       "\u001b[32mcompliance with regulatory standards.'\u001b[0m\n",
       "    \u001b[1m}\u001b[0m,\n",
       "    \u001b[1m{\u001b[0m\n",
       "        \u001b[32m'question'\u001b[0m: \u001b[32m'Under what conditions are transferors exempt from the Minimum Holding Period requirement when \u001b[0m\n",
       "\u001b[32mtransferring receivables acquired through factoring?'\u001b[0m,\n",
       "        \u001b[32m'generated_answer'\u001b[0m: \u001b[32m'Transferors are exempt from the Minimum Holding Period requirement when transferring \u001b[0m\n",
       "\u001b[32mreceivables acquired through factoring if the factoring agreement includes a clause that explicitly exempts them \u001b[0m\n",
       "\u001b[32mfrom this requirement. This exemption must be clearly stated in the terms of the factoring contract.'\u001b[0m\n",
       "    \u001b[1m}\u001b[0m,\n",
       "    \u001b[1m{\u001b[0m\n",
       "        \u001b[32m'question'\u001b[0m: \u001b[32m'How does the minimum number of professional staff required for an audit firm vary based on the\u001b[0m\n",
       "\u001b[32masset size of the State Co-operative Bank or Central Co-operative Bank being audited?'\u001b[0m,\n",
       "        \u001b[32m'generated_answer'\u001b[0m: \u001b[32m'The minimum number of professional staff required for an audit firm varies based on \u001b[0m\n",
       "\u001b[32mthe type of audit \u001b[0m\u001b[32m(\u001b[0m\u001b[32mannual audit, special audit, etc.\u001b[0m\u001b[32m)\u001b[0m\u001b[32m and the nature of the audit engagement, rather than solely on\u001b[0m\n",
       "\u001b[32mthe asset size of the State Co-operative Bank or Central Co-operative Bank. Specific requirements are detailed in \u001b[0m\n",
       "\u001b[32mthe relevant RBI guidelines and the Companies Act, 2013.'\u001b[0m\n",
       "    \u001b[1m}\u001b[0m,\n",
       "    \u001b[1m{\u001b[0m\n",
       "        \u001b[32m'question'\u001b[0m: \u001b[32m'What measures are typically imposed on individuals and entities included in the Al-Qaida \u001b[0m\n",
       "\u001b[32mSanctions List?'\u001b[0m,\n",
       "        \u001b[32m'generated_answer'\u001b[0m: \u001b[32m'Individuals and entities included in the Al-Qaida Sanctions List are typically subject\u001b[0m\n",
       "\u001b[32mto asset freezes and prohibitions on transactions involving the assets of these entities. They may also be barred \u001b[0m\n",
       "\u001b[32mfrom receiving financial assistance or services from financial institutions regulated by the Reserve Bank of India \u001b[0m\n",
       "\u001b[32m(\u001b[0m\u001b[32mRBI\u001b[0m\u001b[32m)\u001b[0m\u001b[32m.'\u001b[0m\n",
       "    \u001b[1m}\u001b[0m,\n",
       "    \u001b[1m{\u001b[0m\n",
       "        \u001b[32m'question'\u001b[0m: \u001b[32m'What are the guidelines for Scheduled Commercial Banks regarding setting borrowing limits in \u001b[0m\n",
       "\u001b[32mthe Call and Notice Money Markets?'\u001b[0m,\n",
       "        \u001b[32m'generated_answer'\u001b[0m: \u001b[32m'Scheduled Commercial Banks must adhere to the guidelines set by the Reserve Bank of \u001b[0m\n",
       "\u001b[32mIndia \u001b[0m\u001b[32m(\u001b[0m\u001b[32mRBI\u001b[0m\u001b[32m)\u001b[0m\u001b[32m for setting borrowing limits in the Call and Notice Money Markets. These guidelines ensure that banks \u001b[0m\n",
       "\u001b[32mmaintain adequate liquidity and comply with prudential norms while participating in these markets. Specific details\u001b[0m\n",
       "\u001b[32mare typically found in the latest RBI circulars and guidelines issued under the Banking Regulation Act, 1949.'\u001b[0m\n",
       "    \u001b[1m}\u001b[0m\n",
       "\u001b[1m]\u001b[0m\n"
      ]
     },
     "metadata": {},
     "output_type": "display_data"
    }
   ],
   "source": [
    "print(generated_answers[:10])"
   ]
  },
  {
   "cell_type": "code",
   "execution_count": 32,
   "id": "d2b5ab34",
   "metadata": {},
   "outputs": [],
   "source": [
    "def evaluate_answers_with_gemini(\n",
    "    eval_dataset: Dataset,\n",
    "    generated_answers_data: List[Dict[str, str]],\n",
    "    llm: ChatGoogleGenerativeAI,\n",
    ") -> Tuple[List[Dict[str, Any]], Dict[str, Any]]:\n",
    "    \"\"\"\n",
    "    Evaluates generated answers using a Gemini LLM, returning only the score in the structured output.\n",
    "\n",
    "    Args:\n",
    "        eval_dataset (datasets.Dataset): The original dataset containing 'question',\n",
    "                                          'answer' (ground truth), and 'evaluation_criteria' fields.\n",
    "        generated_answers_data (List[Dict[str, str]]): A list of dictionaries, where each\n",
    "                                                       dictionary contains the original question\n",
    "                                                       and the 'generated_answer'.\n",
    "        llm (ChatGoogleGenerativeAI): The LangChain Gemini LLM instance.\n",
    "\n",
    "    Returns:\n",
    "        tuple: A tuple containing:\n",
    "               - list: A list of dictionaries, where each dictionary contains the original question,\n",
    "                       ground truth answer, generated answer, and evaluation score.\n",
    "               - dict: A summary dictionary of the evaluation.\n",
    "    \"\"\"\n",
    "\n",
    "    SYSTEM_MESSAGE = \"\"\"\n",
    "    You are an expert evaluator tasked with determining if an answer satisfies specified evaluation criteria.\n",
    "\n",
    "    You will receive:\n",
    "    1. A question\n",
    "    2. The evaluation criteria\n",
    "    3. The model's answer to evaluate\n",
    "\n",
    "    Provide your score based on the criteria:\n",
    "    - Score 1 if the answer fully satisfies ALL the specified criteria\n",
    "    - Score 0 if it fails to meet ANY of the criteria\n",
    "\n",
    "    Format your response as a JSON object with a single key 'score' containing just the number 1 or 0.\n",
    "    For example: {{\"score\": 1}}\n",
    "    \"\"\".strip()\n",
    "\n",
    "    PROMPT_TEMPLATE = \"\"\"\n",
    "    Question: {question}\n",
    "    Evaluation Criteria: {evaluation_criteria}\n",
    "    Model Answer: {model_answer}\n",
    "\n",
    "    Provide the evaluation score in the specified JSON format.\n",
    "    \"\"\".strip()\n",
    "\n",
    "    gemini_eval_prompt = ChatPromptTemplate.from_messages(\n",
    "        [\n",
    "            (\"system\", SYSTEM_MESSAGE),\n",
    "            (\"human\", PROMPT_TEMPLATE),\n",
    "        ]\n",
    "    )\n",
    "\n",
    "    gemini_eval_chain = gemini_eval_prompt | llm.with_structured_output(EvaluationResult)\n",
    "\n",
    "    results = []\n",
    "    total_evaluated = 0\n",
    "    total_score = 0\n",
    "    failed_evaluations_due_to_error = 0\n",
    "\n",
    "    print(f\"Evaluating answers with Gemini...\")\n",
    "    combined_data = list(zip(eval_dataset.to_list(), generated_answers_data))\n",
    "\n",
    "    for original_item, generated_item in combined_data:\n",
    "        total_evaluated += 1\n",
    "\n",
    "        question = original_item['question']\n",
    "        ground_truth_answer = original_item['answer']\n",
    "        evaluation_criteria = original_item['evaluation_criteria']\n",
    "        generated_answer = generated_item['generated_answer']\n",
    "\n",
    "        gemini_input = {\n",
    "            \"question\": question,\n",
    "            \"evaluation_criteria\": evaluation_criteria,\n",
    "            \"model_answer\": generated_answer,\n",
    "        }\n",
    "\n",
    "        score_val = 0\n",
    "\n",
    "        try:\n",
    "            structured_result = gemini_eval_chain.invoke(gemini_input)\n",
    "            score_val = structured_result.score\n",
    "            total_score += score_val\n",
    "\n",
    "        except Exception as e:\n",
    "            print(f\"Error during Gemini evaluation for question: '{question}'. Error: {e}\")\n",
    "            score_val = 0\n",
    "            failed_evaluations_due_to_error += 1\n",
    "\n",
    "        results.append({\n",
    "            \"question\": question,\n",
    "            \"ground_truth_answer\": ground_truth_answer,\n",
    "            \"generated_answer\": generated_answer,\n",
    "            \"evaluation_score\": score_val,\n",
    "        })\n",
    "\n",
    "    # Calculate summary statistics\n",
    "    successful_eval_count = total_evaluated - failed_evaluations_due_to_error\n",
    "    percentage_passed_criteria = (total_score / successful_eval_count) * 100 if successful_eval_count > 0 else 0\n",
    "\n",
    "    summary = {\n",
    "        \"total_evaluations_attempted\": total_evaluated,\n",
    "        \"successful_evaluations\": successful_eval_count,\n",
    "        \"failed_evaluations_due_to_error\": failed_evaluations_due_to_error,\n",
    "        \"total_passed_criteria\": total_score,\n",
    "        \"percentage_passed_criteria\": percentage_passed_criteria,\n",
    "        \"overall_evaluation_summary\": (\n",
    "            f\"Out of {total_evaluated} attempted evaluations, \"\n",
    "            f\"{successful_eval_count} were successfully processed by Gemini. \"\n",
    "            f\"{failed_evaluations_due_to_error} evaluations encountered an error. \"\n",
    "            f\"Among the successfully evaluated answers, {total_score} met all criteria, \"\n",
    "            f\"resulting in a {percentage_passed_criteria:.2f}% pass rate.\"\n",
    "        )\n",
    "    }\n",
    "    print(\"Gemini evaluation complete.\")\n",
    "    return results, summary\n"
   ]
  },
  {
   "cell_type": "code",
   "execution_count": null,
   "id": "dac48e46",
   "metadata": {},
   "outputs": [
    {
     "data": {
      "text/html": [
       "<pre style=\"white-space:pre;overflow-x:auto;line-height:normal;font-family:Menlo,'DejaVu Sans Mono',consolas,'Courier New',monospace\">Evaluating answers with Gemini<span style=\"color: #808000; text-decoration-color: #808000\">...</span>\n",
       "</pre>\n"
      ],
      "text/plain": [
       "Evaluating answers with Gemini\u001b[33m...\u001b[0m\n"
      ]
     },
     "metadata": {},
     "output_type": "display_data"
    }
   ],
   "source": [
    "evaluation_results, evaluation_summary = evaluate_answers_with_gemini(\n",
    "    eval_dataset=eval_dataset, \n",
    "    generated_answers_data=generated_answers, \n",
    "    llm=llm,\n",
    ")"
   ]
  },
  {
   "cell_type": "code",
   "execution_count": null,
   "id": "c29688b9",
   "metadata": {},
   "outputs": [],
   "source": [
    "print(evaluation_results[:10])"
   ]
  },
  {
   "cell_type": "code",
   "execution_count": null,
   "id": "d6d789d5",
   "metadata": {},
   "outputs": [],
   "source": [
    "\n",
    "print(\"\\n--- Evaluation Summary ---\")\n",
    "summary_stats = evaluation_summary\n",
    "print(f\"Total Evaluations Attempted: {summary_stats['total_evaluations_attempted']}\")\n",
    "print(f\"Evaluations Failed Due to Error: {summary_stats['failed_evaluations_due_to_error']}\")\n",
    "print(f\"Total Answers Passed Criteria (Score 1): {summary_stats['total_passed_criteria']}\")\n",
    "print(f\"Percentage of Successfully Evaluated Answers Passing Criteria: {summary_stats['percentage_passed_criteria']:.2f}%\")\n",
    "print(f\"Overall Summary: {summary_stats['overall_evaluation_summary']}\")"
   ]
  },
  {
   "cell_type": "code",
   "execution_count": null,
   "id": "370975e5",
   "metadata": {},
   "outputs": [],
   "source": [
    "import os\n",
    "import json\n",
    "def save_evaluation_to_json(evaluation_results: list[dict], evaluation_summary: dict, output_dir: str, filename: str = \"gemini_evaluation_report.json\"):\n",
    "    \"\"\"\n",
    "    Saves evaluation results and summary to a JSON file in the specified directory.\n",
    "\n",
    "    Args:\n",
    "        evaluation_results (list[dict]): A list of dictionaries, where each dictionary\n",
    "                                         represents the evaluation of a single question-answer pair.\n",
    "        evaluation_summary (dict): A dictionary containing the overall summary of the evaluation.\n",
    "        output_dir (str): The directory where the JSON file should be saved.\n",
    "                          This directory will be created if it does not exist.\n",
    "        filename (str, optional): The name of the JSON file. Defaults to \"gemini_evaluation_report.json\".\n",
    "    \"\"\"\n",
    "    # Combine evaluation results and summary into a single dictionary\n",
    "    output_data = {\n",
    "        \"evaluation_results\": evaluation_results,\n",
    "        \"evaluation_summary\": evaluation_summary\n",
    "    }\n",
    "\n",
    "    # Ensure the output directory exists\n",
    "    try:\n",
    "        os.makedirs(output_dir, exist_ok=True)\n",
    "    except OSError as e:\n",
    "        print(f\"Error creating directory {output_dir}: {e}\")\n",
    "        return\n",
    "\n",
    "    # Construct the full path for the JSON file\n",
    "    file_path = os.path.join(output_dir, filename)\n",
    "\n",
    "    # Write the data to a JSON file\n",
    "    try:\n",
    "        with open(file_path, 'w', encoding='utf-8') as f:\n",
    "            json.dump(output_data, f, indent=4)\n",
    "        print(f\"Successfully wrote evaluation results and summary to {file_path}\")\n",
    "    except IOError as e:\n",
    "        print(f\"Error writing to file {file_path}: {e}\")\n",
    "    except Exception as e:\n",
    "        print(f\"An unexpected error occurred: {e}\")"
   ]
  },
  {
   "cell_type": "code",
   "execution_count": null,
   "id": "8829b464",
   "metadata": {},
   "outputs": [],
   "source": [
    "save_evaluation_to_json(\n",
    "    evaluation_results=evaluation_results,\n",
    "    evaluation_summary=evaluation_summary,\n",
    "    output_dir=\"./Evaluation_Results\",\n",
    "    filename=\"qwen2.5-0.5B.json\"\n",
    ")"
   ]
  }
 ],
 "metadata": {
  "kernelspec": {
   "display_name": "Python 3 (ipykernel)",
   "language": "python",
   "name": "python3"
  },
  "language_info": {
   "codemirror_mode": {
    "name": "ipython",
    "version": 3
   },
   "file_extension": ".py",
   "mimetype": "text/x-python",
   "name": "python",
   "nbconvert_exporter": "python",
   "pygments_lexer": "ipython3",
   "version": "3.11.11"
  }
 },
 "nbformat": 4,
 "nbformat_minor": 5
}
