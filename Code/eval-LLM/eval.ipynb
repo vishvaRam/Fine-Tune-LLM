{
 "cells": [
  {
   "cell_type": "code",
   "execution_count": null,
   "id": "5d867cff",
   "metadata": {},
   "outputs": [],
   "source": [
    "# !pip install flash-attn --no-build-isolation"
   ]
  },
  {
   "cell_type": "code",
   "execution_count": 1,
   "id": "e8d74a5b",
   "metadata": {},
   "outputs": [
    {
     "data": {
      "text/plain": [
       "True"
      ]
     },
     "execution_count": 1,
     "metadata": {},
     "output_type": "execute_result"
    }
   ],
   "source": [
    "import json\n",
    "import outlines\n",
    "import torch\n",
    "from typing import List, Optional\n",
    "from pydantic import BaseModel, Field\n",
    "from dotenv import load_dotenv\n",
    "from datasets import load_dataset,Dataset\n",
    "from rich import print\n",
    "from langchain_google_genai import ChatGoogleGenerativeAI\n",
    "from langchain_core.prompts import ChatPromptTemplate\n",
    "from transformers import AutoModelForCausalLM, AutoTokenizer\n",
    "from typing import Dict,Tuple,Any\n",
    "from outlines import Generator\n",
    "from outlines.types import JsonSchema\n",
    "from outlines import from_transformers\n",
    "import os\n",
    "import tqdm\n",
    "# os.environ[\"TRANSFORMERS_VERBOSITY\"] = \"info\"\n",
    "load_dotenv()"
   ]
  },
  {
   "cell_type": "code",
   "execution_count": 2,
   "id": "848154eb",
   "metadata": {},
   "outputs": [],
   "source": [
    "os.environ['HF_HUB_ENABLE_HF_TRANSFER'] = '1'\n",
    "os.environ['TOKENIZERS_PARALLELISM'] = 'true'"
   ]
  },
  {
   "cell_type": "code",
   "execution_count": 3,
   "id": "f9c5a942",
   "metadata": {},
   "outputs": [],
   "source": [
    "PARA = 0.5\n",
    "MODEL_NAME = f\"Qwen/Qwen2.5-{PARA}B-Instruct\"\n",
    "MODEL_PATH = \"./Models\"\n",
    "DATASET_NAME = \"Vishva007/RBI-Circular-QA-Dataset\"\n",
    "SEED = 42\n",
    "GOOGLE_API_KEY = os.getenv(\"GOOGLE_API_KEY\") \n",
    "GOOGLE_MODEL_ID=\"gemini-2.0-flash\"\n",
    "GOOGLE_TEMPERATURE=0.01\n",
    "GOOGLE_MAX_TOKENS=256\n",
    "EVAL_SET_SIZE = 10\n",
    "MERGED_MODEL_OUTPUT_DIR = f\"./Models/Qwen2.5-{PARA}B-Instruct-RBI-QA-Merged\"\n",
    "MODEL_FINETUNED_REPO_ID = f\"Vishva007/Qwen2.5-{PARA}B-Instruct-RBI-QA-Finetuned\""
   ]
  },
  {
   "cell_type": "code",
   "execution_count": 4,
   "id": "d015ef33",
   "metadata": {},
   "outputs": [
    {
     "data": {
      "text/html": [
       "<pre style=\"white-space:pre;overflow-x:auto;line-height:normal;font-family:Menlo,'DejaVu Sans Mono',consolas,'Courier New',monospace\">Using Model: Qwen/Qwen2.<span style=\"color: #008080; text-decoration-color: #008080; font-weight: bold\">5</span>-<span style=\"color: #008080; text-decoration-color: #008080; font-weight: bold\">0.</span>5B-Instruct with <span style=\"color: #008080; text-decoration-color: #008080; font-weight: bold\">0.</span>5B parameters\n",
       "</pre>\n"
      ],
      "text/plain": [
       "Using Model: Qwen/Qwen2.\u001b[1;36m5\u001b[0m-\u001b[1;36m0.\u001b[0m5B-Instruct with \u001b[1;36m0.\u001b[0m5B parameters\n"
      ]
     },
     "metadata": {},
     "output_type": "display_data"
    }
   ],
   "source": [
    "print(f\"Using Model: {MODEL_NAME} with {PARA}B parameters\")"
   ]
  },
  {
   "cell_type": "code",
   "execution_count": 5,
   "id": "b9ef364b",
   "metadata": {},
   "outputs": [
    {
     "data": {
      "text/html": [
       "<pre style=\"white-space:pre;overflow-x:auto;line-height:normal;font-family:Menlo,'DejaVu Sans Mono',consolas,'Courier New',monospace\">Current working directory: <span style=\"color: #800080; text-decoration-color: #800080\">/workspaces/Fine_Tune_Qwen/Code/</span><span style=\"color: #ff00ff; text-decoration-color: #ff00ff\">eval-LLM</span>\n",
       "</pre>\n"
      ],
      "text/plain": [
       "Current working directory: \u001b[35m/workspaces/Fine_Tune_Qwen/Code/\u001b[0m\u001b[95meval-LLM\u001b[0m\n"
      ]
     },
     "metadata": {},
     "output_type": "display_data"
    },
    {
     "data": {
      "text/html": [
       "<pre style=\"white-space:pre;overflow-x:auto;line-height:normal;font-family:Menlo,'DejaVu Sans Mono',consolas,'Courier New',monospace\">Absolute model path: <span style=\"color: #800080; text-decoration-color: #800080\">/workspaces/Fine_Tune_Qwen/Code/eval-LLM/</span><span style=\"color: #ff00ff; text-decoration-color: #ff00ff\">Models</span>\n",
       "</pre>\n"
      ],
      "text/plain": [
       "Absolute model path: \u001b[35m/workspaces/Fine_Tune_Qwen/Code/eval-LLM/\u001b[0m\u001b[95mModels\u001b[0m\n"
      ]
     },
     "metadata": {},
     "output_type": "display_data"
    }
   ],
   "source": [
    "import os\n",
    "print(f\"Current working directory: {os.getcwd()}\")\n",
    "absolute_model_path = os.path.abspath(MODEL_PATH)\n",
    "print(f\"Absolute model path: {absolute_model_path}\")\n"
   ]
  },
  {
   "cell_type": "code",
   "execution_count": 6,
   "id": "552773ab",
   "metadata": {},
   "outputs": [
    {
     "data": {
      "text/html": [
       "<pre style=\"white-space:pre;overflow-x:auto;line-height:normal;font-family:Menlo,'DejaVu Sans Mono',consolas,'Courier New',monospace\">Loading dataset: Vishva007/RBI-Circular-QA-Dataset\n",
       "</pre>\n"
      ],
      "text/plain": [
       "Loading dataset: Vishva007/RBI-Circular-QA-Dataset\n"
      ]
     },
     "metadata": {},
     "output_type": "display_data"
    },
    {
     "data": {
      "text/html": [
       "<pre style=\"white-space:pre;overflow-x:auto;line-height:normal;font-family:Menlo,'DejaVu Sans Mono',consolas,'Courier New',monospace\">Using seed: <span style=\"color: #008080; text-decoration-color: #008080; font-weight: bold\">42</span>\n",
       "</pre>\n"
      ],
      "text/plain": [
       "Using seed: \u001b[1;36m42\u001b[0m\n"
      ]
     },
     "metadata": {},
     "output_type": "display_data"
    }
   ],
   "source": [
    "print(f\"Loading dataset: {DATASET_NAME}\")\n",
    "print(f\"Using seed: {SEED}\")"
   ]
  },
  {
   "cell_type": "code",
   "execution_count": 7,
   "id": "a8ac3510",
   "metadata": {},
   "outputs": [
    {
     "data": {
      "text/html": [
       "<pre style=\"white-space:pre;overflow-x:auto;line-height:normal;font-family:Menlo,'DejaVu Sans Mono',consolas,'Courier New',monospace\">Dataset loaded successfully!\n",
       "</pre>\n"
      ],
      "text/plain": [
       "Dataset loaded successfully!\n"
      ]
     },
     "metadata": {},
     "output_type": "display_data"
    },
    {
     "data": {
      "text/html": [
       "<pre style=\"white-space:pre;overflow-x:auto;line-height:normal;font-family:Menlo,'DejaVu Sans Mono',consolas,'Courier New',monospace\"><span style=\"color: #800080; text-decoration-color: #800080; font-weight: bold\">Dataset</span><span style=\"font-weight: bold\">({</span>\n",
       "    features: <span style=\"font-weight: bold\">[</span><span style=\"color: #008000; text-decoration-color: #008000\">'document'</span>, <span style=\"color: #008000; text-decoration-color: #008000\">'filename'</span>, <span style=\"color: #008000; text-decoration-color: #008000\">'model_name'</span>, <span style=\"color: #008000; text-decoration-color: #008000\">'regulation_area'</span>, <span style=\"color: #008000; text-decoration-color: #008000\">'applicable_to'</span>, <span style=\"color: #008000; text-decoration-color: #008000\">'issued_on'</span>, <span style=\"color: #008000; text-decoration-color: #008000\">'key_topics'</span>,\n",
       "<span style=\"color: #008000; text-decoration-color: #008000\">'chunks_text'</span>, <span style=\"color: #008000; text-decoration-color: #008000\">'is_table'</span>, <span style=\"color: #008000; text-decoration-color: #008000\">'question'</span>, <span style=\"color: #008000; text-decoration-color: #008000\">'answer'</span>, <span style=\"color: #008000; text-decoration-color: #008000\">'evaluation_criteria'</span>, <span style=\"color: #008000; text-decoration-color: #008000\">'category'</span>, <span style=\"color: #008000; text-decoration-color: #008000\">'estimated_difficulty'</span>, \n",
       "<span style=\"color: #008000; text-decoration-color: #008000\">'rephrased_question'</span>, <span style=\"color: #008000; text-decoration-color: #008000\">'rephrased_answer'</span><span style=\"font-weight: bold\">]</span>,\n",
       "    num_rows: <span style=\"color: #008080; text-decoration-color: #008080; font-weight: bold\">100</span>\n",
       "<span style=\"font-weight: bold\">})</span>\n",
       "</pre>\n"
      ],
      "text/plain": [
       "\u001b[1;35mDataset\u001b[0m\u001b[1m(\u001b[0m\u001b[1m{\u001b[0m\n",
       "    features: \u001b[1m[\u001b[0m\u001b[32m'document'\u001b[0m, \u001b[32m'filename'\u001b[0m, \u001b[32m'model_name'\u001b[0m, \u001b[32m'regulation_area'\u001b[0m, \u001b[32m'applicable_to'\u001b[0m, \u001b[32m'issued_on'\u001b[0m, \u001b[32m'key_topics'\u001b[0m,\n",
       "\u001b[32m'chunks_text'\u001b[0m, \u001b[32m'is_table'\u001b[0m, \u001b[32m'question'\u001b[0m, \u001b[32m'answer'\u001b[0m, \u001b[32m'evaluation_criteria'\u001b[0m, \u001b[32m'category'\u001b[0m, \u001b[32m'estimated_difficulty'\u001b[0m, \n",
       "\u001b[32m'rephrased_question'\u001b[0m, \u001b[32m'rephrased_answer'\u001b[0m\u001b[1m]\u001b[0m,\n",
       "    num_rows: \u001b[1;36m100\u001b[0m\n",
       "\u001b[1m}\u001b[0m\u001b[1m)\u001b[0m\n"
      ]
     },
     "metadata": {},
     "output_type": "display_data"
    }
   ],
   "source": [
    "try:\n",
    "    dataset = load_dataset(DATASET_NAME,split=\"eval\")\n",
    "    print(\"Dataset loaded successfully!\")\n",
    "    print(dataset) # Print the dataset structure to see available splits\n",
    "except Exception as e:\n",
    "    print(f\"Error loading dataset: {e}\")\n",
    "    print(\"Please ensure the dataset name is correct and you have an active internet connection.\")\n"
   ]
  },
  {
   "cell_type": "code",
   "execution_count": 8,
   "id": "556ea849",
   "metadata": {},
   "outputs": [],
   "source": [
    "number_of_examples_for_eval = EVAL_SET_SIZE\n",
    "\n",
    "# Get the total number of examples in full_dataset\n",
    "num_examples = len(dataset)\n",
    "\n",
    "# Calculate the start index for the last EVAL_SET_SIZE examples\n",
    "start_index = num_examples - number_of_examples_for_eval\n",
    "\n",
    "# Create a list of indices for the last 1EVAL_SET_SIZE0 examples\n",
    "indices_to_select = list(range(start_index, num_examples))\n",
    "\n",
    "# Use the .select() method to create a new Dataset object containing only those indices\n",
    "eval_dataset = dataset.select(indices_to_select)\n"
   ]
  },
  {
   "cell_type": "code",
   "execution_count": 9,
   "id": "3874dcbd",
   "metadata": {},
   "outputs": [
    {
     "data": {
      "text/html": [
       "<pre style=\"white-space:pre;overflow-x:auto;line-height:normal;font-family:Menlo,'DejaVu Sans Mono',consolas,'Courier New',monospace\">dataset type: <span style=\"font-weight: bold\">&lt;</span><span style=\"color: #ff00ff; text-decoration-color: #ff00ff; font-weight: bold\">class</span><span style=\"color: #000000; text-decoration-color: #000000\"> </span><span style=\"color: #008000; text-decoration-color: #008000\">'datasets.arrow_dataset.Dataset'</span><span style=\"font-weight: bold\">&gt;</span>\n",
       "</pre>\n"
      ],
      "text/plain": [
       "dataset type: \u001b[1m<\u001b[0m\u001b[1;95mclass\u001b[0m\u001b[39m \u001b[0m\u001b[32m'datasets.arrow_dataset.Dataset'\u001b[0m\u001b[1m>\u001b[0m\n"
      ]
     },
     "metadata": {},
     "output_type": "display_data"
    },
    {
     "data": {
      "text/html": [
       "<pre style=\"white-space:pre;overflow-x:auto;line-height:normal;font-family:Menlo,'DejaVu Sans Mono',consolas,'Courier New',monospace\">eval_dataset type: <span style=\"font-weight: bold\">&lt;</span><span style=\"color: #ff00ff; text-decoration-color: #ff00ff; font-weight: bold\">class</span><span style=\"color: #000000; text-decoration-color: #000000\"> </span><span style=\"color: #008000; text-decoration-color: #008000\">'datasets.arrow_dataset.Dataset'</span><span style=\"font-weight: bold\">&gt;</span>\n",
       "</pre>\n"
      ],
      "text/plain": [
       "eval_dataset type: \u001b[1m<\u001b[0m\u001b[1;95mclass\u001b[0m\u001b[39m \u001b[0m\u001b[32m'datasets.arrow_dataset.Dataset'\u001b[0m\u001b[1m>\u001b[0m\n"
      ]
     },
     "metadata": {},
     "output_type": "display_data"
    }
   ],
   "source": [
    "print(\"dataset type:\", type(dataset))\n",
    "print(\"eval_dataset type:\", type(dataset))"
   ]
  },
  {
   "cell_type": "code",
   "execution_count": 10,
   "id": "cec701e8",
   "metadata": {},
   "outputs": [],
   "source": [
    "class ResponseFormat(BaseModel):\n",
    "    answer : str\n",
    "\n",
    "class BatchResponseFormat(BaseModel):\n",
    "    responses: List[ResponseFormat] = Field(..., description=\"List of responses for each question in the batch.\")   \n",
    "    \n",
    "class EvaluationResult(BaseModel):\n",
    "    score: int = Field(..., description=\"Score 1 if the answer fully satisfies ALL the specified criteria, 0 otherwise.\", ge=0, le=1)\n"
   ]
  },
  {
   "cell_type": "code",
   "execution_count": 11,
   "id": "ca6eabd7",
   "metadata": {},
   "outputs": [
    {
     "data": {
      "text/html": [
       "<pre style=\"white-space:pre;overflow-x:auto;line-height:normal;font-family:Menlo,'DejaVu Sans Mono',consolas,'Courier New',monospace\">GPU is Used!\n",
       "</pre>\n"
      ],
      "text/plain": [
       "GPU is Used!\n"
      ]
     },
     "metadata": {},
     "output_type": "display_data"
    }
   ],
   "source": [
    "if torch.cuda.is_available():\n",
    "    print(\"GPU is Used!\")\n",
    "else:\n",
    "    print(\"CPU is Used!\")"
   ]
  },
  {
   "cell_type": "code",
   "execution_count": 12,
   "id": "b0ed3919",
   "metadata": {},
   "outputs": [
    {
     "data": {
      "application/vnd.jupyter.widget-view+json": {
       "model_id": "421fc9c0f1174a7788bca4c877729e65",
       "version_major": 2,
       "version_minor": 0
      },
      "text/plain": [
       "VBox(children=(HTML(value='<center> <img\\nsrc=https://huggingface.co/front/assets/huggingface_logo-noborder.sv…"
      ]
     },
     "metadata": {},
     "output_type": "display_data"
    }
   ],
   "source": [
    "from huggingface_hub import notebook_login\n",
    "\n",
    "notebook_login()"
   ]
  },
  {
   "cell_type": "code",
   "execution_count": 13,
   "id": "1aa7dcba",
   "metadata": {},
   "outputs": [],
   "source": [
    "model = AutoModelForCausalLM.from_pretrained(\n",
    "    MODEL_NAME,\n",
    "    torch_dtype=\"auto\",\n",
    "    device_map=\"auto\",\n",
    "    trust_remote_code=True,\n",
    "    cache_dir=MODEL_PATH,\n",
    ")\n",
    "tokenizer = AutoTokenizer.from_pretrained(MODEL_NAME, cache_dir=MODEL_PATH)\n",
    "\n",
    "tokenizer.pad_token = tokenizer.eos_token\n",
    "tokenizer.padding_side = \"left\"\n"
   ]
  },
  {
   "cell_type": "code",
   "execution_count": null,
   "id": "eafa0b80",
   "metadata": {},
   "outputs": [],
   "source": [
    "import sys\n",
    "\n",
    "\n",
    "def generate_responses_from_prompts(model, tokenizer, prompts: list[str]) -> list[str]:\n",
    "    \"\"\"\n",
    "    Generates responses for a batch of prompts using a loaded causal language model and tokenizer.\n",
    "\n",
    "    Args:\n",
    "        model: The pre-trained causal language model.\n",
    "        tokenizer: The tokenizer corresponding to the model.\n",
    "        prompts (list[str]): A list of user prompts for which to generate responses.\n",
    "\n",
    "    Returns:\n",
    "        list[str]: A list of generated responses, corresponding to each input prompt.\n",
    "    \"\"\"\n",
    "    if model is None or tokenizer is None:\n",
    "        print(\"Model or tokenizer not loaded. Cannot generate responses.\")\n",
    "        return [\"Error: Model not loaded.\" for _ in prompts]\n",
    "\n",
    "    sys_prompt = \"\"\"\n",
    "        You are a highly knowledgeable AI assistant with expertise in Indian banking and financial regulations, \n",
    "        particularly those outlined in Reserve Bank of India (RBI) circulars.\n",
    "        Your task is to answer questions based on the RBI circulars and related financial regulations.\n",
    "        - Return only the answer to the question.\n",
    "        - Do not include any additional information or explanations.\n",
    "    \"\"\"\n",
    "    # Prepare messages for each prompt in the batch\n",
    "    batched_messages = []\n",
    "    for prompt in prompts:\n",
    "        batched_messages.append([\n",
    "            {\"role\": \"system\", \"content\": sys_prompt},\n",
    "            {\"role\": \"user\", \"content\": prompt}\n",
    "        ])\n",
    "\n",
    "    # Apply chat template to each set of messages and collect texts\n",
    "    batched_texts = [\n",
    "        tokenizer.apply_chat_template(\n",
    "            messages,\n",
    "            tokenize=False,\n",
    "            add_generation_prompt=True\n",
    "        ) for messages in batched_messages\n",
    "    ]\n",
    "\n",
    "    print(f\"Processing {len(prompts)} prompts in batch...\")\n",
    "\n",
    "    try:\n",
    "        # Tokenize the entire batch\n",
    "        # padding=True pads sequences to the longest sequence in the batch\n",
    "        # return_tensors=\"pt\" returns PyTorch tensors\n",
    "        model_inputs = tokenizer(batched_texts, return_tensors=\"pt\", padding=True).to(model.device)\n",
    "\n",
    "        # Generate responses for the entire batch\n",
    "        # max_new_tokens controls the maximum number of tokens to generate per response\n",
    "        # **model_inputs unpacks the dictionary into keyword arguments\n",
    "        generated_ids = model.generate(\n",
    "            **model_inputs,\n",
    "            max_new_tokens=512,\n",
    "            temperature=0.01,\n",
    "            top_p=0.95,\n",
    "            top_k=50\n",
    "        )\n",
    "\n",
    "        # Calculate the length of the input IDs for each original prompt\n",
    "        # This is necessary to slice out only the newly generated tokens\n",
    "        input_lengths = model_inputs.input_ids.shape[1]\n",
    "\n",
    "        # Slice generated_ids to get only the new tokens for each item in the batch\n",
    "        # We iterate through each generated sequence and remove the input part\n",
    "        batch_generated_ids_only = [\n",
    "            output_ids[input_lengths:] for output_ids in generated_ids\n",
    "        ]\n",
    "\n",
    "        # Decode the generated tokens back to text for the entire batch\n",
    "        responses = tokenizer.batch_decode(batch_generated_ids_only, skip_special_tokens=True)\n",
    "        print(\"Batch processing complete.\")\n",
    "        return responses\n",
    "\n",
    "    except Exception as e:\n",
    "        print(f\"Error during generation: {e}\")\n",
    "        return [\"Error generating response.\" for _ in prompts] # Return error for each prompt\n",
    "\n"
   ]
  },
  {
   "cell_type": "code",
   "execution_count": 15,
   "id": "d745955f",
   "metadata": {},
   "outputs": [
    {
     "data": {
      "text/html": [
       "<pre style=\"white-space:pre;overflow-x:auto;line-height:normal;font-family:Menlo,'DejaVu Sans Mono',consolas,'Courier New',monospace\">Processing prompt: <span style=\"font-weight: bold\">[</span><span style=\"color: #008000; text-decoration-color: #008000\">'What is the general role of the Banking Regulation Act of 1949 in the context of banking </span>\n",
       "<span style=\"color: #008000; text-decoration-color: #008000\">companies in India?'</span>, <span style=\"color: #008000; text-decoration-color: #008000\">'How should Nodal/Focal Point branches report April 2023 transactions, and how should they </span>\n",
       "<span style=\"color: #008000; text-decoration-color: #008000\">differentiate them from March Residual Transactions in their reporting?'</span>, <span style=\"color: #008000; text-decoration-color: #008000\">\"What is the procedure for regulated </span>\n",
       "<span style=\"color: #008000; text-decoration-color: #008000\">entities to handle requests for delisting from the Security Council's ISIL (Da'esh) and Al-Qaida Sanctions List, </span>\n",
       "<span style=\"color: #008000; text-decoration-color: #008000\">and what alternative options are available for individuals or entities seeking removal from the list?\"</span>, <span style=\"color: #008000; text-decoration-color: #008000\">'How should</span>\n",
       "<span style=\"color: #008000; text-decoration-color: #008000\">Credit Information Companies provide individuals with access to their free annual credit report?'</span>, <span style=\"color: #008000; text-decoration-color: #008000\">'How can card </span>\n",
       "<span style=\"color: #008000; text-decoration-color: #008000\">issuing banks enable Card-on-File (CoFT) token generation, and what are the key requirements for customer consent </span>\n",
       "<span style=\"color: #008000; text-decoration-color: #008000\">and token availability?'</span><span style=\"font-weight: bold\">]</span>\n",
       "</pre>\n"
      ],
      "text/plain": [
       "Processing prompt: \u001b[1m[\u001b[0m\u001b[32m'What is the general role of the Banking Regulation Act of 1949 in the context of banking \u001b[0m\n",
       "\u001b[32mcompanies in India?'\u001b[0m, \u001b[32m'How should Nodal/Focal Point branches report April 2023 transactions, and how should they \u001b[0m\n",
       "\u001b[32mdifferentiate them from March Residual Transactions in their reporting?'\u001b[0m, \u001b[32m\"What is the procedure for regulated \u001b[0m\n",
       "\u001b[32mentities to handle requests for delisting from the Security Council's ISIL \u001b[0m\u001b[32m(\u001b[0m\u001b[32mDa'esh\u001b[0m\u001b[32m)\u001b[0m\u001b[32m and Al-Qaida Sanctions List, \u001b[0m\n",
       "\u001b[32mand what alternative options are available for individuals or entities seeking removal from the list?\"\u001b[0m, \u001b[32m'How should\u001b[0m\n",
       "\u001b[32mCredit Information Companies provide individuals with access to their free annual credit report?'\u001b[0m, \u001b[32m'How can card \u001b[0m\n",
       "\u001b[32missuing banks enable Card-on-File \u001b[0m\u001b[32m(\u001b[0m\u001b[32mCoFT\u001b[0m\u001b[32m)\u001b[0m\u001b[32m token generation, and what are the key requirements for customer consent \u001b[0m\n",
       "\u001b[32mand token availability?'\u001b[0m\u001b[1m]\u001b[0m\n"
      ]
     },
     "metadata": {},
     "output_type": "display_data"
    }
   ],
   "source": [
    "prompt_to_process = eval_dataset[:5][\"question\"]\n",
    "print(f\"Processing prompt: {prompt_to_process}\")"
   ]
  },
  {
   "cell_type": "code",
   "execution_count": 16,
   "id": "17cb1eab",
   "metadata": {},
   "outputs": [
    {
     "data": {
      "text/html": [
       "<pre style=\"white-space:pre;overflow-x:auto;line-height:normal;font-family:Menlo,'DejaVu Sans Mono',consolas,'Courier New',monospace\">Processing <span style=\"color: #008080; text-decoration-color: #008080; font-weight: bold\">5</span> prompts in batch<span style=\"color: #808000; text-decoration-color: #808000\">...</span>\n",
       "</pre>\n"
      ],
      "text/plain": [
       "Processing \u001b[1;36m5\u001b[0m prompts in batch\u001b[33m...\u001b[0m\n"
      ]
     },
     "metadata": {},
     "output_type": "display_data"
    },
    {
     "data": {
      "text/html": [
       "<pre style=\"white-space:pre;overflow-x:auto;line-height:normal;font-family:Menlo,'DejaVu Sans Mono',consolas,'Courier New',monospace\">Batch processing complete.\n",
       "</pre>\n"
      ],
      "text/plain": [
       "Batch processing complete.\n"
      ]
     },
     "metadata": {},
     "output_type": "display_data"
    },
    {
     "data": {
      "text/html": [
       "<pre style=\"white-space:pre;overflow-x:auto;line-height:normal;font-family:Menlo,'DejaVu Sans Mono',consolas,'Courier New',monospace\">\n",
       "--- Generated Responses ---\n",
       "</pre>\n"
      ],
      "text/plain": [
       "\n",
       "--- Generated Responses ---\n"
      ]
     },
     "metadata": {},
     "output_type": "display_data"
    },
    {
     "data": {
      "text/html": [
       "<pre style=\"white-space:pre;overflow-x:auto;line-height:normal;font-family:Menlo,'DejaVu Sans Mono',consolas,'Courier New',monospace\">Prompt <span style=\"color: #008080; text-decoration-color: #008080; font-weight: bold\">1</span>: <span style=\"color: #008000; text-decoration-color: #008000\">\"What is the general role of the Banking Regulation Act of 1949 in the context of banking companies in </span>\n",
       "<span style=\"color: #008000; text-decoration-color: #008000\">India?\"</span>\n",
       "</pre>\n"
      ],
      "text/plain": [
       "Prompt \u001b[1;36m1\u001b[0m: \u001b[32m\"What is the general role of the Banking Regulation Act of 1949 in the context of banking companies in \u001b[0m\n",
       "\u001b[32mIndia?\"\u001b[0m\n"
      ]
     },
     "metadata": {},
     "output_type": "display_data"
    },
    {
     "data": {
      "text/html": [
       "<pre style=\"white-space:pre;overflow-x:auto;line-height:normal;font-family:Menlo,'DejaVu Sans Mono',consolas,'Courier New',monospace\">Response <span style=\"color: #008080; text-decoration-color: #008080; font-weight: bold\">1</span>:\n",
       "The Banking Regulation Act of <span style=\"color: #008080; text-decoration-color: #008080; font-weight: bold\">1949</span> was primarily designed to regulate the banking industry in India. It aimed to \n",
       "ensure fair competition among banks, protect consumers, and maintain public trust in the banking system. The act \n",
       "established various regulatory bodies such as the Reserve Bank of India <span style=\"font-weight: bold\">(</span>RBI<span style=\"font-weight: bold\">)</span>, which oversaw the implementation of \n",
       "the act, and the Central Bank of India <span style=\"font-weight: bold\">(</span>CBI<span style=\"font-weight: bold\">)</span>, which provided guidance and oversight. This act also introduced \n",
       "several new rules and guidelines for bank operations, including minimum capital requirements, lending limits, and \n",
       "deposit insurance.\n",
       "------------------------------\n",
       "\n",
       "</pre>\n"
      ],
      "text/plain": [
       "Response \u001b[1;36m1\u001b[0m:\n",
       "The Banking Regulation Act of \u001b[1;36m1949\u001b[0m was primarily designed to regulate the banking industry in India. It aimed to \n",
       "ensure fair competition among banks, protect consumers, and maintain public trust in the banking system. The act \n",
       "established various regulatory bodies such as the Reserve Bank of India \u001b[1m(\u001b[0mRBI\u001b[1m)\u001b[0m, which oversaw the implementation of \n",
       "the act, and the Central Bank of India \u001b[1m(\u001b[0mCBI\u001b[1m)\u001b[0m, which provided guidance and oversight. This act also introduced \n",
       "several new rules and guidelines for bank operations, including minimum capital requirements, lending limits, and \n",
       "deposit insurance.\n",
       "------------------------------\n",
       "\n"
      ]
     },
     "metadata": {},
     "output_type": "display_data"
    },
    {
     "data": {
      "text/html": [
       "<pre style=\"white-space:pre;overflow-x:auto;line-height:normal;font-family:Menlo,'DejaVu Sans Mono',consolas,'Courier New',monospace\">Prompt <span style=\"color: #008080; text-decoration-color: #008080; font-weight: bold\">2</span>: <span style=\"color: #008000; text-decoration-color: #008000\">\"How should Nodal/Focal Point branches report April 2023 transactions, and how should they differentiate </span>\n",
       "<span style=\"color: #008000; text-decoration-color: #008000\">them from March Residual Transactions in their reporting?\"</span>\n",
       "</pre>\n"
      ],
      "text/plain": [
       "Prompt \u001b[1;36m2\u001b[0m: \u001b[32m\"How should Nodal/Focal Point branches report April 2023 transactions, and how should they differentiate \u001b[0m\n",
       "\u001b[32mthem from March Residual Transactions in their reporting?\"\u001b[0m\n"
      ]
     },
     "metadata": {},
     "output_type": "display_data"
    },
    {
     "data": {
      "text/html": [
       "<pre style=\"white-space:pre;overflow-x:auto;line-height:normal;font-family:Menlo,'DejaVu Sans Mono',consolas,'Courier New',monospace\">Response <span style=\"color: #008080; text-decoration-color: #008080; font-weight: bold\">2</span>:\n",
       "To report Nodal/Focal Point branches for April <span style=\"color: #008080; text-decoration-color: #008080; font-weight: bold\">2023</span> transactions, you should:\n",
       "\n",
       "<span style=\"color: #008080; text-decoration-color: #008080; font-weight: bold\">1</span>. Identify all transactions that occurred during April <span style=\"color: #008080; text-decoration-color: #008080; font-weight: bold\">2023</span>.\n",
       "<span style=\"color: #008080; text-decoration-color: #008080; font-weight: bold\">2</span>. Determine which of these transactions were part of the Nodal/Focal Point branch's operations.\n",
       "<span style=\"color: #008080; text-decoration-color: #008080; font-weight: bold\">3</span>. Report these transactions as if they were March residual transactions.\n",
       "\n",
       "For example:\n",
       "- If a transaction was made on April 15th, it would be reported as an April <span style=\"color: #008080; text-decoration-color: #008080; font-weight: bold\">2023</span> transaction.\n",
       "- If a transaction was made on April 20th, it would be considered a March residual transaction because it did not \n",
       "occur during April <span style=\"color: #008080; text-decoration-color: #008080; font-weight: bold\">2023</span>.\n",
       "\n",
       "The key difference lies in whether the transaction falls within the Nodal/Focal Point branch's operational scope or\n",
       "not. If it does fall within its scope, it will be reported as such; otherwise, it will be categorized as a March \n",
       "residual transaction.\n",
       "------------------------------\n",
       "\n",
       "</pre>\n"
      ],
      "text/plain": [
       "Response \u001b[1;36m2\u001b[0m:\n",
       "To report Nodal/Focal Point branches for April \u001b[1;36m2023\u001b[0m transactions, you should:\n",
       "\n",
       "\u001b[1;36m1\u001b[0m. Identify all transactions that occurred during April \u001b[1;36m2023\u001b[0m.\n",
       "\u001b[1;36m2\u001b[0m. Determine which of these transactions were part of the Nodal/Focal Point branch's operations.\n",
       "\u001b[1;36m3\u001b[0m. Report these transactions as if they were March residual transactions.\n",
       "\n",
       "For example:\n",
       "- If a transaction was made on April 15th, it would be reported as an April \u001b[1;36m2023\u001b[0m transaction.\n",
       "- If a transaction was made on April 20th, it would be considered a March residual transaction because it did not \n",
       "occur during April \u001b[1;36m2023\u001b[0m.\n",
       "\n",
       "The key difference lies in whether the transaction falls within the Nodal/Focal Point branch's operational scope or\n",
       "not. If it does fall within its scope, it will be reported as such; otherwise, it will be categorized as a March \n",
       "residual transaction.\n",
       "------------------------------\n",
       "\n"
      ]
     },
     "metadata": {},
     "output_type": "display_data"
    },
    {
     "data": {
      "text/html": [
       "<pre style=\"white-space:pre;overflow-x:auto;line-height:normal;font-family:Menlo,'DejaVu Sans Mono',consolas,'Courier New',monospace\">Prompt <span style=\"color: #008080; text-decoration-color: #008080; font-weight: bold\">3</span>: <span style=\"color: #008000; text-decoration-color: #008000\">\"What is the procedure for regulated entities to handle requests for delisting from the Security </span>\n",
       "<span style=\"color: #008000; text-decoration-color: #008000\">Council's ISIL (Da'esh) and Al-Qaida Sanctions List, and what alternative options are available for individuals or </span>\n",
       "<span style=\"color: #008000; text-decoration-color: #008000\">entities seeking removal from the list?\"</span>\n",
       "</pre>\n"
      ],
      "text/plain": [
       "Prompt \u001b[1;36m3\u001b[0m: \u001b[32m\"What is the procedure for regulated entities to handle requests for delisting from the Security \u001b[0m\n",
       "\u001b[32mCouncil's ISIL \u001b[0m\u001b[32m(\u001b[0m\u001b[32mDa'esh\u001b[0m\u001b[32m)\u001b[0m\u001b[32m and Al-Qaida Sanctions List, and what alternative options are available for individuals or \u001b[0m\n",
       "\u001b[32mentities seeking removal from the list?\"\u001b[0m\n"
      ]
     },
     "metadata": {},
     "output_type": "display_data"
    },
    {
     "data": {
      "text/html": [
       "<pre style=\"white-space:pre;overflow-x:auto;line-height:normal;font-family:Menlo,'DejaVu Sans Mono',consolas,'Courier New',monospace\">Response <span style=\"color: #008080; text-decoration-color: #008080; font-weight: bold\">3</span>:\n",
       "To handle requests for delisting from the Security Council's ISIL <span style=\"font-weight: bold\">(</span>Da'esh<span style=\"font-weight: bold\">)</span> and Al-Qaida Sanctions List, regulated \n",
       "entities should follow these steps:\n",
       "\n",
       "<span style=\"color: #008080; text-decoration-color: #008080; font-weight: bold\">1</span>. **Review the Request**: The entity must review the request to ensure it complies with the relevant regulations \n",
       "and guidelines set by the International Monetary Fund <span style=\"font-weight: bold\">(</span>IMF<span style=\"font-weight: bold\">)</span>, the World Bank, and other international organizations.\n",
       "\n",
       "<span style=\"color: #008080; text-decoration-color: #008080; font-weight: bold\">2</span>. **Submit the Request**: Once the entity has reviewed the request, they should submit it to the appropriate \n",
       "regulatory body or authority within their jurisdiction.\n",
       "\n",
       "<span style=\"color: #008080; text-decoration-color: #008080; font-weight: bold\">3</span>. **Follow Up**: After submission, the entity should follow up with the regulatory body to confirm receipt and \n",
       "provide any necessary documentation or information.\n",
       "\n",
       "For individuals or entities seeking removal from the list, there are several alternatives available:\n",
       "\n",
       "- **International Law**: Individuals can seek legal advice to understand the implications of being removed from the\n",
       "list under international law, including potential sanctions or penalties.\n",
       "  \n",
       "- **Alternative Sanctions**: Some countries have implemented measures to remove individuals from the list through \n",
       "diplomatic channels or other means that do not involve direct removal from the list itself.\n",
       "\n",
       "- **Criminal Proceedings**: In some cases, individuals may be subject to criminal proceedings if they are found to \n",
       "have committed serious crimes against humanity or war crimes during their time in the list.\n",
       "\n",
       "It's important for regulated entities to carefully consider all options before making decisions regarding delisting\n",
       "or removal from the list.\n",
       "------------------------------\n",
       "\n",
       "</pre>\n"
      ],
      "text/plain": [
       "Response \u001b[1;36m3\u001b[0m:\n",
       "To handle requests for delisting from the Security Council's ISIL \u001b[1m(\u001b[0mDa'esh\u001b[1m)\u001b[0m and Al-Qaida Sanctions List, regulated \n",
       "entities should follow these steps:\n",
       "\n",
       "\u001b[1;36m1\u001b[0m. **Review the Request**: The entity must review the request to ensure it complies with the relevant regulations \n",
       "and guidelines set by the International Monetary Fund \u001b[1m(\u001b[0mIMF\u001b[1m)\u001b[0m, the World Bank, and other international organizations.\n",
       "\n",
       "\u001b[1;36m2\u001b[0m. **Submit the Request**: Once the entity has reviewed the request, they should submit it to the appropriate \n",
       "regulatory body or authority within their jurisdiction.\n",
       "\n",
       "\u001b[1;36m3\u001b[0m. **Follow Up**: After submission, the entity should follow up with the regulatory body to confirm receipt and \n",
       "provide any necessary documentation or information.\n",
       "\n",
       "For individuals or entities seeking removal from the list, there are several alternatives available:\n",
       "\n",
       "- **International Law**: Individuals can seek legal advice to understand the implications of being removed from the\n",
       "list under international law, including potential sanctions or penalties.\n",
       "  \n",
       "- **Alternative Sanctions**: Some countries have implemented measures to remove individuals from the list through \n",
       "diplomatic channels or other means that do not involve direct removal from the list itself.\n",
       "\n",
       "- **Criminal Proceedings**: In some cases, individuals may be subject to criminal proceedings if they are found to \n",
       "have committed serious crimes against humanity or war crimes during their time in the list.\n",
       "\n",
       "It's important for regulated entities to carefully consider all options before making decisions regarding delisting\n",
       "or removal from the list.\n",
       "------------------------------\n",
       "\n"
      ]
     },
     "metadata": {},
     "output_type": "display_data"
    },
    {
     "data": {
      "text/html": [
       "<pre style=\"white-space:pre;overflow-x:auto;line-height:normal;font-family:Menlo,'DejaVu Sans Mono',consolas,'Courier New',monospace\">Prompt <span style=\"color: #008080; text-decoration-color: #008080; font-weight: bold\">4</span>: <span style=\"color: #008000; text-decoration-color: #008000\">\"How should Credit Information Companies provide individuals with access to their free annual credit </span>\n",
       "<span style=\"color: #008000; text-decoration-color: #008000\">report?\"</span>\n",
       "</pre>\n"
      ],
      "text/plain": [
       "Prompt \u001b[1;36m4\u001b[0m: \u001b[32m\"How should Credit Information Companies provide individuals with access to their free annual credit \u001b[0m\n",
       "\u001b[32mreport?\"\u001b[0m\n"
      ]
     },
     "metadata": {},
     "output_type": "display_data"
    },
    {
     "data": {
      "text/html": [
       "<pre style=\"white-space:pre;overflow-x:auto;line-height:normal;font-family:Menlo,'DejaVu Sans Mono',consolas,'Courier New',monospace\">Response <span style=\"color: #008080; text-decoration-color: #008080; font-weight: bold\">4</span>:\n",
       "Credit Information Companies should provide individuals with access to their free annual credit report by following\n",
       "these steps:\n",
       "\n",
       "<span style=\"color: #008080; text-decoration-color: #008080; font-weight: bold\">1</span>. **Obtain Consent**: Obtain written consent from the individual before providing them with their credit report.\n",
       "\n",
       "<span style=\"color: #008080; text-decoration-color: #008080; font-weight: bold\">2</span>. **Provide Access**: Provide the individual with an opportunity to review their credit report at their \n",
       "convenience.\n",
       "\n",
       "<span style=\"color: #008080; text-decoration-color: #008080; font-weight: bold\">3</span>. **Maintain Privacy**: Ensure that the data provided is kept confidential and used solely for personal purposes.\n",
       "\n",
       "<span style=\"color: #008080; text-decoration-color: #008080; font-weight: bold\">4</span>. **Comply with Regulations**: Adhere to all applicable laws and regulations regarding privacy and data \n",
       "protection.\n",
       "\n",
       "<span style=\"color: #008080; text-decoration-color: #008080; font-weight: bold\">5</span>. **Security Measures**: Implement robust security measures to protect the confidentiality and integrity of the \n",
       "data being accessed.\n",
       "\n",
       "<span style=\"color: #008080; text-decoration-color: #008080; font-weight: bold\">6</span>. **Training**: Provide training to employees who handle credit reports to ensure they understand how to use this \n",
       "information responsibly.\n",
       "\n",
       "<span style=\"color: #008080; text-decoration-color: #008080; font-weight: bold\">7</span>. **Reporting Requirements**: Follow reporting requirements set by the relevant regulatory bodies such as the Data\n",
       "Protection Act <span style=\"color: #008080; text-decoration-color: #008080; font-weight: bold\">1988</span> in India.\n",
       "\n",
       "By following these guidelines, Credit Information Companies can provide individuals with accurate and secure access\n",
       "to their credit reports while respecting privacy and compliance with regulations.\n",
       "------------------------------\n",
       "\n",
       "</pre>\n"
      ],
      "text/plain": [
       "Response \u001b[1;36m4\u001b[0m:\n",
       "Credit Information Companies should provide individuals with access to their free annual credit report by following\n",
       "these steps:\n",
       "\n",
       "\u001b[1;36m1\u001b[0m. **Obtain Consent**: Obtain written consent from the individual before providing them with their credit report.\n",
       "\n",
       "\u001b[1;36m2\u001b[0m. **Provide Access**: Provide the individual with an opportunity to review their credit report at their \n",
       "convenience.\n",
       "\n",
       "\u001b[1;36m3\u001b[0m. **Maintain Privacy**: Ensure that the data provided is kept confidential and used solely for personal purposes.\n",
       "\n",
       "\u001b[1;36m4\u001b[0m. **Comply with Regulations**: Adhere to all applicable laws and regulations regarding privacy and data \n",
       "protection.\n",
       "\n",
       "\u001b[1;36m5\u001b[0m. **Security Measures**: Implement robust security measures to protect the confidentiality and integrity of the \n",
       "data being accessed.\n",
       "\n",
       "\u001b[1;36m6\u001b[0m. **Training**: Provide training to employees who handle credit reports to ensure they understand how to use this \n",
       "information responsibly.\n",
       "\n",
       "\u001b[1;36m7\u001b[0m. **Reporting Requirements**: Follow reporting requirements set by the relevant regulatory bodies such as the Data\n",
       "Protection Act \u001b[1;36m1988\u001b[0m in India.\n",
       "\n",
       "By following these guidelines, Credit Information Companies can provide individuals with accurate and secure access\n",
       "to their credit reports while respecting privacy and compliance with regulations.\n",
       "------------------------------\n",
       "\n"
      ]
     },
     "metadata": {},
     "output_type": "display_data"
    },
    {
     "data": {
      "text/html": [
       "<pre style=\"white-space:pre;overflow-x:auto;line-height:normal;font-family:Menlo,'DejaVu Sans Mono',consolas,'Courier New',monospace\">Prompt <span style=\"color: #008080; text-decoration-color: #008080; font-weight: bold\">5</span>: <span style=\"color: #008000; text-decoration-color: #008000\">\"How can card issuing banks enable Card-on-File (CoFT) token generation, and what are the key </span>\n",
       "<span style=\"color: #008000; text-decoration-color: #008000\">requirements for customer consent and token availability?\"</span>\n",
       "</pre>\n"
      ],
      "text/plain": [
       "Prompt \u001b[1;36m5\u001b[0m: \u001b[32m\"How can card issuing banks enable Card-on-File \u001b[0m\u001b[32m(\u001b[0m\u001b[32mCoFT\u001b[0m\u001b[32m)\u001b[0m\u001b[32m token generation, and what are the key \u001b[0m\n",
       "\u001b[32mrequirements for customer consent and token availability?\"\u001b[0m\n"
      ]
     },
     "metadata": {},
     "output_type": "display_data"
    },
    {
     "data": {
      "text/html": [
       "<pre style=\"white-space:pre;overflow-x:auto;line-height:normal;font-family:Menlo,'DejaVu Sans Mono',consolas,'Courier New',monospace\">Response <span style=\"color: #008080; text-decoration-color: #008080; font-weight: bold\">5</span>:\n",
       "Card Issuing Banks can enable CoFT token generation through various methods such as API integration, mobile apps, \n",
       "or web services. To ensure customer consent and token availability, banks must comply with regulatory requirements \n",
       "like the Payment Services Act <span style=\"color: #008080; text-decoration-color: #008080; font-weight: bold\">2018</span>, which mandates that customers have explicit consent before using their bank \n",
       "cards.\n",
       "\n",
       "Key requirements for customer consent:\n",
       "\n",
       "<span style=\"color: #008080; text-decoration-color: #008080; font-weight: bold\">1</span>. **Consent from Customers**: Banks need to obtain explicit consent from customers before they use their bank \n",
       "cards for transactions. This typically involves providing clear instructions about how the bank will handle the \n",
       "transaction and obtaining written confirmation of the customer's agreement.\n",
       "\n",
       "<span style=\"color: #008080; text-decoration-color: #008080; font-weight: bold\">2</span>. **Privacy Policy**: Banks should clearly state in their privacy policy that they collect and use personal data \n",
       "for CoFT purposes. They must also provide an option for customers to opt-out of this service if they do not want \n",
       "their data used for CoFT.\n",
       "\n",
       "<span style=\"color: #008080; text-decoration-color: #008080; font-weight: bold\">3</span>. **Data Security Measures**: Banks must implement robust security measures to protect the data collected by CoFT \n",
       "tokens. This includes encryption, secure storage, and regular audits to ensure compliance with data protection \n",
       "laws.\n",
       "\n",
       "<span style=\"color: #008080; text-decoration-color: #008080; font-weight: bold\">4</span>. **Transparency**: Banks must be transparent about how CoFT tokens work and how they are used. This includes \n",
       "disclosing the purpose of the tokens, the process for generating them, and the benefits provided to customers.\n",
       "\n",
       "<span style=\"color: #008080; text-decoration-color: #008080; font-weight: bold\">5</span>. **Documentation**: Banks must maintain detailed records of all transactions involving CoFT tokens, including \n",
       "details of the customer's identity, the type of transaction, and the date and time of the transaction.\n",
       "\n",
       "<span style=\"color: #008080; text-decoration-color: #008080; font-weight: bold\">6</span>. **Training and Awareness**: Banks should provide training to their staff on CoFT token usage and the importance \n",
       "of customer consent. Staff should understand the legal implications of using CoFT tokens and how to manage customer\n",
       "expectations regarding these tokens.\n",
       "\n",
       "By adhering to these requirements, banks can effectively manage CoFT tokens while ensuring customer consent and \n",
       "maintaining trust in their services.\n",
       "------------------------------\n",
       "\n",
       "</pre>\n"
      ],
      "text/plain": [
       "Response \u001b[1;36m5\u001b[0m:\n",
       "Card Issuing Banks can enable CoFT token generation through various methods such as API integration, mobile apps, \n",
       "or web services. To ensure customer consent and token availability, banks must comply with regulatory requirements \n",
       "like the Payment Services Act \u001b[1;36m2018\u001b[0m, which mandates that customers have explicit consent before using their bank \n",
       "cards.\n",
       "\n",
       "Key requirements for customer consent:\n",
       "\n",
       "\u001b[1;36m1\u001b[0m. **Consent from Customers**: Banks need to obtain explicit consent from customers before they use their bank \n",
       "cards for transactions. This typically involves providing clear instructions about how the bank will handle the \n",
       "transaction and obtaining written confirmation of the customer's agreement.\n",
       "\n",
       "\u001b[1;36m2\u001b[0m. **Privacy Policy**: Banks should clearly state in their privacy policy that they collect and use personal data \n",
       "for CoFT purposes. They must also provide an option for customers to opt-out of this service if they do not want \n",
       "their data used for CoFT.\n",
       "\n",
       "\u001b[1;36m3\u001b[0m. **Data Security Measures**: Banks must implement robust security measures to protect the data collected by CoFT \n",
       "tokens. This includes encryption, secure storage, and regular audits to ensure compliance with data protection \n",
       "laws.\n",
       "\n",
       "\u001b[1;36m4\u001b[0m. **Transparency**: Banks must be transparent about how CoFT tokens work and how they are used. This includes \n",
       "disclosing the purpose of the tokens, the process for generating them, and the benefits provided to customers.\n",
       "\n",
       "\u001b[1;36m5\u001b[0m. **Documentation**: Banks must maintain detailed records of all transactions involving CoFT tokens, including \n",
       "details of the customer's identity, the type of transaction, and the date and time of the transaction.\n",
       "\n",
       "\u001b[1;36m6\u001b[0m. **Training and Awareness**: Banks should provide training to their staff on CoFT token usage and the importance \n",
       "of customer consent. Staff should understand the legal implications of using CoFT tokens and how to manage customer\n",
       "expectations regarding these tokens.\n",
       "\n",
       "By adhering to these requirements, banks can effectively manage CoFT tokens while ensuring customer consent and \n",
       "maintaining trust in their services.\n",
       "------------------------------\n",
       "\n"
      ]
     },
     "metadata": {},
     "output_type": "display_data"
    }
   ],
   "source": [
    "batch_responses = generate_responses_from_prompts(model, tokenizer, prompt_to_process)\n",
    "\n",
    "# Print the generated responses\n",
    "print(\"\\n--- Generated Responses ---\")\n",
    "for i, response in enumerate(batch_responses):\n",
    "    print(f\"Prompt {i+1}: \\\"{prompt_to_process[i]}\\\"\")\n",
    "    print(f\"Response {i+1}:\\n{response}\\n{'-'*30}\\n\")"
   ]
  },
  {
   "cell_type": "code",
   "execution_count": 17,
   "id": "d8c390ec",
   "metadata": {},
   "outputs": [],
   "source": [
    "# Initialize Gemini LLM\n",
    "llm = ChatGoogleGenerativeAI(\n",
    "        model=GOOGLE_MODEL_ID, \n",
    "        temperature=GOOGLE_TEMPERATURE,\n",
    "        max_tokens=GOOGLE_MAX_TOKENS,\n",
    "        timeout=None,\n",
    "        api_key=GOOGLE_API_KEY,\n",
    "    )"
   ]
  },
  {
   "cell_type": "code",
   "execution_count": 21,
   "id": "beb69e04",
   "metadata": {},
   "outputs": [],
   "source": [
    "\n",
    "\n",
    "def generate_answers_with_transformers(\n",
    "    model,\n",
    "    eval_dataset: Dataset,\n",
    "    batch_size: int = 5,\n",
    ") -> List[Dict[str, str]]:\n",
    "    \"\"\"\n",
    "    Generates answers for a dataset using an transformers LLM.\n",
    "\n",
    "    Args:\n",
    "        model: The loaded HuggingFace model for transformers.\n",
    "        eval_dataset (datasets.Dataset): The dataset containing 'question' fields.\n",
    "        batch_size (int): The number of samples to process in each batch.\n",
    "        device (str): The device to run the model on (e.g., \"cuda\" or \"cpu\").\n",
    "\n",
    "    Returns:\n",
    "        List[Dict[str, str]]: A list of dictionaries, each containing the original question\n",
    "                              and the 'generated_answer' from Outlines.\n",
    "    \"\"\"\n",
    "\n",
    "    generated_data = []\n",
    "\n",
    "    print(f\"Generating answers in batches of {batch_size}...\")\n",
    "    for i in range(0, len(eval_dataset), batch_size):\n",
    "        batch_slice = eval_dataset.select(list(range(i, min(i + batch_size, len(eval_dataset)))))\n",
    "        \n",
    "        inputs = [item['question'] for item in batch_slice.to_list()]\n",
    "\n",
    "        try:\n",
    "            \n",
    "            batch_response_instance = generate_responses_from_prompts(model, tokenizer, inputs)\n",
    "            \n",
    "            for original_item, transformers_output in zip(batch_slice.to_list(), batch_response_instance):\n",
    "                generated_data.append({\n",
    "                    \"question\": original_item['question'],\n",
    "                    \"generated_answer\": transformers_output\n",
    "                })\n",
    "        except Exception as e:\n",
    "            print(f\"Error during transformers generation for batch starting at index {i}: {e}\")\n",
    "            for original_item in batch_slice.to_list():\n",
    "                 generated_data.append({\n",
    "                    \"question\": original_item['question'],\n",
    "                    \"generated_answer\": \"\\\\ (Generation Failed)\"\n",
    "                })\n",
    "\n",
    "    print(\"transformers answer generation complete.\")\n",
    "    return generated_data"
   ]
  },
  {
   "cell_type": "code",
   "execution_count": 22,
   "id": "72a1260a",
   "metadata": {},
   "outputs": [
    {
     "data": {
      "text/html": [
       "<pre style=\"white-space:pre;overflow-x:auto;line-height:normal;font-family:Menlo,'DejaVu Sans Mono',consolas,'Courier New',monospace\">Generating answers in batches of <span style=\"color: #008080; text-decoration-color: #008080; font-weight: bold\">5</span><span style=\"color: #808000; text-decoration-color: #808000\">...</span>\n",
       "</pre>\n"
      ],
      "text/plain": [
       "Generating answers in batches of \u001b[1;36m5\u001b[0m\u001b[33m...\u001b[0m\n"
      ]
     },
     "metadata": {},
     "output_type": "display_data"
    },
    {
     "data": {
      "text/html": [
       "<pre style=\"white-space:pre;overflow-x:auto;line-height:normal;font-family:Menlo,'DejaVu Sans Mono',consolas,'Courier New',monospace\">Processing <span style=\"color: #008080; text-decoration-color: #008080; font-weight: bold\">5</span> prompts in batch<span style=\"color: #808000; text-decoration-color: #808000\">...</span>\n",
       "</pre>\n"
      ],
      "text/plain": [
       "Processing \u001b[1;36m5\u001b[0m prompts in batch\u001b[33m...\u001b[0m\n"
      ]
     },
     "metadata": {},
     "output_type": "display_data"
    },
    {
     "data": {
      "text/html": [
       "<pre style=\"white-space:pre;overflow-x:auto;line-height:normal;font-family:Menlo,'DejaVu Sans Mono',consolas,'Courier New',monospace\">Batch processing complete.\n",
       "</pre>\n"
      ],
      "text/plain": [
       "Batch processing complete.\n"
      ]
     },
     "metadata": {},
     "output_type": "display_data"
    },
    {
     "data": {
      "text/html": [
       "<pre style=\"white-space:pre;overflow-x:auto;line-height:normal;font-family:Menlo,'DejaVu Sans Mono',consolas,'Courier New',monospace\">Processing <span style=\"color: #008080; text-decoration-color: #008080; font-weight: bold\">5</span> prompts in batch<span style=\"color: #808000; text-decoration-color: #808000\">...</span>\n",
       "</pre>\n"
      ],
      "text/plain": [
       "Processing \u001b[1;36m5\u001b[0m prompts in batch\u001b[33m...\u001b[0m\n"
      ]
     },
     "metadata": {},
     "output_type": "display_data"
    },
    {
     "data": {
      "text/html": [
       "<pre style=\"white-space:pre;overflow-x:auto;line-height:normal;font-family:Menlo,'DejaVu Sans Mono',consolas,'Courier New',monospace\">Batch processing complete.\n",
       "</pre>\n"
      ],
      "text/plain": [
       "Batch processing complete.\n"
      ]
     },
     "metadata": {},
     "output_type": "display_data"
    },
    {
     "data": {
      "text/html": [
       "<pre style=\"white-space:pre;overflow-x:auto;line-height:normal;font-family:Menlo,'DejaVu Sans Mono',consolas,'Courier New',monospace\">transformers answer generation complete.\n",
       "</pre>\n"
      ],
      "text/plain": [
       "transformers answer generation complete.\n"
      ]
     },
     "metadata": {},
     "output_type": "display_data"
    }
   ],
   "source": [
    "generated_answers = generate_answers_with_transformers(\n",
    "    model,\n",
    "    eval_dataset,\n",
    "    batch_size=5,\n",
    ")"
   ]
  },
  {
   "cell_type": "code",
   "execution_count": 23,
   "id": "9c8e3f89",
   "metadata": {},
   "outputs": [
    {
     "data": {
      "text/html": [
       "<pre style=\"white-space:pre;overflow-x:auto;line-height:normal;font-family:Menlo,'DejaVu Sans Mono',consolas,'Courier New',monospace\"><span style=\"font-weight: bold\">[</span>\n",
       "    <span style=\"font-weight: bold\">{</span>\n",
       "        <span style=\"color: #008000; text-decoration-color: #008000\">'question'</span>: <span style=\"color: #008000; text-decoration-color: #008000\">'What is the general role of the Banking Regulation Act of 1949 in the context of banking </span>\n",
       "<span style=\"color: #008000; text-decoration-color: #008000\">companies in India?'</span>,\n",
       "        <span style=\"color: #008000; text-decoration-color: #008000\">'generated_answer'</span>: <span style=\"color: #008000; text-decoration-color: #008000\">'The Banking Regulation Act of 1949 was primarily designed to regulate the banking </span>\n",
       "<span style=\"color: #008000; text-decoration-color: #008000\">industry in India. It aimed to ensure fair competition among banks, protect consumers, and maintain public trust in</span>\n",
       "<span style=\"color: #008000; text-decoration-color: #008000\">the banking system. The act established various regulatory bodies such as the Reserve Bank of India (RBI), which </span>\n",
       "<span style=\"color: #008000; text-decoration-color: #008000\">oversaw the implementation of the act, and the Central Bank of India (CBI), which provided guidance and oversight. </span>\n",
       "<span style=\"color: #008000; text-decoration-color: #008000\">This act also introduced several new rules and guidelines for bank operations, including minimum capital </span>\n",
       "<span style=\"color: #008000; text-decoration-color: #008000\">requirements, lending limits, and deposit insurance.'</span>\n",
       "    <span style=\"font-weight: bold\">}</span>,\n",
       "    <span style=\"font-weight: bold\">{</span>\n",
       "        <span style=\"color: #008000; text-decoration-color: #008000\">'question'</span>: <span style=\"color: #008000; text-decoration-color: #008000\">'How should Nodal/Focal Point branches report April 2023 transactions, and how should they </span>\n",
       "<span style=\"color: #008000; text-decoration-color: #008000\">differentiate them from March Residual Transactions in their reporting?'</span>,\n",
       "        <span style=\"color: #008000; text-decoration-color: #008000\">'generated_answer'</span>: <span style=\"color: #008000; text-decoration-color: #008000\">\"To report Nodal/Focal Point branches for April 2023 transactions, you should:\\n\\n1. </span>\n",
       "<span style=\"color: #008000; text-decoration-color: #008000\">Identify all transactions that occurred during April 2023.\\n2. Determine which of these transactions were part of </span>\n",
       "<span style=\"color: #008000; text-decoration-color: #008000\">the Nodal/Focal Point branch's operations.\\n3. Report these transactions as if they were March residual </span>\n",
       "<span style=\"color: #008000; text-decoration-color: #008000\">transactions.\\n\\nFor example:\\n- If a transaction was made on April 15th, it would be reported as an April 2023 </span>\n",
       "<span style=\"color: #008000; text-decoration-color: #008000\">transaction.\\n- If a transaction was made on April 20th, it would be considered a March residual transaction </span>\n",
       "<span style=\"color: #008000; text-decoration-color: #008000\">because it did not occur during April 2023.\\n\\nThis approach ensures that both types of transactions are accurately</span>\n",
       "<span style=\"color: #008000; text-decoration-color: #008000\">categorized and reported according to the rules set by the RBI.\"</span>\n",
       "    <span style=\"font-weight: bold\">}</span>,\n",
       "    <span style=\"font-weight: bold\">{</span>\n",
       "        <span style=\"color: #008000; text-decoration-color: #008000\">'question'</span>: <span style=\"color: #008000; text-decoration-color: #008000\">\"What is the procedure for regulated entities to handle requests for delisting from the </span>\n",
       "<span style=\"color: #008000; text-decoration-color: #008000\">Security Council's ISIL (Da'esh) and Al-Qaida Sanctions List, and what alternative options are available for </span>\n",
       "<span style=\"color: #008000; text-decoration-color: #008000\">individuals or entities seeking removal from the list?\"</span>,\n",
       "        <span style=\"color: #008000; text-decoration-color: #008000\">'generated_answer'</span>: <span style=\"color: #008000; text-decoration-color: #008000\">\"To handle requests for delisting from the Security Council's ISIL (Da'esh) and </span>\n",
       "<span style=\"color: #008000; text-decoration-color: #008000\">Al-Qaida Sanctions List, regulated entities should follow these steps:\\n\\n1. **Review the Request**: The entity </span>\n",
       "<span style=\"color: #008000; text-decoration-color: #008000\">must review the request to ensure it complies with the rules set by the International Monetary Fund (IMF), the </span>\n",
       "<span style=\"color: #008000; text-decoration-color: #008000\">World Bank, and other international organizations.\\n\\n2. **Submit the Request**: Once the entity has reviewed the </span>\n",
       "<span style=\"color: #008000; text-decoration-color: #008000\">request, they should submit it to the appropriate regulatory body or authority within their jurisdiction.\\n\\n3. </span>\n",
       "<span style=\"color: #008000; text-decoration-color: #008000\">**Follow Up**: After submission, the entity should follow up with the regulatory body to confirm receipt and </span>\n",
       "<span style=\"color: #008000; text-decoration-color: #008000\">provide any necessary documentation or information.\\n\\nFor individuals or entities seeking removal from the list, </span>\n",
       "<span style=\"color: #008000; text-decoration-color: #008000\">there are several alternatives available:\\n\\n- **International Criminal Court (ICC)**: Individuals can file a </span>\n",
       "<span style=\"color: #008000; text-decoration-color: #008000\">complaint against individuals or entities involved in terrorist activities, including those linked to Da'esh and </span>\n",
       "<span style=\"color: #008000; text-decoration-color: #008000\">Al-Qaida, at the ICC. This process involves filing a complaint with the ICC and following its procedures.\\n\\n- </span>\n",
       "<span style=\"color: #008000; text-decoration-color: #008000\">**United Nations Security Council**: If an individual or entity is found guilty of terrorism-related offenses, they</span>\n",
       "<span style=\"color: #008000; text-decoration-color: #008000\">may be subject to sanctions under the UN Security Council. This includes being removed from the list of sanctioned </span>\n",
       "<span style=\"color: #008000; text-decoration-color: #008000\">entities.\\n\\n- **Alternative Sanctions**: In some cases, individuals or entities may face alternative sanctions </span>\n",
       "<span style=\"color: #008000; text-decoration-color: #008000\">such as economic penalties, travel bans, or restrictions on their ability to conduct business </span>\n",
       "<span style=\"color: #008000; text-decoration-color: #008000\">internationally.\\n\\nIt's important for regulated entities to understand the specific requirements and procedures </span>\n",
       "<span style=\"color: #008000; text-decoration-color: #008000\">for each type of sanction and to consult with legal counsel if needed.\"</span>\n",
       "    <span style=\"font-weight: bold\">}</span>,\n",
       "    <span style=\"font-weight: bold\">{</span>\n",
       "        <span style=\"color: #008000; text-decoration-color: #008000\">'question'</span>: <span style=\"color: #008000; text-decoration-color: #008000\">'How should Credit Information Companies provide individuals with access to their free annual </span>\n",
       "<span style=\"color: #008000; text-decoration-color: #008000\">credit report?'</span>,\n",
       "        <span style=\"color: #008000; text-decoration-color: #008000\">'generated_answer'</span>: <span style=\"color: #008000; text-decoration-color: #008000\">\"Credit Information Companies should provide individuals with access to their free </span>\n",
       "<span style=\"color: #008000; text-decoration-color: #008000\">annual credit report by following these steps:\\n\\n1. **Obtain Consent**: Obtain written consent from the individual</span>\n",
       "<span style=\"color: #008000; text-decoration-color: #008000\">before providing them with their credit report.\\n\\n2. **Provide Access**: Provide the individual with an </span>\n",
       "<span style=\"color: #008000; text-decoration-color: #008000\">opportunity to review their credit report within 30 days of receiving it.\\n\\n3. **Maintain Privacy**: Ensure that </span>\n",
       "<span style=\"color: #008000; text-decoration-color: #008000\">the data collected through the credit report is handled securely and protected according to privacy laws such as </span>\n",
       "<span style=\"color: #008000; text-decoration-color: #008000\">GDPR or CCPA.\\n\\n4. **Comply with Regulations**: Adhere to all applicable regulations regarding the collection, </span>\n",
       "<span style=\"color: #008000; text-decoration-color: #008000\">use, and disclosure of personal information, including the Fair Credit Reporting Act (FCRA).\\n\\n5. **Monitor </span>\n",
       "<span style=\"color: #008000; text-decoration-color: #008000\">Compliance**: Regularly monitor compliance with regulatory requirements and ensure ongoing training for employees </span>\n",
       "<span style=\"color: #008000; text-decoration-color: #008000\">to maintain standards.\\n\\n6. **Communicate Clearly**: Communicate clearly about how the company collects, uses, and</span>\n",
       "<span style=\"color: #008000; text-decoration-color: #008000\">discloses personal information to the individual.\\n\\n7. **Secure Data**: Implement measures to secure the data </span>\n",
       "<span style=\"color: #008000; text-decoration-color: #008000\">collected through the credit report to prevent unauthorized access or misuse.\\n\\n8. **Notify Individuals**: Notify </span>\n",
       "<span style=\"color: #008000; text-decoration-color: #008000\">individuals if there are concerns about the accuracy or completeness of the credit report.\\n\\n9. **Review and </span>\n",
       "<span style=\"color: #008000; text-decoration-color: #008000\">Update**: Review and update the credit report periodically to reflect changes in the individual's credit </span>\n",
       "<span style=\"color: #008000; text-decoration-color: #008000\">history.\\n\\n10. **Legal Advice**: Consult legal counsel to understand specific requirements and potential risks </span>\n",
       "<span style=\"color: #008000; text-decoration-color: #008000\">associated with collecting and using personal information.\"</span>\n",
       "    <span style=\"font-weight: bold\">}</span>,\n",
       "    <span style=\"font-weight: bold\">{</span>\n",
       "        <span style=\"color: #008000; text-decoration-color: #008000\">'question'</span>: <span style=\"color: #008000; text-decoration-color: #008000\">'How can card issuing banks enable Card-on-File (CoFT) token generation, and what are the key </span>\n",
       "<span style=\"color: #008000; text-decoration-color: #008000\">requirements for customer consent and token availability?'</span>,\n",
       "        <span style=\"color: #008000; text-decoration-color: #008000\">'generated_answer'</span>: <span style=\"color: #008000; text-decoration-color: #008000\">'Card Issuing Banks can enable CoFT token generation through various methods such as </span>\n",
       "<span style=\"color: #008000; text-decoration-color: #008000\">API integration, mobile apps, or web-based interfaces. To ensure customer consent and token availability, banks </span>\n",
       "<span style=\"color: #008000; text-decoration-color: #008000\">must comply with regulatory requirements like the Payment Services Act 2018, which mandates that customers have </span>\n",
       "<span style=\"color: #008000; text-decoration-color: #008000\">explicit consent before using their bank cards.\\n\\nKey requirements for customer consent:\\n\\n1. **Consent from </span>\n",
       "<span style=\"color: #008000; text-decoration-color: #008000\">Customers**: Banks need to obtain explicit consent from customers who want to use their bank cards for </span>\n",
       "<span style=\"color: #008000; text-decoration-color: #008000\">transactions. This typically involves providing clear instructions about how to authorize transactions and </span>\n",
       "<span style=\"color: #008000; text-decoration-color: #008000\">obtaining verbal or written confirmation.\\n\\n2. **Privacy Policy**: Banks should clearly state their privacy policy</span>\n",
       "<span style=\"color: #008000; text-decoration-color: #008000\">regarding the collection, storage, and sharing of personal data associated with CoFT tokens. This includes details </span>\n",
       "<span style=\"color: #008000; text-decoration-color: #008000\">on how the data will be used, stored, and shared.\\n\\n3. **Data Security Measures**: Implement robust security </span>\n",
       "<span style=\"color: #008000; text-decoration-color: #008000\">measures to protect the sensitive data collected during the transaction process. This may involve encryption, </span>\n",
       "<span style=\"color: #008000; text-decoration-color: #008000\">secure authentication protocols, and regular audits to detect and mitigate potential breaches.\\n\\n4. </span>\n",
       "<span style=\"color: #008000; text-decoration-color: #008000\">**Transparency**: Provide transparency about the process and results of token generation and usage. This helps </span>\n",
       "<span style=\"color: #008000; text-decoration-color: #008000\">build trust with customers and ensures they understand how their bank cards are being utilized.\\n\\n5. </span>\n",
       "<span style=\"color: #008000; text-decoration-color: #008000\">**Documentation**: Maintain detailed records of all transactions involving CoFT tokens, including dates, amounts, </span>\n",
       "<span style=\"color: #008000; text-decoration-color: #008000\">and users involved. These documents serve as evidence of compliance and help in case of disputes.\\n\\nBy adhering to</span>\n",
       "<span style=\"color: #008000; text-decoration-color: #008000\">these guidelines, banks can effectively manage CoFT token generation while ensuring customer consent and token </span>\n",
       "<span style=\"color: #008000; text-decoration-color: #008000\">availability meet regulatory standards.'</span>\n",
       "    <span style=\"font-weight: bold\">}</span>,\n",
       "    <span style=\"font-weight: bold\">{</span>\n",
       "        <span style=\"color: #008000; text-decoration-color: #008000\">'question'</span>: <span style=\"color: #008000; text-decoration-color: #008000\">'What are the compliance requirements for Regulated Entities concerning the Unlawful Activities</span>\n",
       "<span style=\"color: #008000; text-decoration-color: #008000\">(Prevention) Act (UAPA) Order?'</span>,\n",
       "        <span style=\"color: #008000; text-decoration-color: #008000\">'generated_answer'</span>: <span style=\"color: #008000; text-decoration-color: #008000\">'Regulated entities under the UAPA Order must comply with various compliance </span>\n",
       "<span style=\"color: #008000; text-decoration-color: #008000\">requirements. These include:\\n\\n1. Compliance with the UAPA Order itself.\\n2. Compliance with the guidelines </span>\n",
       "<span style=\"color: #008000; text-decoration-color: #008000\">provided by the Central Government.\\n3. Compliance with the guidelines provided by the State Governments.\\n4. </span>\n",
       "<span style=\"color: #008000; text-decoration-color: #008000\">Compliance with the guidelines provided by the respective state governments.\\n\\nThe entity must ensure that it </span>\n",
       "<span style=\"color: #008000; text-decoration-color: #008000\">complies with all these guidelines to avoid penalties and maintain its regulatory status.'</span>\n",
       "    <span style=\"font-weight: bold\">}</span>,\n",
       "    <span style=\"font-weight: bold\">{</span>\n",
       "        <span style=\"color: #008000; text-decoration-color: #008000\">'question'</span>: <span style=\"color: #008000; text-decoration-color: #008000\">'Which bank is responsible for the lead bank responsibility in the Hojai district?'</span>,\n",
       "        <span style=\"color: #008000; text-decoration-color: #008000\">'generated_answer'</span>: <span style=\"color: #008000; text-decoration-color: #008000\">'The lead bank responsible for the Hojai district is the State Bank of India.'</span>\n",
       "    <span style=\"font-weight: bold\">}</span>,\n",
       "    <span style=\"font-weight: bold\">{</span>\n",
       "        <span style=\"color: #008000; text-decoration-color: #008000\">'question'</span>: <span style=\"color: #008000; text-decoration-color: #008000\">'What steps should banks take to simplify the activation of inoperative or frozen accounts?'</span>,\n",
       "        <span style=\"color: #008000; text-decoration-color: #008000\">'generated_answer'</span>: <span style=\"color: #008000; text-decoration-color: #008000\">\"Banks should follow these steps to simplify the activation of inoperative or frozen </span>\n",
       "<span style=\"color: #008000; text-decoration-color: #008000\">accounts:\\n\\n1. **Review Account Status**: Banks should first review the status of each account to determine if it </span>\n",
       "<span style=\"color: #008000; text-decoration-color: #008000\">is still active or frozen.\\n\\n2. **Contact Customer Support**: If an account is frozen, contact customer support </span>\n",
       "<span style=\"color: #008000; text-decoration-color: #008000\">for assistance in activating it.\\n\\n3. **Provide Instructions**: Provide clear instructions on how to activate the </span>\n",
       "<span style=\"color: #008000; text-decoration-color: #008000\">account, including any necessary verification steps.\\n\\n4. **Follow Up**: Follow up with the customer after </span>\n",
       "<span style=\"color: #008000; text-decoration-color: #008000\">providing instructions to ensure they have completed the activation process correctly.\\n\\n5. **Monitor Activation </span>\n",
       "<span style=\"color: #008000; text-decoration-color: #008000\">Process**: Monitor the activation process closely to ensure that all required steps were completed </span>\n",
       "<span style=\"color: #008000; text-decoration-color: #008000\">successfully.\\n\\n6. **Notify Regulatory Bodies**: Inform regulatory bodies about the situation as soon as possible </span>\n",
       "<span style=\"color: #008000; text-decoration-color: #008000\">to avoid delays in processing the account.\\n\\n7. **Document Actions Taken**: Document all actions taken by the bank</span>\n",
       "<span style=\"color: #008000; text-decoration-color: #008000\">to ensure compliance with regulatory requirements.\\n\\n8. **Communicate with Customers**: Communicate with customers</span>\n",
       "<span style=\"color: #008000; text-decoration-color: #008000\">who may be affected by the freeze or inoperative status to address their concerns promptly.\\n\\nBy following these </span>\n",
       "<span style=\"color: #008000; text-decoration-color: #008000\">steps, banks can help streamline the activation process and minimize disruptions to customers' financial </span>\n",
       "<span style=\"color: #008000; text-decoration-color: #008000\">transactions.\"</span>\n",
       "    <span style=\"font-weight: bold\">}</span>,\n",
       "    <span style=\"font-weight: bold\">{</span>\n",
       "        <span style=\"color: #008000; text-decoration-color: #008000\">'question'</span>: <span style=\"color: #008000; text-decoration-color: #008000\">\"What is the purpose of the Reserve Bank of India's Master Direction on Financial Statements - </span>\n",
       "<span style=\"color: #008000; text-decoration-color: #008000\">Presentation and Disclosures?\"</span>,\n",
       "        <span style=\"color: #008000; text-decoration-color: #008000\">'generated_answer'</span>: <span style=\"color: #008000; text-decoration-color: #008000\">\"The Reserve Bank of India's Master Direction on Financial Statements - Presentation </span>\n",
       "<span style=\"color: #008000; text-decoration-color: #008000\">and Disclosures aims to ensure that financial statements are prepared in accordance with the principles of </span>\n",
       "<span style=\"color: #008000; text-decoration-color: #008000\">prudence, substance, and accuracy. It also seeks to provide guidance on how financial statements should be </span>\n",
       "<span style=\"color: #008000; text-decoration-color: #008000\">presented and disclosed to enhance transparency and accountability in the financial reporting process.\"</span>\n",
       "    <span style=\"font-weight: bold\">}</span>,\n",
       "    <span style=\"font-weight: bold\">{</span>\n",
       "        <span style=\"color: #008000; text-decoration-color: #008000\">'question'</span>: <span style=\"color: #008000; text-decoration-color: #008000\">'What is the Reserve Bank of India\\'s advice to participants in the Government Securities </span>\n",
       "<span style=\"color: #008000; text-decoration-color: #008000\">market regarding the use of the \"Price / Yield range setting\" facility on the e-Kuber platform, and what is the </span>\n",
       "<span style=\"color: #008000; text-decoration-color: #008000\">policy on bid cancellations?'</span>,\n",
       "        <span style=\"color: #008000; text-decoration-color: #008000\">'generated_answer'</span>: <span style=\"color: #008000; text-decoration-color: #008000\">'The Reserve Bank of India advises participants in the Government Securities market to </span>\n",
       "<span style=\"color: #008000; text-decoration-color: #008000\">use the \"Price / Yield range setting\" facility on the e-Kuber platform for their securities. The policy on bid </span>\n",
       "<span style=\"color: #008000; text-decoration-color: #008000\">cancellations states that if a bid is cancelled before it has been executed, the cancellation fee will be </span>\n",
       "<span style=\"color: #008000; text-decoration-color: #008000\">refunded.'</span>\n",
       "    <span style=\"font-weight: bold\">}</span>\n",
       "<span style=\"font-weight: bold\">]</span>\n",
       "</pre>\n"
      ],
      "text/plain": [
       "\u001b[1m[\u001b[0m\n",
       "    \u001b[1m{\u001b[0m\n",
       "        \u001b[32m'question'\u001b[0m: \u001b[32m'What is the general role of the Banking Regulation Act of 1949 in the context of banking \u001b[0m\n",
       "\u001b[32mcompanies in India?'\u001b[0m,\n",
       "        \u001b[32m'generated_answer'\u001b[0m: \u001b[32m'The Banking Regulation Act of 1949 was primarily designed to regulate the banking \u001b[0m\n",
       "\u001b[32mindustry in India. It aimed to ensure fair competition among banks, protect consumers, and maintain public trust in\u001b[0m\n",
       "\u001b[32mthe banking system. The act established various regulatory bodies such as the Reserve Bank of India \u001b[0m\u001b[32m(\u001b[0m\u001b[32mRBI\u001b[0m\u001b[32m)\u001b[0m\u001b[32m, which \u001b[0m\n",
       "\u001b[32moversaw the implementation of the act, and the Central Bank of India \u001b[0m\u001b[32m(\u001b[0m\u001b[32mCBI\u001b[0m\u001b[32m)\u001b[0m\u001b[32m, which provided guidance and oversight. \u001b[0m\n",
       "\u001b[32mThis act also introduced several new rules and guidelines for bank operations, including minimum capital \u001b[0m\n",
       "\u001b[32mrequirements, lending limits, and deposit insurance.'\u001b[0m\n",
       "    \u001b[1m}\u001b[0m,\n",
       "    \u001b[1m{\u001b[0m\n",
       "        \u001b[32m'question'\u001b[0m: \u001b[32m'How should Nodal/Focal Point branches report April 2023 transactions, and how should they \u001b[0m\n",
       "\u001b[32mdifferentiate them from March Residual Transactions in their reporting?'\u001b[0m,\n",
       "        \u001b[32m'generated_answer'\u001b[0m: \u001b[32m\"To report Nodal/Focal Point branches for April 2023 transactions, you should:\\n\\n1. \u001b[0m\n",
       "\u001b[32mIdentify all transactions that occurred during April 2023.\\n2. Determine which of these transactions were part of \u001b[0m\n",
       "\u001b[32mthe Nodal/Focal Point branch's operations.\\n3. Report these transactions as if they were March residual \u001b[0m\n",
       "\u001b[32mtransactions.\\n\\nFor example:\\n- If a transaction was made on April 15th, it would be reported as an April 2023 \u001b[0m\n",
       "\u001b[32mtransaction.\\n- If a transaction was made on April 20th, it would be considered a March residual transaction \u001b[0m\n",
       "\u001b[32mbecause it did not occur during April 2023.\\n\\nThis approach ensures that both types of transactions are accurately\u001b[0m\n",
       "\u001b[32mcategorized and reported according to the rules set by the RBI.\"\u001b[0m\n",
       "    \u001b[1m}\u001b[0m,\n",
       "    \u001b[1m{\u001b[0m\n",
       "        \u001b[32m'question'\u001b[0m: \u001b[32m\"What is the procedure for regulated entities to handle requests for delisting from the \u001b[0m\n",
       "\u001b[32mSecurity Council's ISIL \u001b[0m\u001b[32m(\u001b[0m\u001b[32mDa'esh\u001b[0m\u001b[32m)\u001b[0m\u001b[32m and Al-Qaida Sanctions List, and what alternative options are available for \u001b[0m\n",
       "\u001b[32mindividuals or entities seeking removal from the list?\"\u001b[0m,\n",
       "        \u001b[32m'generated_answer'\u001b[0m: \u001b[32m\"To handle requests for delisting from the Security Council's ISIL \u001b[0m\u001b[32m(\u001b[0m\u001b[32mDa'esh\u001b[0m\u001b[32m)\u001b[0m\u001b[32m and \u001b[0m\n",
       "\u001b[32mAl-Qaida Sanctions List, regulated entities should follow these steps:\\n\\n1. **Review the Request**: The entity \u001b[0m\n",
       "\u001b[32mmust review the request to ensure it complies with the rules set by the International Monetary Fund \u001b[0m\u001b[32m(\u001b[0m\u001b[32mIMF\u001b[0m\u001b[32m)\u001b[0m\u001b[32m, the \u001b[0m\n",
       "\u001b[32mWorld Bank, and other international organizations.\\n\\n2. **Submit the Request**: Once the entity has reviewed the \u001b[0m\n",
       "\u001b[32mrequest, they should submit it to the appropriate regulatory body or authority within their jurisdiction.\\n\\n3. \u001b[0m\n",
       "\u001b[32m**Follow Up**: After submission, the entity should follow up with the regulatory body to confirm receipt and \u001b[0m\n",
       "\u001b[32mprovide any necessary documentation or information.\\n\\nFor individuals or entities seeking removal from the list, \u001b[0m\n",
       "\u001b[32mthere are several alternatives available:\\n\\n- **International Criminal Court \u001b[0m\u001b[32m(\u001b[0m\u001b[32mICC\u001b[0m\u001b[32m)\u001b[0m\u001b[32m**: Individuals can file a \u001b[0m\n",
       "\u001b[32mcomplaint against individuals or entities involved in terrorist activities, including those linked to Da'esh and \u001b[0m\n",
       "\u001b[32mAl-Qaida, at the ICC. This process involves filing a complaint with the ICC and following its procedures.\\n\\n- \u001b[0m\n",
       "\u001b[32m**United Nations Security Council**: If an individual or entity is found guilty of terrorism-related offenses, they\u001b[0m\n",
       "\u001b[32mmay be subject to sanctions under the UN Security Council. This includes being removed from the list of sanctioned \u001b[0m\n",
       "\u001b[32mentities.\\n\\n- **Alternative Sanctions**: In some cases, individuals or entities may face alternative sanctions \u001b[0m\n",
       "\u001b[32msuch as economic penalties, travel bans, or restrictions on their ability to conduct business \u001b[0m\n",
       "\u001b[32minternationally.\\n\\nIt's important for regulated entities to understand the specific requirements and procedures \u001b[0m\n",
       "\u001b[32mfor each type of sanction and to consult with legal counsel if needed.\"\u001b[0m\n",
       "    \u001b[1m}\u001b[0m,\n",
       "    \u001b[1m{\u001b[0m\n",
       "        \u001b[32m'question'\u001b[0m: \u001b[32m'How should Credit Information Companies provide individuals with access to their free annual \u001b[0m\n",
       "\u001b[32mcredit report?'\u001b[0m,\n",
       "        \u001b[32m'generated_answer'\u001b[0m: \u001b[32m\"Credit Information Companies should provide individuals with access to their free \u001b[0m\n",
       "\u001b[32mannual credit report by following these steps:\\n\\n1. **Obtain Consent**: Obtain written consent from the individual\u001b[0m\n",
       "\u001b[32mbefore providing them with their credit report.\\n\\n2. **Provide Access**: Provide the individual with an \u001b[0m\n",
       "\u001b[32mopportunity to review their credit report within 30 days of receiving it.\\n\\n3. **Maintain Privacy**: Ensure that \u001b[0m\n",
       "\u001b[32mthe data collected through the credit report is handled securely and protected according to privacy laws such as \u001b[0m\n",
       "\u001b[32mGDPR or CCPA.\\n\\n4. **Comply with Regulations**: Adhere to all applicable regulations regarding the collection, \u001b[0m\n",
       "\u001b[32muse, and disclosure of personal information, including the Fair Credit Reporting Act \u001b[0m\u001b[32m(\u001b[0m\u001b[32mFCRA\u001b[0m\u001b[32m)\u001b[0m\u001b[32m.\\n\\n5. **Monitor \u001b[0m\n",
       "\u001b[32mCompliance**: Regularly monitor compliance with regulatory requirements and ensure ongoing training for employees \u001b[0m\n",
       "\u001b[32mto maintain standards.\\n\\n6. **Communicate Clearly**: Communicate clearly about how the company collects, uses, and\u001b[0m\n",
       "\u001b[32mdiscloses personal information to the individual.\\n\\n7. **Secure Data**: Implement measures to secure the data \u001b[0m\n",
       "\u001b[32mcollected through the credit report to prevent unauthorized access or misuse.\\n\\n8. **Notify Individuals**: Notify \u001b[0m\n",
       "\u001b[32mindividuals if there are concerns about the accuracy or completeness of the credit report.\\n\\n9. **Review and \u001b[0m\n",
       "\u001b[32mUpdate**: Review and update the credit report periodically to reflect changes in the individual's credit \u001b[0m\n",
       "\u001b[32mhistory.\\n\\n10. **Legal Advice**: Consult legal counsel to understand specific requirements and potential risks \u001b[0m\n",
       "\u001b[32massociated with collecting and using personal information.\"\u001b[0m\n",
       "    \u001b[1m}\u001b[0m,\n",
       "    \u001b[1m{\u001b[0m\n",
       "        \u001b[32m'question'\u001b[0m: \u001b[32m'How can card issuing banks enable Card-on-File \u001b[0m\u001b[32m(\u001b[0m\u001b[32mCoFT\u001b[0m\u001b[32m)\u001b[0m\u001b[32m token generation, and what are the key \u001b[0m\n",
       "\u001b[32mrequirements for customer consent and token availability?'\u001b[0m,\n",
       "        \u001b[32m'generated_answer'\u001b[0m: \u001b[32m'Card Issuing Banks can enable CoFT token generation through various methods such as \u001b[0m\n",
       "\u001b[32mAPI integration, mobile apps, or web-based interfaces. To ensure customer consent and token availability, banks \u001b[0m\n",
       "\u001b[32mmust comply with regulatory requirements like the Payment Services Act 2018, which mandates that customers have \u001b[0m\n",
       "\u001b[32mexplicit consent before using their bank cards.\\n\\nKey requirements for customer consent:\\n\\n1. **Consent from \u001b[0m\n",
       "\u001b[32mCustomers**: Banks need to obtain explicit consent from customers who want to use their bank cards for \u001b[0m\n",
       "\u001b[32mtransactions. This typically involves providing clear instructions about how to authorize transactions and \u001b[0m\n",
       "\u001b[32mobtaining verbal or written confirmation.\\n\\n2. **Privacy Policy**: Banks should clearly state their privacy policy\u001b[0m\n",
       "\u001b[32mregarding the collection, storage, and sharing of personal data associated with CoFT tokens. This includes details \u001b[0m\n",
       "\u001b[32mon how the data will be used, stored, and shared.\\n\\n3. **Data Security Measures**: Implement robust security \u001b[0m\n",
       "\u001b[32mmeasures to protect the sensitive data collected during the transaction process. This may involve encryption, \u001b[0m\n",
       "\u001b[32msecure authentication protocols, and regular audits to detect and mitigate potential breaches.\\n\\n4. \u001b[0m\n",
       "\u001b[32m**Transparency**: Provide transparency about the process and results of token generation and usage. This helps \u001b[0m\n",
       "\u001b[32mbuild trust with customers and ensures they understand how their bank cards are being utilized.\\n\\n5. \u001b[0m\n",
       "\u001b[32m**Documentation**: Maintain detailed records of all transactions involving CoFT tokens, including dates, amounts, \u001b[0m\n",
       "\u001b[32mand users involved. These documents serve as evidence of compliance and help in case of disputes.\\n\\nBy adhering to\u001b[0m\n",
       "\u001b[32mthese guidelines, banks can effectively manage CoFT token generation while ensuring customer consent and token \u001b[0m\n",
       "\u001b[32mavailability meet regulatory standards.'\u001b[0m\n",
       "    \u001b[1m}\u001b[0m,\n",
       "    \u001b[1m{\u001b[0m\n",
       "        \u001b[32m'question'\u001b[0m: \u001b[32m'What are the compliance requirements for Regulated Entities concerning the Unlawful Activities\u001b[0m\n",
       "\u001b[32m(\u001b[0m\u001b[32mPrevention\u001b[0m\u001b[32m)\u001b[0m\u001b[32m Act \u001b[0m\u001b[32m(\u001b[0m\u001b[32mUAPA\u001b[0m\u001b[32m)\u001b[0m\u001b[32m Order?'\u001b[0m,\n",
       "        \u001b[32m'generated_answer'\u001b[0m: \u001b[32m'Regulated entities under the UAPA Order must comply with various compliance \u001b[0m\n",
       "\u001b[32mrequirements. These include:\\n\\n1. Compliance with the UAPA Order itself.\\n2. Compliance with the guidelines \u001b[0m\n",
       "\u001b[32mprovided by the Central Government.\\n3. Compliance with the guidelines provided by the State Governments.\\n4. \u001b[0m\n",
       "\u001b[32mCompliance with the guidelines provided by the respective state governments.\\n\\nThe entity must ensure that it \u001b[0m\n",
       "\u001b[32mcomplies with all these guidelines to avoid penalties and maintain its regulatory status.'\u001b[0m\n",
       "    \u001b[1m}\u001b[0m,\n",
       "    \u001b[1m{\u001b[0m\n",
       "        \u001b[32m'question'\u001b[0m: \u001b[32m'Which bank is responsible for the lead bank responsibility in the Hojai district?'\u001b[0m,\n",
       "        \u001b[32m'generated_answer'\u001b[0m: \u001b[32m'The lead bank responsible for the Hojai district is the State Bank of India.'\u001b[0m\n",
       "    \u001b[1m}\u001b[0m,\n",
       "    \u001b[1m{\u001b[0m\n",
       "        \u001b[32m'question'\u001b[0m: \u001b[32m'What steps should banks take to simplify the activation of inoperative or frozen accounts?'\u001b[0m,\n",
       "        \u001b[32m'generated_answer'\u001b[0m: \u001b[32m\"Banks should follow these steps to simplify the activation of inoperative or frozen \u001b[0m\n",
       "\u001b[32maccounts:\\n\\n1. **Review Account Status**: Banks should first review the status of each account to determine if it \u001b[0m\n",
       "\u001b[32mis still active or frozen.\\n\\n2. **Contact Customer Support**: If an account is frozen, contact customer support \u001b[0m\n",
       "\u001b[32mfor assistance in activating it.\\n\\n3. **Provide Instructions**: Provide clear instructions on how to activate the \u001b[0m\n",
       "\u001b[32maccount, including any necessary verification steps.\\n\\n4. **Follow Up**: Follow up with the customer after \u001b[0m\n",
       "\u001b[32mproviding instructions to ensure they have completed the activation process correctly.\\n\\n5. **Monitor Activation \u001b[0m\n",
       "\u001b[32mProcess**: Monitor the activation process closely to ensure that all required steps were completed \u001b[0m\n",
       "\u001b[32msuccessfully.\\n\\n6. **Notify Regulatory Bodies**: Inform regulatory bodies about the situation as soon as possible \u001b[0m\n",
       "\u001b[32mto avoid delays in processing the account.\\n\\n7. **Document Actions Taken**: Document all actions taken by the bank\u001b[0m\n",
       "\u001b[32mto ensure compliance with regulatory requirements.\\n\\n8. **Communicate with Customers**: Communicate with customers\u001b[0m\n",
       "\u001b[32mwho may be affected by the freeze or inoperative status to address their concerns promptly.\\n\\nBy following these \u001b[0m\n",
       "\u001b[32msteps, banks can help streamline the activation process and minimize disruptions to customers' financial \u001b[0m\n",
       "\u001b[32mtransactions.\"\u001b[0m\n",
       "    \u001b[1m}\u001b[0m,\n",
       "    \u001b[1m{\u001b[0m\n",
       "        \u001b[32m'question'\u001b[0m: \u001b[32m\"What is the purpose of the Reserve Bank of India's Master Direction on Financial Statements - \u001b[0m\n",
       "\u001b[32mPresentation and Disclosures?\"\u001b[0m,\n",
       "        \u001b[32m'generated_answer'\u001b[0m: \u001b[32m\"The Reserve Bank of India's Master Direction on Financial Statements - Presentation \u001b[0m\n",
       "\u001b[32mand Disclosures aims to ensure that financial statements are prepared in accordance with the principles of \u001b[0m\n",
       "\u001b[32mprudence, substance, and accuracy. It also seeks to provide guidance on how financial statements should be \u001b[0m\n",
       "\u001b[32mpresented and disclosed to enhance transparency and accountability in the financial reporting process.\"\u001b[0m\n",
       "    \u001b[1m}\u001b[0m,\n",
       "    \u001b[1m{\u001b[0m\n",
       "        \u001b[32m'question'\u001b[0m: \u001b[32m'What is the Reserve Bank of India\\'s advice to participants in the Government Securities \u001b[0m\n",
       "\u001b[32mmarket regarding the use of the \"Price / Yield range setting\" facility on the e-Kuber platform, and what is the \u001b[0m\n",
       "\u001b[32mpolicy on bid cancellations?'\u001b[0m,\n",
       "        \u001b[32m'generated_answer'\u001b[0m: \u001b[32m'The Reserve Bank of India advises participants in the Government Securities market to \u001b[0m\n",
       "\u001b[32muse the \"Price / Yield range setting\" facility on the e-Kuber platform for their securities. The policy on bid \u001b[0m\n",
       "\u001b[32mcancellations states that if a bid is cancelled before it has been executed, the cancellation fee will be \u001b[0m\n",
       "\u001b[32mrefunded.'\u001b[0m\n",
       "    \u001b[1m}\u001b[0m\n",
       "\u001b[1m]\u001b[0m\n"
      ]
     },
     "metadata": {},
     "output_type": "display_data"
    }
   ],
   "source": [
    "print(generated_answers)"
   ]
  },
  {
   "cell_type": "code",
   "execution_count": 24,
   "id": "d2b5ab34",
   "metadata": {},
   "outputs": [],
   "source": [
    "def evaluate_answers_with_gemini(\n",
    "    eval_dataset: Dataset,\n",
    "    generated_answers_data: List[Dict[str, str]],\n",
    "    llm: ChatGoogleGenerativeAI,\n",
    ") -> Tuple[List[Dict[str, Any]], Dict[str, Any]]:\n",
    "    \"\"\"\n",
    "    Evaluates generated answers using a Gemini LLM, returning only the score in the structured output.\n",
    "\n",
    "    Args:\n",
    "        eval_dataset (datasets.Dataset): The original dataset containing 'question',\n",
    "                                          'answer' (ground truth), and 'evaluation_criteria' fields.\n",
    "        generated_answers_data (List[Dict[str, str]]): A list of dictionaries, where each\n",
    "                                                       dictionary contains the original question\n",
    "                                                       and the 'generated_answer'.\n",
    "        llm (ChatGoogleGenerativeAI): The LangChain Gemini LLM instance.\n",
    "\n",
    "    Returns:\n",
    "        tuple: A tuple containing:\n",
    "               - list: A list of dictionaries, where each dictionary contains the original question,\n",
    "                       ground truth answer, generated answer, and evaluation score.\n",
    "               - dict: A summary dictionary of the evaluation.\n",
    "    \"\"\"\n",
    "\n",
    "    SYSTEM_MESSAGE = \"\"\"\n",
    "    You are an expert evaluator tasked with determining if an answer satisfies specified evaluation criteria.\n",
    "\n",
    "    You will receive:\n",
    "    1. A question\n",
    "    2. The evaluation criteria\n",
    "    3. The model's answer to evaluate\n",
    "\n",
    "    Provide your score based on the criteria:\n",
    "    - Score 1 if the answer fully satisfies ALL the specified criteria\n",
    "    - Score 0 if it fails to meet ANY of the criteria\n",
    "\n",
    "    Format your response as a JSON object with a single key 'score' containing just the number 1 or 0.\n",
    "    For example: {{\"score\": 1}}\n",
    "    \"\"\".strip()\n",
    "\n",
    "    PROMPT_TEMPLATE = \"\"\"\n",
    "    Question: {question}\n",
    "    Evaluation Criteria: {evaluation_criteria}\n",
    "    Model Answer: {model_answer}\n",
    "\n",
    "    Provide the evaluation score in the specified JSON format.\n",
    "    \"\"\".strip()\n",
    "\n",
    "    gemini_eval_prompt = ChatPromptTemplate.from_messages(\n",
    "        [\n",
    "            (\"system\", SYSTEM_MESSAGE),\n",
    "            (\"human\", PROMPT_TEMPLATE),\n",
    "        ]\n",
    "    )\n",
    "\n",
    "    gemini_eval_chain = gemini_eval_prompt | llm.with_structured_output(EvaluationResult)\n",
    "\n",
    "    results = []\n",
    "    total_evaluated = 0\n",
    "    total_score = 0\n",
    "    failed_evaluations_due_to_error = 0\n",
    "\n",
    "    print(f\"Evaluating answers with Gemini...\")\n",
    "    combined_data = list(zip(eval_dataset.to_list(), generated_answers_data))\n",
    "\n",
    "    for original_item, generated_item in combined_data:\n",
    "        total_evaluated += 1\n",
    "\n",
    "        question = original_item['question']\n",
    "        ground_truth_answer = original_item['answer']\n",
    "        evaluation_criteria = original_item['evaluation_criteria']\n",
    "        generated_answer = generated_item['generated_answer']\n",
    "\n",
    "        gemini_input = {\n",
    "            \"question\": question,\n",
    "            \"evaluation_criteria\": evaluation_criteria,\n",
    "            \"model_answer\": generated_answer,\n",
    "        }\n",
    "\n",
    "        score_val = 0\n",
    "\n",
    "        try:\n",
    "            structured_result = gemini_eval_chain.invoke(gemini_input)\n",
    "            score_val = structured_result.score\n",
    "            total_score += score_val\n",
    "\n",
    "        except Exception as e:\n",
    "            print(f\"Error during Gemini evaluation for question: '{question}'. Error: {e}\")\n",
    "            score_val = 0\n",
    "            failed_evaluations_due_to_error += 1\n",
    "\n",
    "        results.append({\n",
    "            \"question\": question,\n",
    "            \"ground_truth_answer\": ground_truth_answer,\n",
    "            \"generated_answer\": generated_answer,\n",
    "            \"evaluation_score\": score_val,\n",
    "        })\n",
    "\n",
    "    # Calculate summary statistics\n",
    "    successful_eval_count = total_evaluated - failed_evaluations_due_to_error\n",
    "    percentage_passed_criteria = (total_score / successful_eval_count) * 100 if successful_eval_count > 0 else 0\n",
    "\n",
    "    summary = {\n",
    "        \"total_evaluations_attempted\": total_evaluated,\n",
    "        \"successful_evaluations\": successful_eval_count,\n",
    "        \"failed_evaluations_due_to_error\": failed_evaluations_due_to_error,\n",
    "        \"total_passed_criteria\": total_score,\n",
    "        \"percentage_passed_criteria\": percentage_passed_criteria,\n",
    "        \"overall_evaluation_summary\": (\n",
    "            f\"Out of {total_evaluated} attempted evaluations, \"\n",
    "            f\"{successful_eval_count} were successfully processed by Gemini. \"\n",
    "            f\"{failed_evaluations_due_to_error} evaluations encountered an error. \"\n",
    "            f\"Among the successfully evaluated answers, {total_score} met all criteria, \"\n",
    "            f\"resulting in a {percentage_passed_criteria:.2f}% pass rate.\"\n",
    "        )\n",
    "    }\n",
    "    print(\"Gemini evaluation complete.\")\n",
    "    return results, summary\n"
   ]
  },
  {
   "cell_type": "code",
   "execution_count": 25,
   "id": "dac48e46",
   "metadata": {},
   "outputs": [
    {
     "data": {
      "text/html": [
       "<pre style=\"white-space:pre;overflow-x:auto;line-height:normal;font-family:Menlo,'DejaVu Sans Mono',consolas,'Courier New',monospace\">Evaluating answers with Gemini<span style=\"color: #808000; text-decoration-color: #808000\">...</span>\n",
       "</pre>\n"
      ],
      "text/plain": [
       "Evaluating answers with Gemini\u001b[33m...\u001b[0m\n"
      ]
     },
     "metadata": {},
     "output_type": "display_data"
    },
    {
     "data": {
      "text/html": [
       "<pre style=\"white-space:pre;overflow-x:auto;line-height:normal;font-family:Menlo,'DejaVu Sans Mono',consolas,'Courier New',monospace\">Gemini evaluation complete.\n",
       "</pre>\n"
      ],
      "text/plain": [
       "Gemini evaluation complete.\n"
      ]
     },
     "metadata": {},
     "output_type": "display_data"
    }
   ],
   "source": [
    "evaluation_results, evaluation_summary = evaluate_answers_with_gemini(\n",
    "    eval_dataset=eval_dataset, \n",
    "    generated_answers_data=generated_answers, \n",
    "    llm=llm,\n",
    ")"
   ]
  },
  {
   "cell_type": "code",
   "execution_count": 26,
   "id": "c29688b9",
   "metadata": {},
   "outputs": [
    {
     "data": {
      "text/html": [
       "<pre style=\"white-space:pre;overflow-x:auto;line-height:normal;font-family:Menlo,'DejaVu Sans Mono',consolas,'Courier New',monospace\"><span style=\"font-weight: bold\">[</span>\n",
       "    <span style=\"font-weight: bold\">{</span>\n",
       "        <span style=\"color: #008000; text-decoration-color: #008000\">'question'</span>: <span style=\"color: #008000; text-decoration-color: #008000\">'What is the general role of the Banking Regulation Act of 1949 in the context of banking </span>\n",
       "<span style=\"color: #008000; text-decoration-color: #008000\">companies in India?'</span>,\n",
       "        <span style=\"color: #008000; text-decoration-color: #008000\">'ground_truth_answer'</span>: <span style=\"color: #008000; text-decoration-color: #008000\">'The Banking Regulation Act of 1949 governs the functioning of banking companies in </span>\n",
       "<span style=\"color: #008000; text-decoration-color: #008000\">India, setting standards for their operations, management, and financial stability.'</span>,\n",
       "        <span style=\"color: #008000; text-decoration-color: #008000\">'generated_answer'</span>: <span style=\"color: #008000; text-decoration-color: #008000\">'The Banking Regulation Act of 1949 was primarily designed to regulate the banking </span>\n",
       "<span style=\"color: #008000; text-decoration-color: #008000\">industry in India. It aimed to ensure fair competition among banks, protect consumers, and maintain public trust in</span>\n",
       "<span style=\"color: #008000; text-decoration-color: #008000\">the banking system. The act established various regulatory bodies such as the Reserve Bank of India (RBI), which </span>\n",
       "<span style=\"color: #008000; text-decoration-color: #008000\">oversaw the implementation of the act, and the Central Bank of India (CBI), which provided guidance and oversight. </span>\n",
       "<span style=\"color: #008000; text-decoration-color: #008000\">This act also introduced several new rules and guidelines for bank operations, including minimum capital </span>\n",
       "<span style=\"color: #008000; text-decoration-color: #008000\">requirements, lending limits, and deposit insurance.'</span>,\n",
       "        <span style=\"color: #008000; text-decoration-color: #008000\">'evaluation_score'</span>: <span style=\"color: #008080; text-decoration-color: #008080; font-weight: bold\">0</span>\n",
       "    <span style=\"font-weight: bold\">}</span>,\n",
       "    <span style=\"font-weight: bold\">{</span>\n",
       "        <span style=\"color: #008000; text-decoration-color: #008000\">'question'</span>: <span style=\"color: #008000; text-decoration-color: #008000\">'How should Nodal/Focal Point branches report April 2023 transactions, and how should they </span>\n",
       "<span style=\"color: #008000; text-decoration-color: #008000\">differentiate them from March Residual Transactions in their reporting?'</span>,\n",
       "        <span style=\"color: #008000; text-decoration-color: #008000\">'ground_truth_answer'</span>: <span style=\"color: #008000; text-decoration-color: #008000\">'Nodal/Focal Point branches must submit a monthly statement for April transactions </span>\n",
       "<span style=\"color: #008000; text-decoration-color: #008000\">to Zonal Accounts Officers/Pay and Accounts Officers in the usual format. To differentiate between April </span>\n",
       "<span style=\"color: #008000; text-decoration-color: #008000\">transactions (financial year 2023-24) and March Residual Transactions, the statement pertaining to March Residual </span>\n",
       "<span style=\"color: #008000; text-decoration-color: #008000\">Transactions should be clearly marked as \"March Residual Account\".'</span>,\n",
       "        <span style=\"color: #008000; text-decoration-color: #008000\">'generated_answer'</span>: <span style=\"color: #008000; text-decoration-color: #008000\">\"To report Nodal/Focal Point branches for April 2023 transactions, you should:\\n\\n1. </span>\n",
       "<span style=\"color: #008000; text-decoration-color: #008000\">Identify all transactions that occurred during April 2023.\\n2. Determine which of these transactions were part of </span>\n",
       "<span style=\"color: #008000; text-decoration-color: #008000\">the Nodal/Focal Point branch's operations.\\n3. Report these transactions as if they were March residual </span>\n",
       "<span style=\"color: #008000; text-decoration-color: #008000\">transactions.\\n\\nFor example:\\n- If a transaction was made on April 15th, it would be reported as an April 2023 </span>\n",
       "<span style=\"color: #008000; text-decoration-color: #008000\">transaction.\\n- If a transaction was made on April 20th, it would be considered a March residual transaction </span>\n",
       "<span style=\"color: #008000; text-decoration-color: #008000\">because it did not occur during April 2023.\\n\\nThis approach ensures that both types of transactions are accurately</span>\n",
       "<span style=\"color: #008000; text-decoration-color: #008000\">categorized and reported according to the rules set by the RBI.\"</span>,\n",
       "        <span style=\"color: #008000; text-decoration-color: #008000\">'evaluation_score'</span>: <span style=\"color: #008080; text-decoration-color: #008080; font-weight: bold\">0</span>\n",
       "    <span style=\"font-weight: bold\">}</span>,\n",
       "    <span style=\"font-weight: bold\">{</span>\n",
       "        <span style=\"color: #008000; text-decoration-color: #008000\">'question'</span>: <span style=\"color: #008000; text-decoration-color: #008000\">\"What is the procedure for regulated entities to handle requests for delisting from the </span>\n",
       "<span style=\"color: #008000; text-decoration-color: #008000\">Security Council's ISIL (Da'esh) and Al-Qaida Sanctions List, and what alternative options are available for </span>\n",
       "<span style=\"color: #008000; text-decoration-color: #008000\">individuals or entities seeking removal from the list?\"</span>,\n",
       "        <span style=\"color: #008000; text-decoration-color: #008000\">'ground_truth_answer'</span>: <span style=\"color: #008000; text-decoration-color: #008000\">\"Regulated entities should forward any delisting requests they receive to the Joint </span>\n",
       "<span style=\"color: #008000; text-decoration-color: #008000\">Secretary (CTCR) at the Ministry of Home Affairs for consideration. Individuals or entities seeking removal from </span>\n",
       "<span style=\"color: #008000; text-decoration-color: #008000\">the Security Council's ISIL (Da'esh) and Al-Qaida Sanctions List can submit their request to an independent </span>\n",
       "<span style=\"color: #008000; text-decoration-color: #008000\">Ombudsperson appointed by the United Nations Secretary-General.\"</span>,\n",
       "        <span style=\"color: #008000; text-decoration-color: #008000\">'generated_answer'</span>: <span style=\"color: #008000; text-decoration-color: #008000\">\"To handle requests for delisting from the Security Council's ISIL (Da'esh) and </span>\n",
       "<span style=\"color: #008000; text-decoration-color: #008000\">Al-Qaida Sanctions List, regulated entities should follow these steps:\\n\\n1. **Review the Request**: The entity </span>\n",
       "<span style=\"color: #008000; text-decoration-color: #008000\">must review the request to ensure it complies with the rules set by the International Monetary Fund (IMF), the </span>\n",
       "<span style=\"color: #008000; text-decoration-color: #008000\">World Bank, and other international organizations.\\n\\n2. **Submit the Request**: Once the entity has reviewed the </span>\n",
       "<span style=\"color: #008000; text-decoration-color: #008000\">request, they should submit it to the appropriate regulatory body or authority within their jurisdiction.\\n\\n3. </span>\n",
       "<span style=\"color: #008000; text-decoration-color: #008000\">**Follow Up**: After submission, the entity should follow up with the regulatory body to confirm receipt and </span>\n",
       "<span style=\"color: #008000; text-decoration-color: #008000\">provide any necessary documentation or information.\\n\\nFor individuals or entities seeking removal from the list, </span>\n",
       "<span style=\"color: #008000; text-decoration-color: #008000\">there are several alternatives available:\\n\\n- **International Criminal Court (ICC)**: Individuals can file a </span>\n",
       "<span style=\"color: #008000; text-decoration-color: #008000\">complaint against individuals or entities involved in terrorist activities, including those linked to Da'esh and </span>\n",
       "<span style=\"color: #008000; text-decoration-color: #008000\">Al-Qaida, at the ICC. This process involves filing a complaint with the ICC and following its procedures.\\n\\n- </span>\n",
       "<span style=\"color: #008000; text-decoration-color: #008000\">**United Nations Security Council**: If an individual or entity is found guilty of terrorism-related offenses, they</span>\n",
       "<span style=\"color: #008000; text-decoration-color: #008000\">may be subject to sanctions under the UN Security Council. This includes being removed from the list of sanctioned </span>\n",
       "<span style=\"color: #008000; text-decoration-color: #008000\">entities.\\n\\n- **Alternative Sanctions**: In some cases, individuals or entities may face alternative sanctions </span>\n",
       "<span style=\"color: #008000; text-decoration-color: #008000\">such as economic penalties, travel bans, or restrictions on their ability to conduct business </span>\n",
       "<span style=\"color: #008000; text-decoration-color: #008000\">internationally.\\n\\nIt's important for regulated entities to understand the specific requirements and procedures </span>\n",
       "<span style=\"color: #008000; text-decoration-color: #008000\">for each type of sanction and to consult with legal counsel if needed.\"</span>,\n",
       "        <span style=\"color: #008000; text-decoration-color: #008000\">'evaluation_score'</span>: <span style=\"color: #008080; text-decoration-color: #008080; font-weight: bold\">0</span>\n",
       "    <span style=\"font-weight: bold\">}</span>,\n",
       "    <span style=\"font-weight: bold\">{</span>\n",
       "        <span style=\"color: #008000; text-decoration-color: #008000\">'question'</span>: <span style=\"color: #008000; text-decoration-color: #008000\">'How should Credit Information Companies provide individuals with access to their free annual </span>\n",
       "<span style=\"color: #008000; text-decoration-color: #008000\">credit report?'</span>,\n",
       "        <span style=\"color: #008000; text-decoration-color: #008000\">'ground_truth_answer'</span>: <span style=\"color: #008000; text-decoration-color: #008000\">\"Credit Information Companies must display a prominent link on their website's </span>\n",
       "<span style=\"color: #008000; text-decoration-color: #008000\">homepage, providing individuals easy access to their Free Full Credit Report, including their credit score, once </span>\n",
       "<span style=\"color: #008000; text-decoration-color: #008000\">per year between January and December.\"</span>,\n",
       "        <span style=\"color: #008000; text-decoration-color: #008000\">'generated_answer'</span>: <span style=\"color: #008000; text-decoration-color: #008000\">\"Credit Information Companies should provide individuals with access to their free </span>\n",
       "<span style=\"color: #008000; text-decoration-color: #008000\">annual credit report by following these steps:\\n\\n1. **Obtain Consent**: Obtain written consent from the individual</span>\n",
       "<span style=\"color: #008000; text-decoration-color: #008000\">before providing them with their credit report.\\n\\n2. **Provide Access**: Provide the individual with an </span>\n",
       "<span style=\"color: #008000; text-decoration-color: #008000\">opportunity to review their credit report within 30 days of receiving it.\\n\\n3. **Maintain Privacy**: Ensure that </span>\n",
       "<span style=\"color: #008000; text-decoration-color: #008000\">the data collected through the credit report is handled securely and protected according to privacy laws such as </span>\n",
       "<span style=\"color: #008000; text-decoration-color: #008000\">GDPR or CCPA.\\n\\n4. **Comply with Regulations**: Adhere to all applicable regulations regarding the collection, </span>\n",
       "<span style=\"color: #008000; text-decoration-color: #008000\">use, and disclosure of personal information, including the Fair Credit Reporting Act (FCRA).\\n\\n5. **Monitor </span>\n",
       "<span style=\"color: #008000; text-decoration-color: #008000\">Compliance**: Regularly monitor compliance with regulatory requirements and ensure ongoing training for employees </span>\n",
       "<span style=\"color: #008000; text-decoration-color: #008000\">to maintain standards.\\n\\n6. **Communicate Clearly**: Communicate clearly about how the company collects, uses, and</span>\n",
       "<span style=\"color: #008000; text-decoration-color: #008000\">discloses personal information to the individual.\\n\\n7. **Secure Data**: Implement measures to secure the data </span>\n",
       "<span style=\"color: #008000; text-decoration-color: #008000\">collected through the credit report to prevent unauthorized access or misuse.\\n\\n8. **Notify Individuals**: Notify </span>\n",
       "<span style=\"color: #008000; text-decoration-color: #008000\">individuals if there are concerns about the accuracy or completeness of the credit report.\\n\\n9. **Review and </span>\n",
       "<span style=\"color: #008000; text-decoration-color: #008000\">Update**: Review and update the credit report periodically to reflect changes in the individual's credit </span>\n",
       "<span style=\"color: #008000; text-decoration-color: #008000\">history.\\n\\n10. **Legal Advice**: Consult legal counsel to understand specific requirements and potential risks </span>\n",
       "<span style=\"color: #008000; text-decoration-color: #008000\">associated with collecting and using personal information.\"</span>,\n",
       "        <span style=\"color: #008000; text-decoration-color: #008000\">'evaluation_score'</span>: <span style=\"color: #008080; text-decoration-color: #008080; font-weight: bold\">0</span>\n",
       "    <span style=\"font-weight: bold\">}</span>,\n",
       "    <span style=\"font-weight: bold\">{</span>\n",
       "        <span style=\"color: #008000; text-decoration-color: #008000\">'question'</span>: <span style=\"color: #008000; text-decoration-color: #008000\">'How can card issuing banks enable Card-on-File (CoFT) token generation, and what are the key </span>\n",
       "<span style=\"color: #008000; text-decoration-color: #008000\">requirements for customer consent and token availability?'</span>,\n",
       "        <span style=\"color: #008000; text-decoration-color: #008000\">'ground_truth_answer'</span>: <span style=\"color: #008000; text-decoration-color: #008000\">\"Card issuing banks can enable the generation of Card-on-File (CoFT) tokens through </span>\n",
       "<span style=\"color: #008000; text-decoration-color: #008000\">mobile and internet banking channels, provided explicit customer consent is obtained and validated using Additional</span>\n",
       "<span style=\"color: #008000; text-decoration-color: #008000\">Factor Authentication (AFA). If a cardholder selects multiple merchants for tokenization, the AFA validation can be</span>\n",
       "<span style=\"color: #008000; text-decoration-color: #008000\">combined for all of them. The generated tokens should then be available on the merchant's payment page within the </span>\n",
       "<span style=\"color: #008000; text-decoration-color: #008000\">cardholder's account.\"</span>,\n",
       "        <span style=\"color: #008000; text-decoration-color: #008000\">'generated_answer'</span>: <span style=\"color: #008000; text-decoration-color: #008000\">'Card Issuing Banks can enable CoFT token generation through various methods such as </span>\n",
       "<span style=\"color: #008000; text-decoration-color: #008000\">API integration, mobile apps, or web-based interfaces. To ensure customer consent and token availability, banks </span>\n",
       "<span style=\"color: #008000; text-decoration-color: #008000\">must comply with regulatory requirements like the Payment Services Act 2018, which mandates that customers have </span>\n",
       "<span style=\"color: #008000; text-decoration-color: #008000\">explicit consent before using their bank cards.\\n\\nKey requirements for customer consent:\\n\\n1. **Consent from </span>\n",
       "<span style=\"color: #008000; text-decoration-color: #008000\">Customers**: Banks need to obtain explicit consent from customers who want to use their bank cards for </span>\n",
       "<span style=\"color: #008000; text-decoration-color: #008000\">transactions. This typically involves providing clear instructions about how to authorize transactions and </span>\n",
       "<span style=\"color: #008000; text-decoration-color: #008000\">obtaining verbal or written confirmation.\\n\\n2. **Privacy Policy**: Banks should clearly state their privacy policy</span>\n",
       "<span style=\"color: #008000; text-decoration-color: #008000\">regarding the collection, storage, and sharing of personal data associated with CoFT tokens. This includes details </span>\n",
       "<span style=\"color: #008000; text-decoration-color: #008000\">on how the data will be used, stored, and shared.\\n\\n3. **Data Security Measures**: Implement robust security </span>\n",
       "<span style=\"color: #008000; text-decoration-color: #008000\">measures to protect the sensitive data collected during the transaction process. This may involve encryption, </span>\n",
       "<span style=\"color: #008000; text-decoration-color: #008000\">secure authentication protocols, and regular audits to detect and mitigate potential breaches.\\n\\n4. </span>\n",
       "<span style=\"color: #008000; text-decoration-color: #008000\">**Transparency**: Provide transparency about the process and results of token generation and usage. This helps </span>\n",
       "<span style=\"color: #008000; text-decoration-color: #008000\">build trust with customers and ensures they understand how their bank cards are being utilized.\\n\\n5. </span>\n",
       "<span style=\"color: #008000; text-decoration-color: #008000\">**Documentation**: Maintain detailed records of all transactions involving CoFT tokens, including dates, amounts, </span>\n",
       "<span style=\"color: #008000; text-decoration-color: #008000\">and users involved. These documents serve as evidence of compliance and help in case of disputes.\\n\\nBy adhering to</span>\n",
       "<span style=\"color: #008000; text-decoration-color: #008000\">these guidelines, banks can effectively manage CoFT token generation while ensuring customer consent and token </span>\n",
       "<span style=\"color: #008000; text-decoration-color: #008000\">availability meet regulatory standards.'</span>,\n",
       "        <span style=\"color: #008000; text-decoration-color: #008000\">'evaluation_score'</span>: <span style=\"color: #008080; text-decoration-color: #008080; font-weight: bold\">0</span>\n",
       "    <span style=\"font-weight: bold\">}</span>,\n",
       "    <span style=\"font-weight: bold\">{</span>\n",
       "        <span style=\"color: #008000; text-decoration-color: #008000\">'question'</span>: <span style=\"color: #008000; text-decoration-color: #008000\">'What are the compliance requirements for Regulated Entities concerning the Unlawful Activities</span>\n",
       "<span style=\"color: #008000; text-decoration-color: #008000\">(Prevention) Act (UAPA) Order?'</span>,\n",
       "        <span style=\"color: #008000; text-decoration-color: #008000\">'ground_truth_answer'</span>: <span style=\"color: #008000; text-decoration-color: #008000\">'Regulated Entities must adhere to the procedures outlined in the UAPA Order </span>\n",
       "<span style=\"color: #008000; text-decoration-color: #008000\">regarding individuals or entities listed, ensuring strict and meticulous compliance with government-issued orders. </span>\n",
       "<span style=\"color: #008000; text-decoration-color: #008000\">They are also required to report details of accounts resembling listed individuals/entities to FIU-IND and advise </span>\n",
       "<span style=\"color: #008000; text-decoration-color: #008000\">the Ministry of Home Affairs as required under UAPA notification.'</span>,\n",
       "        <span style=\"color: #008000; text-decoration-color: #008000\">'generated_answer'</span>: <span style=\"color: #008000; text-decoration-color: #008000\">'Regulated entities under the UAPA Order must comply with various compliance </span>\n",
       "<span style=\"color: #008000; text-decoration-color: #008000\">requirements. These include:\\n\\n1. Compliance with the UAPA Order itself.\\n2. Compliance with the guidelines </span>\n",
       "<span style=\"color: #008000; text-decoration-color: #008000\">provided by the Central Government.\\n3. Compliance with the guidelines provided by the State Governments.\\n4. </span>\n",
       "<span style=\"color: #008000; text-decoration-color: #008000\">Compliance with the guidelines provided by the respective state governments.\\n\\nThe entity must ensure that it </span>\n",
       "<span style=\"color: #008000; text-decoration-color: #008000\">complies with all these guidelines to avoid penalties and maintain its regulatory status.'</span>,\n",
       "        <span style=\"color: #008000; text-decoration-color: #008000\">'evaluation_score'</span>: <span style=\"color: #008080; text-decoration-color: #008080; font-weight: bold\">0</span>\n",
       "    <span style=\"font-weight: bold\">}</span>,\n",
       "    <span style=\"font-weight: bold\">{</span>\n",
       "        <span style=\"color: #008000; text-decoration-color: #008000\">'question'</span>: <span style=\"color: #008000; text-decoration-color: #008000\">'Which bank is responsible for the lead bank responsibility in the Hojai district?'</span>,\n",
       "        <span style=\"color: #008000; text-decoration-color: #008000\">'ground_truth_answer'</span>: <span style=\"color: #008000; text-decoration-color: #008000\">'The State Bank of India has been assigned the lead bank responsibility for the </span>\n",
       "<span style=\"color: #008000; text-decoration-color: #008000\">Hojai district.'</span>,\n",
       "        <span style=\"color: #008000; text-decoration-color: #008000\">'generated_answer'</span>: <span style=\"color: #008000; text-decoration-color: #008000\">'The lead bank responsible for the Hojai district is the State Bank of India.'</span>,\n",
       "        <span style=\"color: #008000; text-decoration-color: #008000\">'evaluation_score'</span>: <span style=\"color: #008080; text-decoration-color: #008080; font-weight: bold\">1</span>\n",
       "    <span style=\"font-weight: bold\">}</span>,\n",
       "    <span style=\"font-weight: bold\">{</span>\n",
       "        <span style=\"color: #008000; text-decoration-color: #008000\">'question'</span>: <span style=\"color: #008000; text-decoration-color: #008000\">'What steps should banks take to simplify the activation of inoperative or frozen accounts?'</span>,\n",
       "        <span style=\"color: #008000; text-decoration-color: #008000\">'ground_truth_answer'</span>: <span style=\"color: #008000; text-decoration-color: #008000\">'Banks should enable KYC updates through mobile/internet banking, non-home branches,</span>\n",
       "<span style=\"color: #008000; text-decoration-color: #008000\">or Video Customer Identification Process (VCIP) to streamline account activation. They should also take an </span>\n",
       "<span style=\"color: #008000; text-decoration-color: #008000\">empathetic approach when activating accounts of beneficiaries of government schemes, and organize special campaigns</span>\n",
       "<span style=\"color: #008000; text-decoration-color: #008000\">for activation. Additionally, banks may facilitate Aadhaar updates for customers through branches providing </span>\n",
       "<span style=\"color: #008000; text-decoration-color: #008000\">Aadhaar-related services.'</span>,\n",
       "        <span style=\"color: #008000; text-decoration-color: #008000\">'generated_answer'</span>: <span style=\"color: #008000; text-decoration-color: #008000\">\"Banks should follow these steps to simplify the activation of inoperative or frozen </span>\n",
       "<span style=\"color: #008000; text-decoration-color: #008000\">accounts:\\n\\n1. **Review Account Status**: Banks should first review the status of each account to determine if it </span>\n",
       "<span style=\"color: #008000; text-decoration-color: #008000\">is still active or frozen.\\n\\n2. **Contact Customer Support**: If an account is frozen, contact customer support </span>\n",
       "<span style=\"color: #008000; text-decoration-color: #008000\">for assistance in activating it.\\n\\n3. **Provide Instructions**: Provide clear instructions on how to activate the </span>\n",
       "<span style=\"color: #008000; text-decoration-color: #008000\">account, including any necessary verification steps.\\n\\n4. **Follow Up**: Follow up with the customer after </span>\n",
       "<span style=\"color: #008000; text-decoration-color: #008000\">providing instructions to ensure they have completed the activation process correctly.\\n\\n5. **Monitor Activation </span>\n",
       "<span style=\"color: #008000; text-decoration-color: #008000\">Process**: Monitor the activation process closely to ensure that all required steps were completed </span>\n",
       "<span style=\"color: #008000; text-decoration-color: #008000\">successfully.\\n\\n6. **Notify Regulatory Bodies**: Inform regulatory bodies about the situation as soon as possible </span>\n",
       "<span style=\"color: #008000; text-decoration-color: #008000\">to avoid delays in processing the account.\\n\\n7. **Document Actions Taken**: Document all actions taken by the bank</span>\n",
       "<span style=\"color: #008000; text-decoration-color: #008000\">to ensure compliance with regulatory requirements.\\n\\n8. **Communicate with Customers**: Communicate with customers</span>\n",
       "<span style=\"color: #008000; text-decoration-color: #008000\">who may be affected by the freeze or inoperative status to address their concerns promptly.\\n\\nBy following these </span>\n",
       "<span style=\"color: #008000; text-decoration-color: #008000\">steps, banks can help streamline the activation process and minimize disruptions to customers' financial </span>\n",
       "<span style=\"color: #008000; text-decoration-color: #008000\">transactions.\"</span>,\n",
       "        <span style=\"color: #008000; text-decoration-color: #008000\">'evaluation_score'</span>: <span style=\"color: #008080; text-decoration-color: #008080; font-weight: bold\">0</span>\n",
       "    <span style=\"font-weight: bold\">}</span>,\n",
       "    <span style=\"font-weight: bold\">{</span>\n",
       "        <span style=\"color: #008000; text-decoration-color: #008000\">'question'</span>: <span style=\"color: #008000; text-decoration-color: #008000\">\"What is the purpose of the Reserve Bank of India's Master Direction on Financial Statements - </span>\n",
       "<span style=\"color: #008000; text-decoration-color: #008000\">Presentation and Disclosures?\"</span>,\n",
       "        <span style=\"color: #008000; text-decoration-color: #008000\">'ground_truth_answer'</span>: <span style=\"color: #008000; text-decoration-color: #008000\">'The Master Direction harmonizes regulatory instructions regarding presentation and </span>\n",
       "<span style=\"color: #008000; text-decoration-color: #008000\">disclosure in financial statements across the banking sector.'</span>,\n",
       "        <span style=\"color: #008000; text-decoration-color: #008000\">'generated_answer'</span>: <span style=\"color: #008000; text-decoration-color: #008000\">\"The Reserve Bank of India's Master Direction on Financial Statements - Presentation </span>\n",
       "<span style=\"color: #008000; text-decoration-color: #008000\">and Disclosures aims to ensure that financial statements are prepared in accordance with the principles of </span>\n",
       "<span style=\"color: #008000; text-decoration-color: #008000\">prudence, substance, and accuracy. It also seeks to provide guidance on how financial statements should be </span>\n",
       "<span style=\"color: #008000; text-decoration-color: #008000\">presented and disclosed to enhance transparency and accountability in the financial reporting process.\"</span>,\n",
       "        <span style=\"color: #008000; text-decoration-color: #008000\">'evaluation_score'</span>: <span style=\"color: #008080; text-decoration-color: #008080; font-weight: bold\">1</span>\n",
       "    <span style=\"font-weight: bold\">}</span>,\n",
       "    <span style=\"font-weight: bold\">{</span>\n",
       "        <span style=\"color: #008000; text-decoration-color: #008000\">'question'</span>: <span style=\"color: #008000; text-decoration-color: #008000\">'What is the Reserve Bank of India\\'s advice to participants in the Government Securities </span>\n",
       "<span style=\"color: #008000; text-decoration-color: #008000\">market regarding the use of the \"Price / Yield range setting\" facility on the e-Kuber platform, and what is the </span>\n",
       "<span style=\"color: #008000; text-decoration-color: #008000\">policy on bid cancellations?'</span>,\n",
       "        <span style=\"color: #008000; text-decoration-color: #008000\">'ground_truth_answer'</span>: <span style=\"color: #008000; text-decoration-color: #008000\">'The Reserve Bank of India advises all participants in the Government Securities </span>\n",
       "<span style=\"color: #008000; text-decoration-color: #008000\">market to utilize the \"Price / Yield range setting\" facility available on the e-Kuber platform before submitting </span>\n",
       "<span style=\"color: #008000; text-decoration-color: #008000\">bids in Primary Market auctions. This is to prevent fat-finger errors. The policy is that no bid cancellation </span>\n",
       "<span style=\"color: #008000; text-decoration-color: #008000\">requests will be accepted after the auction window closes.'</span>,\n",
       "        <span style=\"color: #008000; text-decoration-color: #008000\">'generated_answer'</span>: <span style=\"color: #008000; text-decoration-color: #008000\">'The Reserve Bank of India advises participants in the Government Securities market to </span>\n",
       "<span style=\"color: #008000; text-decoration-color: #008000\">use the \"Price / Yield range setting\" facility on the e-Kuber platform for their securities. The policy on bid </span>\n",
       "<span style=\"color: #008000; text-decoration-color: #008000\">cancellations states that if a bid is cancelled before it has been executed, the cancellation fee will be </span>\n",
       "<span style=\"color: #008000; text-decoration-color: #008000\">refunded.'</span>,\n",
       "        <span style=\"color: #008000; text-decoration-color: #008000\">'evaluation_score'</span>: <span style=\"color: #008080; text-decoration-color: #008080; font-weight: bold\">0</span>\n",
       "    <span style=\"font-weight: bold\">}</span>\n",
       "<span style=\"font-weight: bold\">]</span>\n",
       "</pre>\n"
      ],
      "text/plain": [
       "\u001b[1m[\u001b[0m\n",
       "    \u001b[1m{\u001b[0m\n",
       "        \u001b[32m'question'\u001b[0m: \u001b[32m'What is the general role of the Banking Regulation Act of 1949 in the context of banking \u001b[0m\n",
       "\u001b[32mcompanies in India?'\u001b[0m,\n",
       "        \u001b[32m'ground_truth_answer'\u001b[0m: \u001b[32m'The Banking Regulation Act of 1949 governs the functioning of banking companies in \u001b[0m\n",
       "\u001b[32mIndia, setting standards for their operations, management, and financial stability.'\u001b[0m,\n",
       "        \u001b[32m'generated_answer'\u001b[0m: \u001b[32m'The Banking Regulation Act of 1949 was primarily designed to regulate the banking \u001b[0m\n",
       "\u001b[32mindustry in India. It aimed to ensure fair competition among banks, protect consumers, and maintain public trust in\u001b[0m\n",
       "\u001b[32mthe banking system. The act established various regulatory bodies such as the Reserve Bank of India \u001b[0m\u001b[32m(\u001b[0m\u001b[32mRBI\u001b[0m\u001b[32m)\u001b[0m\u001b[32m, which \u001b[0m\n",
       "\u001b[32moversaw the implementation of the act, and the Central Bank of India \u001b[0m\u001b[32m(\u001b[0m\u001b[32mCBI\u001b[0m\u001b[32m)\u001b[0m\u001b[32m, which provided guidance and oversight. \u001b[0m\n",
       "\u001b[32mThis act also introduced several new rules and guidelines for bank operations, including minimum capital \u001b[0m\n",
       "\u001b[32mrequirements, lending limits, and deposit insurance.'\u001b[0m,\n",
       "        \u001b[32m'evaluation_score'\u001b[0m: \u001b[1;36m0\u001b[0m\n",
       "    \u001b[1m}\u001b[0m,\n",
       "    \u001b[1m{\u001b[0m\n",
       "        \u001b[32m'question'\u001b[0m: \u001b[32m'How should Nodal/Focal Point branches report April 2023 transactions, and how should they \u001b[0m\n",
       "\u001b[32mdifferentiate them from March Residual Transactions in their reporting?'\u001b[0m,\n",
       "        \u001b[32m'ground_truth_answer'\u001b[0m: \u001b[32m'Nodal/Focal Point branches must submit a monthly statement for April transactions \u001b[0m\n",
       "\u001b[32mto Zonal Accounts Officers/Pay and Accounts Officers in the usual format. To differentiate between April \u001b[0m\n",
       "\u001b[32mtransactions \u001b[0m\u001b[32m(\u001b[0m\u001b[32mfinancial year 2023-24\u001b[0m\u001b[32m)\u001b[0m\u001b[32m and March Residual Transactions, the statement pertaining to March Residual \u001b[0m\n",
       "\u001b[32mTransactions should be clearly marked as \"March Residual Account\".'\u001b[0m,\n",
       "        \u001b[32m'generated_answer'\u001b[0m: \u001b[32m\"To report Nodal/Focal Point branches for April 2023 transactions, you should:\\n\\n1. \u001b[0m\n",
       "\u001b[32mIdentify all transactions that occurred during April 2023.\\n2. Determine which of these transactions were part of \u001b[0m\n",
       "\u001b[32mthe Nodal/Focal Point branch's operations.\\n3. Report these transactions as if they were March residual \u001b[0m\n",
       "\u001b[32mtransactions.\\n\\nFor example:\\n- If a transaction was made on April 15th, it would be reported as an April 2023 \u001b[0m\n",
       "\u001b[32mtransaction.\\n- If a transaction was made on April 20th, it would be considered a March residual transaction \u001b[0m\n",
       "\u001b[32mbecause it did not occur during April 2023.\\n\\nThis approach ensures that both types of transactions are accurately\u001b[0m\n",
       "\u001b[32mcategorized and reported according to the rules set by the RBI.\"\u001b[0m,\n",
       "        \u001b[32m'evaluation_score'\u001b[0m: \u001b[1;36m0\u001b[0m\n",
       "    \u001b[1m}\u001b[0m,\n",
       "    \u001b[1m{\u001b[0m\n",
       "        \u001b[32m'question'\u001b[0m: \u001b[32m\"What is the procedure for regulated entities to handle requests for delisting from the \u001b[0m\n",
       "\u001b[32mSecurity Council's ISIL \u001b[0m\u001b[32m(\u001b[0m\u001b[32mDa'esh\u001b[0m\u001b[32m)\u001b[0m\u001b[32m and Al-Qaida Sanctions List, and what alternative options are available for \u001b[0m\n",
       "\u001b[32mindividuals or entities seeking removal from the list?\"\u001b[0m,\n",
       "        \u001b[32m'ground_truth_answer'\u001b[0m: \u001b[32m\"Regulated entities should forward any delisting requests they receive to the Joint \u001b[0m\n",
       "\u001b[32mSecretary \u001b[0m\u001b[32m(\u001b[0m\u001b[32mCTCR\u001b[0m\u001b[32m)\u001b[0m\u001b[32m at the Ministry of Home Affairs for consideration. Individuals or entities seeking removal from \u001b[0m\n",
       "\u001b[32mthe Security Council's ISIL \u001b[0m\u001b[32m(\u001b[0m\u001b[32mDa'esh\u001b[0m\u001b[32m)\u001b[0m\u001b[32m and Al-Qaida Sanctions List can submit their request to an independent \u001b[0m\n",
       "\u001b[32mOmbudsperson appointed by the United Nations Secretary-General.\"\u001b[0m,\n",
       "        \u001b[32m'generated_answer'\u001b[0m: \u001b[32m\"To handle requests for delisting from the Security Council's ISIL \u001b[0m\u001b[32m(\u001b[0m\u001b[32mDa'esh\u001b[0m\u001b[32m)\u001b[0m\u001b[32m and \u001b[0m\n",
       "\u001b[32mAl-Qaida Sanctions List, regulated entities should follow these steps:\\n\\n1. **Review the Request**: The entity \u001b[0m\n",
       "\u001b[32mmust review the request to ensure it complies with the rules set by the International Monetary Fund \u001b[0m\u001b[32m(\u001b[0m\u001b[32mIMF\u001b[0m\u001b[32m)\u001b[0m\u001b[32m, the \u001b[0m\n",
       "\u001b[32mWorld Bank, and other international organizations.\\n\\n2. **Submit the Request**: Once the entity has reviewed the \u001b[0m\n",
       "\u001b[32mrequest, they should submit it to the appropriate regulatory body or authority within their jurisdiction.\\n\\n3. \u001b[0m\n",
       "\u001b[32m**Follow Up**: After submission, the entity should follow up with the regulatory body to confirm receipt and \u001b[0m\n",
       "\u001b[32mprovide any necessary documentation or information.\\n\\nFor individuals or entities seeking removal from the list, \u001b[0m\n",
       "\u001b[32mthere are several alternatives available:\\n\\n- **International Criminal Court \u001b[0m\u001b[32m(\u001b[0m\u001b[32mICC\u001b[0m\u001b[32m)\u001b[0m\u001b[32m**: Individuals can file a \u001b[0m\n",
       "\u001b[32mcomplaint against individuals or entities involved in terrorist activities, including those linked to Da'esh and \u001b[0m\n",
       "\u001b[32mAl-Qaida, at the ICC. This process involves filing a complaint with the ICC and following its procedures.\\n\\n- \u001b[0m\n",
       "\u001b[32m**United Nations Security Council**: If an individual or entity is found guilty of terrorism-related offenses, they\u001b[0m\n",
       "\u001b[32mmay be subject to sanctions under the UN Security Council. This includes being removed from the list of sanctioned \u001b[0m\n",
       "\u001b[32mentities.\\n\\n- **Alternative Sanctions**: In some cases, individuals or entities may face alternative sanctions \u001b[0m\n",
       "\u001b[32msuch as economic penalties, travel bans, or restrictions on their ability to conduct business \u001b[0m\n",
       "\u001b[32minternationally.\\n\\nIt's important for regulated entities to understand the specific requirements and procedures \u001b[0m\n",
       "\u001b[32mfor each type of sanction and to consult with legal counsel if needed.\"\u001b[0m,\n",
       "        \u001b[32m'evaluation_score'\u001b[0m: \u001b[1;36m0\u001b[0m\n",
       "    \u001b[1m}\u001b[0m,\n",
       "    \u001b[1m{\u001b[0m\n",
       "        \u001b[32m'question'\u001b[0m: \u001b[32m'How should Credit Information Companies provide individuals with access to their free annual \u001b[0m\n",
       "\u001b[32mcredit report?'\u001b[0m,\n",
       "        \u001b[32m'ground_truth_answer'\u001b[0m: \u001b[32m\"Credit Information Companies must display a prominent link on their website's \u001b[0m\n",
       "\u001b[32mhomepage, providing individuals easy access to their Free Full Credit Report, including their credit score, once \u001b[0m\n",
       "\u001b[32mper year between January and December.\"\u001b[0m,\n",
       "        \u001b[32m'generated_answer'\u001b[0m: \u001b[32m\"Credit Information Companies should provide individuals with access to their free \u001b[0m\n",
       "\u001b[32mannual credit report by following these steps:\\n\\n1. **Obtain Consent**: Obtain written consent from the individual\u001b[0m\n",
       "\u001b[32mbefore providing them with their credit report.\\n\\n2. **Provide Access**: Provide the individual with an \u001b[0m\n",
       "\u001b[32mopportunity to review their credit report within 30 days of receiving it.\\n\\n3. **Maintain Privacy**: Ensure that \u001b[0m\n",
       "\u001b[32mthe data collected through the credit report is handled securely and protected according to privacy laws such as \u001b[0m\n",
       "\u001b[32mGDPR or CCPA.\\n\\n4. **Comply with Regulations**: Adhere to all applicable regulations regarding the collection, \u001b[0m\n",
       "\u001b[32muse, and disclosure of personal information, including the Fair Credit Reporting Act \u001b[0m\u001b[32m(\u001b[0m\u001b[32mFCRA\u001b[0m\u001b[32m)\u001b[0m\u001b[32m.\\n\\n5. **Monitor \u001b[0m\n",
       "\u001b[32mCompliance**: Regularly monitor compliance with regulatory requirements and ensure ongoing training for employees \u001b[0m\n",
       "\u001b[32mto maintain standards.\\n\\n6. **Communicate Clearly**: Communicate clearly about how the company collects, uses, and\u001b[0m\n",
       "\u001b[32mdiscloses personal information to the individual.\\n\\n7. **Secure Data**: Implement measures to secure the data \u001b[0m\n",
       "\u001b[32mcollected through the credit report to prevent unauthorized access or misuse.\\n\\n8. **Notify Individuals**: Notify \u001b[0m\n",
       "\u001b[32mindividuals if there are concerns about the accuracy or completeness of the credit report.\\n\\n9. **Review and \u001b[0m\n",
       "\u001b[32mUpdate**: Review and update the credit report periodically to reflect changes in the individual's credit \u001b[0m\n",
       "\u001b[32mhistory.\\n\\n10. **Legal Advice**: Consult legal counsel to understand specific requirements and potential risks \u001b[0m\n",
       "\u001b[32massociated with collecting and using personal information.\"\u001b[0m,\n",
       "        \u001b[32m'evaluation_score'\u001b[0m: \u001b[1;36m0\u001b[0m\n",
       "    \u001b[1m}\u001b[0m,\n",
       "    \u001b[1m{\u001b[0m\n",
       "        \u001b[32m'question'\u001b[0m: \u001b[32m'How can card issuing banks enable Card-on-File \u001b[0m\u001b[32m(\u001b[0m\u001b[32mCoFT\u001b[0m\u001b[32m)\u001b[0m\u001b[32m token generation, and what are the key \u001b[0m\n",
       "\u001b[32mrequirements for customer consent and token availability?'\u001b[0m,\n",
       "        \u001b[32m'ground_truth_answer'\u001b[0m: \u001b[32m\"Card issuing banks can enable the generation of Card-on-File \u001b[0m\u001b[32m(\u001b[0m\u001b[32mCoFT\u001b[0m\u001b[32m)\u001b[0m\u001b[32m tokens through \u001b[0m\n",
       "\u001b[32mmobile and internet banking channels, provided explicit customer consent is obtained and validated using Additional\u001b[0m\n",
       "\u001b[32mFactor Authentication \u001b[0m\u001b[32m(\u001b[0m\u001b[32mAFA\u001b[0m\u001b[32m)\u001b[0m\u001b[32m. If a cardholder selects multiple merchants for tokenization, the AFA validation can be\u001b[0m\n",
       "\u001b[32mcombined for all of them. The generated tokens should then be available on the merchant's payment page within the \u001b[0m\n",
       "\u001b[32mcardholder's account.\"\u001b[0m,\n",
       "        \u001b[32m'generated_answer'\u001b[0m: \u001b[32m'Card Issuing Banks can enable CoFT token generation through various methods such as \u001b[0m\n",
       "\u001b[32mAPI integration, mobile apps, or web-based interfaces. To ensure customer consent and token availability, banks \u001b[0m\n",
       "\u001b[32mmust comply with regulatory requirements like the Payment Services Act 2018, which mandates that customers have \u001b[0m\n",
       "\u001b[32mexplicit consent before using their bank cards.\\n\\nKey requirements for customer consent:\\n\\n1. **Consent from \u001b[0m\n",
       "\u001b[32mCustomers**: Banks need to obtain explicit consent from customers who want to use their bank cards for \u001b[0m\n",
       "\u001b[32mtransactions. This typically involves providing clear instructions about how to authorize transactions and \u001b[0m\n",
       "\u001b[32mobtaining verbal or written confirmation.\\n\\n2. **Privacy Policy**: Banks should clearly state their privacy policy\u001b[0m\n",
       "\u001b[32mregarding the collection, storage, and sharing of personal data associated with CoFT tokens. This includes details \u001b[0m\n",
       "\u001b[32mon how the data will be used, stored, and shared.\\n\\n3. **Data Security Measures**: Implement robust security \u001b[0m\n",
       "\u001b[32mmeasures to protect the sensitive data collected during the transaction process. This may involve encryption, \u001b[0m\n",
       "\u001b[32msecure authentication protocols, and regular audits to detect and mitigate potential breaches.\\n\\n4. \u001b[0m\n",
       "\u001b[32m**Transparency**: Provide transparency about the process and results of token generation and usage. This helps \u001b[0m\n",
       "\u001b[32mbuild trust with customers and ensures they understand how their bank cards are being utilized.\\n\\n5. \u001b[0m\n",
       "\u001b[32m**Documentation**: Maintain detailed records of all transactions involving CoFT tokens, including dates, amounts, \u001b[0m\n",
       "\u001b[32mand users involved. These documents serve as evidence of compliance and help in case of disputes.\\n\\nBy adhering to\u001b[0m\n",
       "\u001b[32mthese guidelines, banks can effectively manage CoFT token generation while ensuring customer consent and token \u001b[0m\n",
       "\u001b[32mavailability meet regulatory standards.'\u001b[0m,\n",
       "        \u001b[32m'evaluation_score'\u001b[0m: \u001b[1;36m0\u001b[0m\n",
       "    \u001b[1m}\u001b[0m,\n",
       "    \u001b[1m{\u001b[0m\n",
       "        \u001b[32m'question'\u001b[0m: \u001b[32m'What are the compliance requirements for Regulated Entities concerning the Unlawful Activities\u001b[0m\n",
       "\u001b[32m(\u001b[0m\u001b[32mPrevention\u001b[0m\u001b[32m)\u001b[0m\u001b[32m Act \u001b[0m\u001b[32m(\u001b[0m\u001b[32mUAPA\u001b[0m\u001b[32m)\u001b[0m\u001b[32m Order?'\u001b[0m,\n",
       "        \u001b[32m'ground_truth_answer'\u001b[0m: \u001b[32m'Regulated Entities must adhere to the procedures outlined in the UAPA Order \u001b[0m\n",
       "\u001b[32mregarding individuals or entities listed, ensuring strict and meticulous compliance with government-issued orders. \u001b[0m\n",
       "\u001b[32mThey are also required to report details of accounts resembling listed individuals/entities to FIU-IND and advise \u001b[0m\n",
       "\u001b[32mthe Ministry of Home Affairs as required under UAPA notification.'\u001b[0m,\n",
       "        \u001b[32m'generated_answer'\u001b[0m: \u001b[32m'Regulated entities under the UAPA Order must comply with various compliance \u001b[0m\n",
       "\u001b[32mrequirements. These include:\\n\\n1. Compliance with the UAPA Order itself.\\n2. Compliance with the guidelines \u001b[0m\n",
       "\u001b[32mprovided by the Central Government.\\n3. Compliance with the guidelines provided by the State Governments.\\n4. \u001b[0m\n",
       "\u001b[32mCompliance with the guidelines provided by the respective state governments.\\n\\nThe entity must ensure that it \u001b[0m\n",
       "\u001b[32mcomplies with all these guidelines to avoid penalties and maintain its regulatory status.'\u001b[0m,\n",
       "        \u001b[32m'evaluation_score'\u001b[0m: \u001b[1;36m0\u001b[0m\n",
       "    \u001b[1m}\u001b[0m,\n",
       "    \u001b[1m{\u001b[0m\n",
       "        \u001b[32m'question'\u001b[0m: \u001b[32m'Which bank is responsible for the lead bank responsibility in the Hojai district?'\u001b[0m,\n",
       "        \u001b[32m'ground_truth_answer'\u001b[0m: \u001b[32m'The State Bank of India has been assigned the lead bank responsibility for the \u001b[0m\n",
       "\u001b[32mHojai district.'\u001b[0m,\n",
       "        \u001b[32m'generated_answer'\u001b[0m: \u001b[32m'The lead bank responsible for the Hojai district is the State Bank of India.'\u001b[0m,\n",
       "        \u001b[32m'evaluation_score'\u001b[0m: \u001b[1;36m1\u001b[0m\n",
       "    \u001b[1m}\u001b[0m,\n",
       "    \u001b[1m{\u001b[0m\n",
       "        \u001b[32m'question'\u001b[0m: \u001b[32m'What steps should banks take to simplify the activation of inoperative or frozen accounts?'\u001b[0m,\n",
       "        \u001b[32m'ground_truth_answer'\u001b[0m: \u001b[32m'Banks should enable KYC updates through mobile/internet banking, non-home branches,\u001b[0m\n",
       "\u001b[32mor Video Customer Identification Process \u001b[0m\u001b[32m(\u001b[0m\u001b[32mVCIP\u001b[0m\u001b[32m)\u001b[0m\u001b[32m to streamline account activation. They should also take an \u001b[0m\n",
       "\u001b[32mempathetic approach when activating accounts of beneficiaries of government schemes, and organize special campaigns\u001b[0m\n",
       "\u001b[32mfor activation. Additionally, banks may facilitate Aadhaar updates for customers through branches providing \u001b[0m\n",
       "\u001b[32mAadhaar-related services.'\u001b[0m,\n",
       "        \u001b[32m'generated_answer'\u001b[0m: \u001b[32m\"Banks should follow these steps to simplify the activation of inoperative or frozen \u001b[0m\n",
       "\u001b[32maccounts:\\n\\n1. **Review Account Status**: Banks should first review the status of each account to determine if it \u001b[0m\n",
       "\u001b[32mis still active or frozen.\\n\\n2. **Contact Customer Support**: If an account is frozen, contact customer support \u001b[0m\n",
       "\u001b[32mfor assistance in activating it.\\n\\n3. **Provide Instructions**: Provide clear instructions on how to activate the \u001b[0m\n",
       "\u001b[32maccount, including any necessary verification steps.\\n\\n4. **Follow Up**: Follow up with the customer after \u001b[0m\n",
       "\u001b[32mproviding instructions to ensure they have completed the activation process correctly.\\n\\n5. **Monitor Activation \u001b[0m\n",
       "\u001b[32mProcess**: Monitor the activation process closely to ensure that all required steps were completed \u001b[0m\n",
       "\u001b[32msuccessfully.\\n\\n6. **Notify Regulatory Bodies**: Inform regulatory bodies about the situation as soon as possible \u001b[0m\n",
       "\u001b[32mto avoid delays in processing the account.\\n\\n7. **Document Actions Taken**: Document all actions taken by the bank\u001b[0m\n",
       "\u001b[32mto ensure compliance with regulatory requirements.\\n\\n8. **Communicate with Customers**: Communicate with customers\u001b[0m\n",
       "\u001b[32mwho may be affected by the freeze or inoperative status to address their concerns promptly.\\n\\nBy following these \u001b[0m\n",
       "\u001b[32msteps, banks can help streamline the activation process and minimize disruptions to customers' financial \u001b[0m\n",
       "\u001b[32mtransactions.\"\u001b[0m,\n",
       "        \u001b[32m'evaluation_score'\u001b[0m: \u001b[1;36m0\u001b[0m\n",
       "    \u001b[1m}\u001b[0m,\n",
       "    \u001b[1m{\u001b[0m\n",
       "        \u001b[32m'question'\u001b[0m: \u001b[32m\"What is the purpose of the Reserve Bank of India's Master Direction on Financial Statements - \u001b[0m\n",
       "\u001b[32mPresentation and Disclosures?\"\u001b[0m,\n",
       "        \u001b[32m'ground_truth_answer'\u001b[0m: \u001b[32m'The Master Direction harmonizes regulatory instructions regarding presentation and \u001b[0m\n",
       "\u001b[32mdisclosure in financial statements across the banking sector.'\u001b[0m,\n",
       "        \u001b[32m'generated_answer'\u001b[0m: \u001b[32m\"The Reserve Bank of India's Master Direction on Financial Statements - Presentation \u001b[0m\n",
       "\u001b[32mand Disclosures aims to ensure that financial statements are prepared in accordance with the principles of \u001b[0m\n",
       "\u001b[32mprudence, substance, and accuracy. It also seeks to provide guidance on how financial statements should be \u001b[0m\n",
       "\u001b[32mpresented and disclosed to enhance transparency and accountability in the financial reporting process.\"\u001b[0m,\n",
       "        \u001b[32m'evaluation_score'\u001b[0m: \u001b[1;36m1\u001b[0m\n",
       "    \u001b[1m}\u001b[0m,\n",
       "    \u001b[1m{\u001b[0m\n",
       "        \u001b[32m'question'\u001b[0m: \u001b[32m'What is the Reserve Bank of India\\'s advice to participants in the Government Securities \u001b[0m\n",
       "\u001b[32mmarket regarding the use of the \"Price / Yield range setting\" facility on the e-Kuber platform, and what is the \u001b[0m\n",
       "\u001b[32mpolicy on bid cancellations?'\u001b[0m,\n",
       "        \u001b[32m'ground_truth_answer'\u001b[0m: \u001b[32m'The Reserve Bank of India advises all participants in the Government Securities \u001b[0m\n",
       "\u001b[32mmarket to utilize the \"Price / Yield range setting\" facility available on the e-Kuber platform before submitting \u001b[0m\n",
       "\u001b[32mbids in Primary Market auctions. This is to prevent fat-finger errors. The policy is that no bid cancellation \u001b[0m\n",
       "\u001b[32mrequests will be accepted after the auction window closes.'\u001b[0m,\n",
       "        \u001b[32m'generated_answer'\u001b[0m: \u001b[32m'The Reserve Bank of India advises participants in the Government Securities market to \u001b[0m\n",
       "\u001b[32muse the \"Price / Yield range setting\" facility on the e-Kuber platform for their securities. The policy on bid \u001b[0m\n",
       "\u001b[32mcancellations states that if a bid is cancelled before it has been executed, the cancellation fee will be \u001b[0m\n",
       "\u001b[32mrefunded.'\u001b[0m,\n",
       "        \u001b[32m'evaluation_score'\u001b[0m: \u001b[1;36m0\u001b[0m\n",
       "    \u001b[1m}\u001b[0m\n",
       "\u001b[1m]\u001b[0m\n"
      ]
     },
     "metadata": {},
     "output_type": "display_data"
    }
   ],
   "source": [
    "print(evaluation_results[:10])"
   ]
  },
  {
   "cell_type": "code",
   "execution_count": 27,
   "id": "d6d789d5",
   "metadata": {},
   "outputs": [
    {
     "data": {
      "text/html": [
       "<pre style=\"white-space:pre;overflow-x:auto;line-height:normal;font-family:Menlo,'DejaVu Sans Mono',consolas,'Courier New',monospace\">\n",
       "--- Evaluation Summary ---\n",
       "</pre>\n"
      ],
      "text/plain": [
       "\n",
       "--- Evaluation Summary ---\n"
      ]
     },
     "metadata": {},
     "output_type": "display_data"
    },
    {
     "data": {
      "text/html": [
       "<pre style=\"white-space:pre;overflow-x:auto;line-height:normal;font-family:Menlo,'DejaVu Sans Mono',consolas,'Courier New',monospace\">Total Evaluations Attempted: <span style=\"color: #008080; text-decoration-color: #008080; font-weight: bold\">10</span>\n",
       "</pre>\n"
      ],
      "text/plain": [
       "Total Evaluations Attempted: \u001b[1;36m10\u001b[0m\n"
      ]
     },
     "metadata": {},
     "output_type": "display_data"
    },
    {
     "data": {
      "text/html": [
       "<pre style=\"white-space:pre;overflow-x:auto;line-height:normal;font-family:Menlo,'DejaVu Sans Mono',consolas,'Courier New',monospace\">Evaluations Failed Due to Error: <span style=\"color: #008080; text-decoration-color: #008080; font-weight: bold\">0</span>\n",
       "</pre>\n"
      ],
      "text/plain": [
       "Evaluations Failed Due to Error: \u001b[1;36m0\u001b[0m\n"
      ]
     },
     "metadata": {},
     "output_type": "display_data"
    },
    {
     "data": {
      "text/html": [
       "<pre style=\"white-space:pre;overflow-x:auto;line-height:normal;font-family:Menlo,'DejaVu Sans Mono',consolas,'Courier New',monospace\">Total Answers Passed Criteria <span style=\"font-weight: bold\">(</span>Score <span style=\"color: #008080; text-decoration-color: #008080; font-weight: bold\">1</span><span style=\"font-weight: bold\">)</span>: <span style=\"color: #008080; text-decoration-color: #008080; font-weight: bold\">2</span>\n",
       "</pre>\n"
      ],
      "text/plain": [
       "Total Answers Passed Criteria \u001b[1m(\u001b[0mScore \u001b[1;36m1\u001b[0m\u001b[1m)\u001b[0m: \u001b[1;36m2\u001b[0m\n"
      ]
     },
     "metadata": {},
     "output_type": "display_data"
    },
    {
     "data": {
      "text/html": [
       "<pre style=\"white-space:pre;overflow-x:auto;line-height:normal;font-family:Menlo,'DejaVu Sans Mono',consolas,'Courier New',monospace\">Percentage of Successfully Evaluated Answers Passing Criteria: <span style=\"color: #008080; text-decoration-color: #008080; font-weight: bold\">20.00</span>%\n",
       "</pre>\n"
      ],
      "text/plain": [
       "Percentage of Successfully Evaluated Answers Passing Criteria: \u001b[1;36m20.00\u001b[0m%\n"
      ]
     },
     "metadata": {},
     "output_type": "display_data"
    },
    {
     "data": {
      "text/html": [
       "<pre style=\"white-space:pre;overflow-x:auto;line-height:normal;font-family:Menlo,'DejaVu Sans Mono',consolas,'Courier New',monospace\">Overall Summary: Out of <span style=\"color: #008080; text-decoration-color: #008080; font-weight: bold\">10</span> attempted evaluations, <span style=\"color: #008080; text-decoration-color: #008080; font-weight: bold\">10</span> were successfully processed by Gemini. <span style=\"color: #008080; text-decoration-color: #008080; font-weight: bold\">0</span> evaluations \n",
       "encountered an error. Among the successfully evaluated answers, <span style=\"color: #008080; text-decoration-color: #008080; font-weight: bold\">2</span> met all criteria, resulting in a <span style=\"color: #008080; text-decoration-color: #008080; font-weight: bold\">20.00</span>% pass \n",
       "rate.\n",
       "</pre>\n"
      ],
      "text/plain": [
       "Overall Summary: Out of \u001b[1;36m10\u001b[0m attempted evaluations, \u001b[1;36m10\u001b[0m were successfully processed by Gemini. \u001b[1;36m0\u001b[0m evaluations \n",
       "encountered an error. Among the successfully evaluated answers, \u001b[1;36m2\u001b[0m met all criteria, resulting in a \u001b[1;36m20.00\u001b[0m% pass \n",
       "rate.\n"
      ]
     },
     "metadata": {},
     "output_type": "display_data"
    }
   ],
   "source": [
    "\n",
    "print(\"\\n--- Evaluation Summary ---\")\n",
    "summary_stats = evaluation_summary\n",
    "print(f\"Total Evaluations Attempted: {summary_stats['total_evaluations_attempted']}\")\n",
    "print(f\"Evaluations Failed Due to Error: {summary_stats['failed_evaluations_due_to_error']}\")\n",
    "print(f\"Total Answers Passed Criteria (Score 1): {summary_stats['total_passed_criteria']}\")\n",
    "print(f\"Percentage of Successfully Evaluated Answers Passing Criteria: {summary_stats['percentage_passed_criteria']:.2f}%\")\n",
    "print(f\"Overall Summary: {summary_stats['overall_evaluation_summary']}\")"
   ]
  },
  {
   "cell_type": "code",
   "execution_count": 28,
   "id": "370975e5",
   "metadata": {},
   "outputs": [],
   "source": [
    "import os\n",
    "import json\n",
    "def save_evaluation_to_json(evaluation_results: list[dict], evaluation_summary: dict, output_dir: str, filename: str = \"gemini_evaluation_report.json\"):\n",
    "    \"\"\"\n",
    "    Saves evaluation results and summary to a JSON file in the specified directory.\n",
    "\n",
    "    Args:\n",
    "        evaluation_results (list[dict]): A list of dictionaries, where each dictionary\n",
    "                                         represents the evaluation of a single question-answer pair.\n",
    "        evaluation_summary (dict): A dictionary containing the overall summary of the evaluation.\n",
    "        output_dir (str): The directory where the JSON file should be saved.\n",
    "                          This directory will be created if it does not exist.\n",
    "        filename (str, optional): The name of the JSON file. Defaults to \"gemini_evaluation_report.json\".\n",
    "    \"\"\"\n",
    "    # Combine evaluation results and summary into a single dictionary\n",
    "    output_data = {\n",
    "        \"evaluation_results\": evaluation_results,\n",
    "        \"evaluation_summary\": evaluation_summary\n",
    "    }\n",
    "\n",
    "    # Ensure the output directory exists\n",
    "    try:\n",
    "        os.makedirs(output_dir, exist_ok=True)\n",
    "    except OSError as e:\n",
    "        print(f\"Error creating directory {output_dir}: {e}\")\n",
    "        return\n",
    "\n",
    "    # Construct the full path for the JSON file\n",
    "    file_path = os.path.join(output_dir, filename)\n",
    "\n",
    "    # Write the data to a JSON file\n",
    "    try:\n",
    "        with open(file_path, 'w', encoding='utf-8') as f:\n",
    "            json.dump(output_data, f, indent=4)\n",
    "        print(f\"Successfully wrote evaluation results and summary to {file_path}\")\n",
    "    except IOError as e:\n",
    "        print(f\"Error writing to file {file_path}: {e}\")\n",
    "    except Exception as e:\n",
    "        print(f\"An unexpected error occurred: {e}\")"
   ]
  },
  {
   "cell_type": "code",
   "execution_count": 29,
   "id": "8829b464",
   "metadata": {},
   "outputs": [
    {
     "data": {
      "text/html": [
       "<pre style=\"white-space:pre;overflow-x:auto;line-height:normal;font-family:Menlo,'DejaVu Sans Mono',consolas,'Courier New',monospace\">Successfully wrote evaluation results and summary to .<span style=\"color: #800080; text-decoration-color: #800080\">/Evaluation_Results/</span><span style=\"color: #ff00ff; text-decoration-color: #ff00ff\">qwen2.5-0.5B.json</span>\n",
       "</pre>\n"
      ],
      "text/plain": [
       "Successfully wrote evaluation results and summary to .\u001b[35m/Evaluation_Results/\u001b[0m\u001b[95mqwen2.5-0.5B.json\u001b[0m\n"
      ]
     },
     "metadata": {},
     "output_type": "display_data"
    }
   ],
   "source": [
    "save_evaluation_to_json(\n",
    "    evaluation_results=evaluation_results,\n",
    "    evaluation_summary=evaluation_summary,\n",
    "    output_dir=\"./Evaluation_Results\",\n",
    "    filename=\"qwen2.5-0.5B.json\"\n",
    ")"
   ]
  },
  {
   "cell_type": "code",
   "execution_count": null,
   "id": "b403b71e",
   "metadata": {},
   "outputs": [],
   "source": []
  }
 ],
 "metadata": {
  "kernelspec": {
   "display_name": "Python 3",
   "language": "python",
   "name": "python3"
  },
  "language_info": {
   "codemirror_mode": {
    "name": "ipython",
    "version": 3
   },
   "file_extension": ".py",
   "mimetype": "text/x-python",
   "name": "python",
   "nbconvert_exporter": "python",
   "pygments_lexer": "ipython3",
   "version": "3.10.17"
  }
 },
 "nbformat": 4,
 "nbformat_minor": 5
}
